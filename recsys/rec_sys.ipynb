{
 "cells": [
  {
   "cell_type": "code",
   "execution_count": 1,
   "metadata": {
    "pycharm": {
     "name": "#%%\n"
    }
   },
   "outputs": [],
   "source": [
    "import os\n",
    "import joblib\n",
    "from datetime import datetime\n",
    "from dotenv import load_dotenv\n",
    "\n",
    "import matplotlib.pyplot as plt\n",
    "import mlflow\n",
    "import numpy as np\n",
    "import pandas as pd\n",
    "import scipy\n",
    "import seaborn as sns\n",
    "from catboost import CatBoostClassifier, Pool\n",
    "from implicit.cpu.als import AlternatingLeastSquares\n",
    "from pandas.errors import MergeError\n",
    "from sklearn.preprocessing import LabelEncoder\n",
    "\n",
    "load_dotenv()\n",
    "\n",
    "sns.set_theme()"
   ]
  },
  {
   "cell_type": "code",
   "execution_count": 2,
   "metadata": {
    "pycharm": {
     "name": "#%%\n"
    }
   },
   "outputs": [],
   "source": [
    "DATA = \"../data\"\n",
    "REC_DATA = \"../fastapi_service/recommendations\"\n",
    "POSTGRES_DATA= \"../airflow_service/postgres_data\"\n",
    "ASSETS = \"./assets\"\n",
    "RANDOM_STATE = 123\n",
    "\n",
    "\n",
    "EXPERIMENT_NAME = \"RECSYS_EXP\"\n",
    "TRACKING_SERVER_HOST = \"127.0.0.1\"\n",
    "TRACKING_SERVER_PORT = 5000"
   ]
  },
  {
   "cell_type": "code",
   "execution_count": 3,
   "metadata": {
    "pycharm": {
     "name": "#%%\n"
    }
   },
   "outputs": [],
   "source": [
    "# ASSETS - папка для записи артефактов из ML-flow\n",
    "# REC_DATA - тут будут лежать таблицы с рекомендациями и использоваться в сервисе fastapi\n",
    "# POSTGRES_DATA - тут таблицы с рекомендациями, которые затем будут использоваться в дагах Airflow в airflow_service."
   ]
  },
  {
   "cell_type": "code",
   "execution_count": 4,
   "metadata": {
    "pycharm": {
     "name": "#%%\n"
    }
   },
   "outputs": [],
   "source": [
    "if not os.path.exists(ASSETS):\n",
    "    os.mkdir(ASSETS)\n",
    "    \n",
    "if not os.path.exists(REC_DATA):\n",
    "    os.mkdir(REC_DATA)\n",
    "\n",
    "if not os.path.exists(POSTGRES_DATA):\n",
    "    os.mkdir(POSTGRES_DATA)"
   ]
  },
  {
   "cell_type": "markdown",
   "metadata": {
    "pycharm": {
     "name": "#%% md\n"
    }
   },
   "source": [
    "# MLFLOW"
   ]
  },
  {
   "cell_type": "markdown",
   "metadata": {
    "pycharm": {
     "name": "#%% md\n"
    }
   },
   "source": [
    "- В данном ноутбуке все эксперименты будут логгироваться с помощью mlflow\n",
    "- На данном этапе нужно запутить mlflow как отдельный сервис:\n",
    "    - Выполните команду: `sh recsys/run_mlflow.sh`\n",
    "- Сервис будет доступен по локалхосту и порту 5000 "
   ]
  },
  {
   "cell_type": "code",
   "execution_count": 5,
   "metadata": {
    "pycharm": {
     "name": "#%%\n"
    }
   },
   "outputs": [],
   "source": [
    "os.environ[\"MLFLOW_S3_ENDPOINT_URL\"] = \"https://storage.yandexcloud.net\"\n",
    "os.environ[\"AWS_ACCESS_KEY_ID\"] = os.getenv(\"AWS_ACCESS_KEY_ID\")\n",
    "os.environ[\"AWS_SECRET_ACCESS_KEY\"] = os.getenv(\"AWS_SECRET_ACCESS_KEY\")\n",
    "\n",
    "mlflow.set_tracking_uri(f\"http://{TRACKING_SERVER_HOST}:{TRACKING_SERVER_PORT}\")\n",
    "mlflow.set_registry_uri(f\"http://{TRACKING_SERVER_HOST}:{TRACKING_SERVER_PORT}\")"
   ]
  },
  {
   "cell_type": "code",
   "execution_count": 6,
   "metadata": {
    "pycharm": {
     "name": "#%%\n"
    }
   },
   "outputs": [],
   "source": [
    "# Создадим эксперимент"
   ]
  },
  {
   "cell_type": "code",
   "execution_count": 7,
   "metadata": {
    "pycharm": {
     "name": "#%%\n"
    }
   },
   "outputs": [],
   "source": [
    "experiment = mlflow.get_experiment_by_name(EXPERIMENT_NAME)\n",
    "if not experiment:\n",
    "    experiment_id = mlflow.create_experiment(EXPERIMENT_NAME)\n",
    "else:\n",
    "    experiment_id = experiment.experiment_id"
   ]
  },
  {
   "cell_type": "code",
   "execution_count": 8,
   "metadata": {
    "pycharm": {
     "name": "#%%\n"
    }
   },
   "outputs": [
    {
     "data": {
      "text/plain": [
       "'1'"
      ]
     },
     "execution_count": 8,
     "metadata": {},
     "output_type": "execute_result"
    }
   ],
   "source": [
    "experiment_id"
   ]
  },
  {
   "cell_type": "markdown",
   "metadata": {
    "pycharm": {
     "name": "#%% md\n"
    }
   },
   "source": [
    "# 1. Загрузка исходных данных"
   ]
  },
  {
   "cell_type": "code",
   "execution_count": 9,
   "metadata": {
    "pycharm": {
     "name": "#%%\n"
    }
   },
   "outputs": [],
   "source": [
    "category_tree = pd.read_csv(f\"{DATA}/category_tree.csv\")\n",
    "events = pd.read_csv(f\"{DATA}/events.csv\")\n",
    "item_props_1 = pd.read_csv(f\"{DATA}/item_properties_part1.csv\")\n",
    "item_props_2 = pd.read_csv(f\"{DATA}/item_properties_part2.csv\")"
   ]
  },
  {
   "cell_type": "markdown",
   "metadata": {
    "pycharm": {
     "name": "#%% md\n"
    }
   },
   "source": [
    "# 2. Исследование данных"
   ]
  },
  {
   "cell_type": "markdown",
   "metadata": {
    "pycharm": {
     "name": "#%% md\n"
    }
   },
   "source": [
    "### 2.1. category_tree"
   ]
  },
  {
   "cell_type": "code",
   "execution_count": 10,
   "metadata": {
    "pycharm": {
     "name": "#%%\n"
    }
   },
   "outputs": [
    {
     "data": {
      "text/html": [
       "<div>\n",
       "<style scoped>\n",
       "    .dataframe tbody tr th:only-of-type {\n",
       "        vertical-align: middle;\n",
       "    }\n",
       "\n",
       "    .dataframe tbody tr th {\n",
       "        vertical-align: top;\n",
       "    }\n",
       "\n",
       "    .dataframe thead th {\n",
       "        text-align: right;\n",
       "    }\n",
       "</style>\n",
       "<table border=\"1\" class=\"dataframe\">\n",
       "  <thead>\n",
       "    <tr style=\"text-align: right;\">\n",
       "      <th></th>\n",
       "      <th>categoryid</th>\n",
       "      <th>parentid</th>\n",
       "    </tr>\n",
       "  </thead>\n",
       "  <tbody>\n",
       "    <tr>\n",
       "      <th>0</th>\n",
       "      <td>1016</td>\n",
       "      <td>213.0</td>\n",
       "    </tr>\n",
       "    <tr>\n",
       "      <th>1</th>\n",
       "      <td>809</td>\n",
       "      <td>169.0</td>\n",
       "    </tr>\n",
       "    <tr>\n",
       "      <th>2</th>\n",
       "      <td>570</td>\n",
       "      <td>9.0</td>\n",
       "    </tr>\n",
       "    <tr>\n",
       "      <th>3</th>\n",
       "      <td>1691</td>\n",
       "      <td>885.0</td>\n",
       "    </tr>\n",
       "    <tr>\n",
       "      <th>4</th>\n",
       "      <td>536</td>\n",
       "      <td>1691.0</td>\n",
       "    </tr>\n",
       "  </tbody>\n",
       "</table>\n",
       "</div>"
      ],
      "text/plain": [
       "   categoryid  parentid\n",
       "0        1016     213.0\n",
       "1         809     169.0\n",
       "2         570       9.0\n",
       "3        1691     885.0\n",
       "4         536    1691.0"
      ]
     },
     "execution_count": 10,
     "metadata": {},
     "output_type": "execute_result"
    }
   ],
   "source": [
    "category_tree.head()"
   ]
  },
  {
   "cell_type": "code",
   "execution_count": 11,
   "metadata": {
    "pycharm": {
     "name": "#%%\n"
    }
   },
   "outputs": [
    {
     "name": "stdout",
     "output_type": "stream",
     "text": [
      "<class 'pandas.core.frame.DataFrame'>\n",
      "RangeIndex: 1669 entries, 0 to 1668\n",
      "Data columns (total 2 columns):\n",
      " #   Column      Non-Null Count  Dtype  \n",
      "---  ------      --------------  -----  \n",
      " 0   categoryid  1669 non-null   int64  \n",
      " 1   parentid    1644 non-null   float64\n",
      "dtypes: float64(1), int64(1)\n",
      "memory usage: 26.2 KB\n"
     ]
    }
   ],
   "source": [
    "category_tree.info()"
   ]
  },
  {
   "cell_type": "markdown",
   "metadata": {
    "pycharm": {
     "name": "#%% md\n"
    }
   },
   "source": [
    "таблица из двух столбцов: «родительская категория» и «дочерняя категория». Типичный способ представления таблицы в виде дерева."
   ]
  },
  {
   "cell_type": "code",
   "execution_count": 12,
   "metadata": {
    "pycharm": {
     "name": "#%%\n"
    }
   },
   "outputs": [
    {
     "data": {
      "text/html": [
       "<div>\n",
       "<style scoped>\n",
       "    .dataframe tbody tr th:only-of-type {\n",
       "        vertical-align: middle;\n",
       "    }\n",
       "\n",
       "    .dataframe tbody tr th {\n",
       "        vertical-align: top;\n",
       "    }\n",
       "\n",
       "    .dataframe thead th {\n",
       "        text-align: right;\n",
       "    }\n",
       "</style>\n",
       "<table border=\"1\" class=\"dataframe\">\n",
       "  <thead>\n",
       "    <tr style=\"text-align: right;\">\n",
       "      <th></th>\n",
       "      <th>categoryid</th>\n",
       "      <th>parentid</th>\n",
       "    </tr>\n",
       "  </thead>\n",
       "  <tbody>\n",
       "    <tr>\n",
       "      <th>292</th>\n",
       "      <td>1083</td>\n",
       "      <td>594.0</td>\n",
       "    </tr>\n",
       "    <tr>\n",
       "      <th>703</th>\n",
       "      <td>686</td>\n",
       "      <td>594.0</td>\n",
       "    </tr>\n",
       "    <tr>\n",
       "      <th>1098</th>\n",
       "      <td>1493</td>\n",
       "      <td>594.0</td>\n",
       "    </tr>\n",
       "    <tr>\n",
       "      <th>1099</th>\n",
       "      <td>960</td>\n",
       "      <td>594.0</td>\n",
       "    </tr>\n",
       "  </tbody>\n",
       "</table>\n",
       "</div>"
      ],
      "text/plain": [
       "      categoryid  parentid\n",
       "292         1083     594.0\n",
       "703          686     594.0\n",
       "1098        1493     594.0\n",
       "1099         960     594.0"
      ]
     },
     "execution_count": 12,
     "metadata": {},
     "output_type": "execute_result"
    }
   ],
   "source": [
    "# посомтрим на любую родительскую категорию\n",
    "random_parentid = category_tree.sample(1)['parentid'].values[0]\n",
    "category_tree[category_tree['parentid'] == random_parentid]"
   ]
  },
  {
   "cell_type": "code",
   "execution_count": 13,
   "metadata": {
    "pycharm": {
     "name": "#%%\n"
    }
   },
   "outputs": [
    {
     "name": "stdout",
     "output_type": "stream",
     "text": [
      "Количество уникальных категорий:  1669\n",
      "Количество уникальных родительских категорий:  362\n"
     ]
    }
   ],
   "source": [
    "cat_ids_unique = category_tree.categoryid.nunique()\n",
    "par_ids_unique = category_tree.parentid.nunique()\n",
    "\n",
    "print(\"Количество уникальных категорий: \", cat_ids_unique)\n",
    "print(\"Количество уникальных родительских категорий: \", par_ids_unique)"
   ]
  },
  {
   "cell_type": "code",
   "execution_count": 14,
   "metadata": {
    "pycharm": {
     "name": "#%%\n"
    }
   },
   "outputs": [
    {
     "data": {
      "text/plain": [
       "categoryid     0\n",
       "parentid      25\n",
       "dtype: int64"
      ]
     },
     "execution_count": 14,
     "metadata": {},
     "output_type": "execute_result"
    }
   ],
   "source": [
    "category_tree.isnull().sum()"
   ]
  },
  {
   "cell_type": "markdown",
   "metadata": {
    "pycharm": {
     "name": "#%% md\n"
    }
   },
   "source": [
    "Некоторые категории не имеют родительских категорий, что может означать, что такие категории являются самими группами и, следовательно, не имеют более высокой классификации."
   ]
  },
  {
   "cell_type": "code",
   "execution_count": 15,
   "metadata": {
    "pycharm": {
     "name": "#%%\n"
    }
   },
   "outputs": [
    {
     "data": {
      "text/html": [
       "<div>\n",
       "<style scoped>\n",
       "    .dataframe tbody tr th:only-of-type {\n",
       "        vertical-align: middle;\n",
       "    }\n",
       "\n",
       "    .dataframe tbody tr th {\n",
       "        vertical-align: top;\n",
       "    }\n",
       "\n",
       "    .dataframe thead th {\n",
       "        text-align: right;\n",
       "    }\n",
       "</style>\n",
       "<table border=\"1\" class=\"dataframe\">\n",
       "  <thead>\n",
       "    <tr style=\"text-align: right;\">\n",
       "      <th></th>\n",
       "      <th>categoryid</th>\n",
       "      <th>parentid</th>\n",
       "    </tr>\n",
       "  </thead>\n",
       "  <tbody>\n",
       "    <tr>\n",
       "      <th>5</th>\n",
       "      <td>231</td>\n",
       "      <td>NaN</td>\n",
       "    </tr>\n",
       "    <tr>\n",
       "      <th>589</th>\n",
       "      <td>791</td>\n",
       "      <td>NaN</td>\n",
       "    </tr>\n",
       "    <tr>\n",
       "      <th>861</th>\n",
       "      <td>1490</td>\n",
       "      <td>NaN</td>\n",
       "    </tr>\n",
       "    <tr>\n",
       "      <th>939</th>\n",
       "      <td>431</td>\n",
       "      <td>NaN</td>\n",
       "    </tr>\n",
       "    <tr>\n",
       "      <th>1111</th>\n",
       "      <td>755</td>\n",
       "      <td>NaN</td>\n",
       "    </tr>\n",
       "    <tr>\n",
       "      <th>1142</th>\n",
       "      <td>378</td>\n",
       "      <td>NaN</td>\n",
       "    </tr>\n",
       "    <tr>\n",
       "      <th>1208</th>\n",
       "      <td>1579</td>\n",
       "      <td>NaN</td>\n",
       "    </tr>\n",
       "    <tr>\n",
       "      <th>1211</th>\n",
       "      <td>1394</td>\n",
       "      <td>NaN</td>\n",
       "    </tr>\n",
       "    <tr>\n",
       "      <th>1322</th>\n",
       "      <td>659</td>\n",
       "      <td>NaN</td>\n",
       "    </tr>\n",
       "    <tr>\n",
       "      <th>1329</th>\n",
       "      <td>1057</td>\n",
       "      <td>NaN</td>\n",
       "    </tr>\n",
       "    <tr>\n",
       "      <th>1375</th>\n",
       "      <td>859</td>\n",
       "      <td>NaN</td>\n",
       "    </tr>\n",
       "    <tr>\n",
       "      <th>1392</th>\n",
       "      <td>803</td>\n",
       "      <td>NaN</td>\n",
       "    </tr>\n",
       "    <tr>\n",
       "      <th>1395</th>\n",
       "      <td>250</td>\n",
       "      <td>NaN</td>\n",
       "    </tr>\n",
       "    <tr>\n",
       "      <th>1476</th>\n",
       "      <td>1452</td>\n",
       "      <td>NaN</td>\n",
       "    </tr>\n",
       "    <tr>\n",
       "      <th>1484</th>\n",
       "      <td>1182</td>\n",
       "      <td>NaN</td>\n",
       "    </tr>\n",
       "    <tr>\n",
       "      <th>1490</th>\n",
       "      <td>1692</td>\n",
       "      <td>NaN</td>\n",
       "    </tr>\n",
       "    <tr>\n",
       "      <th>1614</th>\n",
       "      <td>1600</td>\n",
       "      <td>NaN</td>\n",
       "    </tr>\n",
       "    <tr>\n",
       "      <th>1616</th>\n",
       "      <td>1482</td>\n",
       "      <td>NaN</td>\n",
       "    </tr>\n",
       "    <tr>\n",
       "      <th>1622</th>\n",
       "      <td>1224</td>\n",
       "      <td>NaN</td>\n",
       "    </tr>\n",
       "    <tr>\n",
       "      <th>1623</th>\n",
       "      <td>1532</td>\n",
       "      <td>NaN</td>\n",
       "    </tr>\n",
       "    <tr>\n",
       "      <th>1624</th>\n",
       "      <td>395</td>\n",
       "      <td>NaN</td>\n",
       "    </tr>\n",
       "    <tr>\n",
       "      <th>1628</th>\n",
       "      <td>653</td>\n",
       "      <td>NaN</td>\n",
       "    </tr>\n",
       "    <tr>\n",
       "      <th>1629</th>\n",
       "      <td>140</td>\n",
       "      <td>NaN</td>\n",
       "    </tr>\n",
       "    <tr>\n",
       "      <th>1650</th>\n",
       "      <td>1698</td>\n",
       "      <td>NaN</td>\n",
       "    </tr>\n",
       "    <tr>\n",
       "      <th>1657</th>\n",
       "      <td>679</td>\n",
       "      <td>NaN</td>\n",
       "    </tr>\n",
       "  </tbody>\n",
       "</table>\n",
       "</div>"
      ],
      "text/plain": [
       "      categoryid  parentid\n",
       "5            231       NaN\n",
       "589          791       NaN\n",
       "861         1490       NaN\n",
       "939          431       NaN\n",
       "1111         755       NaN\n",
       "1142         378       NaN\n",
       "1208        1579       NaN\n",
       "1211        1394       NaN\n",
       "1322         659       NaN\n",
       "1329        1057       NaN\n",
       "1375         859       NaN\n",
       "1392         803       NaN\n",
       "1395         250       NaN\n",
       "1476        1452       NaN\n",
       "1484        1182       NaN\n",
       "1490        1692       NaN\n",
       "1614        1600       NaN\n",
       "1616        1482       NaN\n",
       "1622        1224       NaN\n",
       "1623        1532       NaN\n",
       "1624         395       NaN\n",
       "1628         653       NaN\n",
       "1629         140       NaN\n",
       "1650        1698       NaN\n",
       "1657         679       NaN"
      ]
     },
     "execution_count": 15,
     "metadata": {},
     "output_type": "execute_result"
    }
   ],
   "source": [
    "category_tree[category_tree.parentid.isnull()]"
   ]
  },
  {
   "cell_type": "code",
   "execution_count": 16,
   "metadata": {
    "pycharm": {
     "name": "#%%\n"
    }
   },
   "outputs": [],
   "source": [
    "# еще посомтрим на топ 10 самых частотных категорий"
   ]
  },
  {
   "cell_type": "code",
   "execution_count": 17,
   "metadata": {
    "pycharm": {
     "name": "#%%\n"
    }
   },
   "outputs": [
    {
     "data": {
      "text/html": [
       "<div>\n",
       "<style scoped>\n",
       "    .dataframe tbody tr th:only-of-type {\n",
       "        vertical-align: middle;\n",
       "    }\n",
       "\n",
       "    .dataframe tbody tr th {\n",
       "        vertical-align: top;\n",
       "    }\n",
       "\n",
       "    .dataframe thead th {\n",
       "        text-align: right;\n",
       "    }\n",
       "</style>\n",
       "<table border=\"1\" class=\"dataframe\">\n",
       "  <thead>\n",
       "    <tr style=\"text-align: right;\">\n",
       "      <th></th>\n",
       "      <th>parentid</th>\n",
       "      <th>categoryid</th>\n",
       "    </tr>\n",
       "  </thead>\n",
       "  <tbody>\n",
       "    <tr>\n",
       "      <th>0</th>\n",
       "      <td>250.0</td>\n",
       "      <td>31</td>\n",
       "    </tr>\n",
       "    <tr>\n",
       "      <th>1</th>\n",
       "      <td>1009.0</td>\n",
       "      <td>22</td>\n",
       "    </tr>\n",
       "    <tr>\n",
       "      <th>2</th>\n",
       "      <td>362.0</td>\n",
       "      <td>22</td>\n",
       "    </tr>\n",
       "    <tr>\n",
       "      <th>3</th>\n",
       "      <td>351.0</td>\n",
       "      <td>19</td>\n",
       "    </tr>\n",
       "    <tr>\n",
       "      <th>4</th>\n",
       "      <td>1259.0</td>\n",
       "      <td>18</td>\n",
       "    </tr>\n",
       "    <tr>\n",
       "      <th>5</th>\n",
       "      <td>1687.0</td>\n",
       "      <td>17</td>\n",
       "    </tr>\n",
       "    <tr>\n",
       "      <th>6</th>\n",
       "      <td>945.0</td>\n",
       "      <td>15</td>\n",
       "    </tr>\n",
       "    <tr>\n",
       "      <th>7</th>\n",
       "      <td>312.0</td>\n",
       "      <td>15</td>\n",
       "    </tr>\n",
       "    <tr>\n",
       "      <th>8</th>\n",
       "      <td>92.0</td>\n",
       "      <td>13</td>\n",
       "    </tr>\n",
       "    <tr>\n",
       "      <th>9</th>\n",
       "      <td>1482.0</td>\n",
       "      <td>13</td>\n",
       "    </tr>\n",
       "  </tbody>\n",
       "</table>\n",
       "</div>"
      ],
      "text/plain": [
       "   parentid  categoryid\n",
       "0     250.0          31\n",
       "1    1009.0          22\n",
       "2     362.0          22\n",
       "3     351.0          19\n",
       "4    1259.0          18\n",
       "5    1687.0          17\n",
       "6     945.0          15\n",
       "7     312.0          15\n",
       "8      92.0          13\n",
       "9    1482.0          13"
      ]
     },
     "execution_count": 17,
     "metadata": {},
     "output_type": "execute_result"
    }
   ],
   "source": [
    "category_tree \\\n",
    "            .groupby(\"parentid\") \\\n",
    "            .agg({\"categoryid\": \"count\"}) \\\n",
    "            .sort_values(by=\"categoryid\", ascending=False) \\\n",
    "            .reset_index() \\\n",
    "            .head(10)"
   ]
  },
  {
   "cell_type": "markdown",
   "metadata": {
    "pycharm": {
     "name": "#%% md\n"
    }
   },
   "source": [
    "### 2.2. events"
   ]
  },
  {
   "cell_type": "markdown",
   "metadata": {
    "pycharm": {
     "name": "#%% md\n"
    }
   },
   "source": [
    "events.csv — таблица с логом событий:\n",
    "- timestamp — временная метка события,\n",
    "- visitorid — идентификатор пользователя,\n",
    "- event — событие (просмотр, добавление в корзину, покупка),\n",
    "- itemid — идентификатор товара,\n",
    "- transactionid — идентификатор транзакции (покупки)."
   ]
  },
  {
   "cell_type": "code",
   "execution_count": 18,
   "metadata": {
    "pycharm": {
     "name": "#%%\n"
    }
   },
   "outputs": [
    {
     "name": "stdout",
     "output_type": "stream",
     "text": [
      "<class 'pandas.core.frame.DataFrame'>\n",
      "RangeIndex: 2756101 entries, 0 to 2756100\n",
      "Data columns (total 5 columns):\n",
      " #   Column         Dtype  \n",
      "---  ------         -----  \n",
      " 0   timestamp      int64  \n",
      " 1   visitorid      int64  \n",
      " 2   event          object \n",
      " 3   itemid         int64  \n",
      " 4   transactionid  float64\n",
      "dtypes: float64(1), int64(3), object(1)\n",
      "memory usage: 244.9 MB\n"
     ]
    }
   ],
   "source": [
    "events.info(memory_usage=\"deep\")"
   ]
  },
  {
   "cell_type": "code",
   "execution_count": 19,
   "metadata": {
    "pycharm": {
     "name": "#%%\n"
    }
   },
   "outputs": [
    {
     "data": {
      "text/html": [
       "<div>\n",
       "<style scoped>\n",
       "    .dataframe tbody tr th:only-of-type {\n",
       "        vertical-align: middle;\n",
       "    }\n",
       "\n",
       "    .dataframe tbody tr th {\n",
       "        vertical-align: top;\n",
       "    }\n",
       "\n",
       "    .dataframe thead th {\n",
       "        text-align: right;\n",
       "    }\n",
       "</style>\n",
       "<table border=\"1\" class=\"dataframe\">\n",
       "  <thead>\n",
       "    <tr style=\"text-align: right;\">\n",
       "      <th></th>\n",
       "      <th>timestamp</th>\n",
       "      <th>visitorid</th>\n",
       "      <th>event</th>\n",
       "      <th>itemid</th>\n",
       "      <th>transactionid</th>\n",
       "    </tr>\n",
       "  </thead>\n",
       "  <tbody>\n",
       "    <tr>\n",
       "      <th>1429401</th>\n",
       "      <td>1442327725934</td>\n",
       "      <td>173863</td>\n",
       "      <td>view</td>\n",
       "      <td>389088</td>\n",
       "      <td>NaN</td>\n",
       "    </tr>\n",
       "    <tr>\n",
       "      <th>1530076</th>\n",
       "      <td>1430965411084</td>\n",
       "      <td>356490</td>\n",
       "      <td>view</td>\n",
       "      <td>123636</td>\n",
       "      <td>NaN</td>\n",
       "    </tr>\n",
       "    <tr>\n",
       "      <th>2421824</th>\n",
       "      <td>1437177437566</td>\n",
       "      <td>635017</td>\n",
       "      <td>view</td>\n",
       "      <td>230207</td>\n",
       "      <td>NaN</td>\n",
       "    </tr>\n",
       "    <tr>\n",
       "      <th>1155638</th>\n",
       "      <td>1441081700272</td>\n",
       "      <td>946197</td>\n",
       "      <td>view</td>\n",
       "      <td>22223</td>\n",
       "      <td>NaN</td>\n",
       "    </tr>\n",
       "    <tr>\n",
       "      <th>2092573</th>\n",
       "      <td>1435849354136</td>\n",
       "      <td>1202783</td>\n",
       "      <td>view</td>\n",
       "      <td>393511</td>\n",
       "      <td>NaN</td>\n",
       "    </tr>\n",
       "    <tr>\n",
       "      <th>299357</th>\n",
       "      <td>1434308051658</td>\n",
       "      <td>110035</td>\n",
       "      <td>view</td>\n",
       "      <td>53898</td>\n",
       "      <td>NaN</td>\n",
       "    </tr>\n",
       "    <tr>\n",
       "      <th>495911</th>\n",
       "      <td>1435246376638</td>\n",
       "      <td>723804</td>\n",
       "      <td>view</td>\n",
       "      <td>244871</td>\n",
       "      <td>NaN</td>\n",
       "    </tr>\n",
       "    <tr>\n",
       "      <th>1895852</th>\n",
       "      <td>1432406060699</td>\n",
       "      <td>938134</td>\n",
       "      <td>view</td>\n",
       "      <td>384319</td>\n",
       "      <td>NaN</td>\n",
       "    </tr>\n",
       "    <tr>\n",
       "      <th>1400402</th>\n",
       "      <td>1442203721319</td>\n",
       "      <td>1079989</td>\n",
       "      <td>view</td>\n",
       "      <td>423162</td>\n",
       "      <td>NaN</td>\n",
       "    </tr>\n",
       "    <tr>\n",
       "      <th>2137542</th>\n",
       "      <td>1436152492991</td>\n",
       "      <td>473486</td>\n",
       "      <td>view</td>\n",
       "      <td>332080</td>\n",
       "      <td>NaN</td>\n",
       "    </tr>\n",
       "  </tbody>\n",
       "</table>\n",
       "</div>"
      ],
      "text/plain": [
       "             timestamp  visitorid event  itemid  transactionid\n",
       "1429401  1442327725934     173863  view  389088            NaN\n",
       "1530076  1430965411084     356490  view  123636            NaN\n",
       "2421824  1437177437566     635017  view  230207            NaN\n",
       "1155638  1441081700272     946197  view   22223            NaN\n",
       "2092573  1435849354136    1202783  view  393511            NaN\n",
       "299357   1434308051658     110035  view   53898            NaN\n",
       "495911   1435246376638     723804  view  244871            NaN\n",
       "1895852  1432406060699     938134  view  384319            NaN\n",
       "1400402  1442203721319    1079989  view  423162            NaN\n",
       "2137542  1436152492991     473486  view  332080            NaN"
      ]
     },
     "execution_count": 19,
     "metadata": {},
     "output_type": "execute_result"
    }
   ],
   "source": [
    "events.sample(10)"
   ]
  },
  {
   "cell_type": "code",
   "execution_count": 20,
   "metadata": {
    "pycharm": {
     "name": "#%%\n"
    }
   },
   "outputs": [
    {
     "name": "stdout",
     "output_type": "stream",
     "text": [
      "История насчитывает 2756101 событий пользователей\n"
     ]
    }
   ],
   "source": [
    "print(f\"История насчитывает {events.shape[0]} событий пользователей\")"
   ]
  },
  {
   "cell_type": "code",
   "execution_count": 21,
   "metadata": {
    "pycharm": {
     "name": "#%%\n"
    }
   },
   "outputs": [],
   "source": [
    "# Посмотрим пример"
   ]
  },
  {
   "cell_type": "code",
   "execution_count": 22,
   "metadata": {
    "pycharm": {
     "name": "#%%\n"
    }
   },
   "outputs": [
    {
     "data": {
      "text/html": [
       "<div>\n",
       "<style scoped>\n",
       "    .dataframe tbody tr th:only-of-type {\n",
       "        vertical-align: middle;\n",
       "    }\n",
       "\n",
       "    .dataframe tbody tr th {\n",
       "        vertical-align: top;\n",
       "    }\n",
       "\n",
       "    .dataframe thead th {\n",
       "        text-align: right;\n",
       "    }\n",
       "</style>\n",
       "<table border=\"1\" class=\"dataframe\">\n",
       "  <thead>\n",
       "    <tr style=\"text-align: right;\">\n",
       "      <th></th>\n",
       "      <th>timestamp</th>\n",
       "      <th>visitorid</th>\n",
       "      <th>event</th>\n",
       "      <th>itemid</th>\n",
       "      <th>transactionid</th>\n",
       "    </tr>\n",
       "  </thead>\n",
       "  <tbody>\n",
       "    <tr>\n",
       "      <th>664356</th>\n",
       "      <td>1438727869018</td>\n",
       "      <td>861299</td>\n",
       "      <td>view</td>\n",
       "      <td>269940</td>\n",
       "      <td>NaN</td>\n",
       "    </tr>\n",
       "    <tr>\n",
       "      <th>664410</th>\n",
       "      <td>1438730178358</td>\n",
       "      <td>861299</td>\n",
       "      <td>view</td>\n",
       "      <td>360922</td>\n",
       "      <td>NaN</td>\n",
       "    </tr>\n",
       "    <tr>\n",
       "      <th>664537</th>\n",
       "      <td>1438727967552</td>\n",
       "      <td>861299</td>\n",
       "      <td>view</td>\n",
       "      <td>239538</td>\n",
       "      <td>NaN</td>\n",
       "    </tr>\n",
       "    <tr>\n",
       "      <th>664606</th>\n",
       "      <td>1438722085310</td>\n",
       "      <td>861299</td>\n",
       "      <td>view</td>\n",
       "      <td>16789</td>\n",
       "      <td>NaN</td>\n",
       "    </tr>\n",
       "    <tr>\n",
       "      <th>664677</th>\n",
       "      <td>1438720685254</td>\n",
       "      <td>861299</td>\n",
       "      <td>view</td>\n",
       "      <td>180684</td>\n",
       "      <td>NaN</td>\n",
       "    </tr>\n",
       "    <tr>\n",
       "      <th>...</th>\n",
       "      <td>...</td>\n",
       "      <td>...</td>\n",
       "      <td>...</td>\n",
       "      <td>...</td>\n",
       "      <td>...</td>\n",
       "    </tr>\n",
       "    <tr>\n",
       "      <th>2755349</th>\n",
       "      <td>1438379878779</td>\n",
       "      <td>861299</td>\n",
       "      <td>transaction</td>\n",
       "      <td>456602</td>\n",
       "      <td>3643.0</td>\n",
       "    </tr>\n",
       "    <tr>\n",
       "      <th>2755390</th>\n",
       "      <td>1438379771868</td>\n",
       "      <td>861299</td>\n",
       "      <td>view</td>\n",
       "      <td>313230</td>\n",
       "      <td>NaN</td>\n",
       "    </tr>\n",
       "    <tr>\n",
       "      <th>2755392</th>\n",
       "      <td>1438380430262</td>\n",
       "      <td>861299</td>\n",
       "      <td>view</td>\n",
       "      <td>441852</td>\n",
       "      <td>NaN</td>\n",
       "    </tr>\n",
       "    <tr>\n",
       "      <th>2755552</th>\n",
       "      <td>1438356834160</td>\n",
       "      <td>861299</td>\n",
       "      <td>addtocart</td>\n",
       "      <td>411482</td>\n",
       "      <td>NaN</td>\n",
       "    </tr>\n",
       "    <tr>\n",
       "      <th>2755581</th>\n",
       "      <td>1438355580762</td>\n",
       "      <td>861299</td>\n",
       "      <td>view</td>\n",
       "      <td>110018</td>\n",
       "      <td>NaN</td>\n",
       "    </tr>\n",
       "  </tbody>\n",
       "</table>\n",
       "<p>1991 rows × 5 columns</p>\n",
       "</div>"
      ],
      "text/plain": [
       "             timestamp  visitorid        event  itemid  transactionid\n",
       "664356   1438727869018     861299         view  269940            NaN\n",
       "664410   1438730178358     861299         view  360922            NaN\n",
       "664537   1438727967552     861299         view  239538            NaN\n",
       "664606   1438722085310     861299         view   16789            NaN\n",
       "664677   1438720685254     861299         view  180684            NaN\n",
       "...                ...        ...          ...     ...            ...\n",
       "2755349  1438379878779     861299  transaction  456602         3643.0\n",
       "2755390  1438379771868     861299         view  313230            NaN\n",
       "2755392  1438380430262     861299         view  441852            NaN\n",
       "2755552  1438356834160     861299    addtocart  411482            NaN\n",
       "2755581  1438355580762     861299         view  110018            NaN\n",
       "\n",
       "[1991 rows x 5 columns]"
      ]
     },
     "execution_count": 22,
     "metadata": {},
     "output_type": "execute_result"
    }
   ],
   "source": [
    "random_visitor = events.sample(1)['visitorid'].values[0]\n",
    "events[events['visitorid'] == random_visitor]"
   ]
  },
  {
   "cell_type": "code",
   "execution_count": 23,
   "metadata": {
    "pycharm": {
     "name": "#%%\n"
    }
   },
   "outputs": [],
   "source": [
    "# посмотрим какие ивенты вообще есть"
   ]
  },
  {
   "cell_type": "code",
   "execution_count": 24,
   "metadata": {
    "pycharm": {
     "name": "#%%\n"
    }
   },
   "outputs": [
    {
     "data": {
      "text/plain": [
       "event\n",
       "view           0.966696\n",
       "addtocart      0.025156\n",
       "transaction    0.008148\n",
       "Name: proportion, dtype: float64"
      ]
     },
     "execution_count": 24,
     "metadata": {},
     "output_type": "execute_result"
    }
   ],
   "source": [
    "events['event'].value_counts(0.1)"
   ]
  },
  {
   "cell_type": "code",
   "execution_count": 25,
   "metadata": {
    "pycharm": {
     "name": "#%%\n"
    }
   },
   "outputs": [],
   "source": [
    "# посмотрим транзакции"
   ]
  },
  {
   "cell_type": "code",
   "execution_count": 26,
   "metadata": {
    "pycharm": {
     "name": "#%%\n"
    }
   },
   "outputs": [
    {
     "data": {
      "text/html": [
       "<div>\n",
       "<style scoped>\n",
       "    .dataframe tbody tr th:only-of-type {\n",
       "        vertical-align: middle;\n",
       "    }\n",
       "\n",
       "    .dataframe tbody tr th {\n",
       "        vertical-align: top;\n",
       "    }\n",
       "\n",
       "    .dataframe thead th {\n",
       "        text-align: right;\n",
       "    }\n",
       "</style>\n",
       "<table border=\"1\" class=\"dataframe\">\n",
       "  <thead>\n",
       "    <tr style=\"text-align: right;\">\n",
       "      <th></th>\n",
       "      <th>timestamp</th>\n",
       "      <th>visitorid</th>\n",
       "      <th>event</th>\n",
       "      <th>itemid</th>\n",
       "      <th>transactionid</th>\n",
       "    </tr>\n",
       "  </thead>\n",
       "  <tbody>\n",
       "    <tr>\n",
       "      <th>130</th>\n",
       "      <td>1433222276276</td>\n",
       "      <td>599528</td>\n",
       "      <td>transaction</td>\n",
       "      <td>356475</td>\n",
       "      <td>4000.0</td>\n",
       "    </tr>\n",
       "    <tr>\n",
       "      <th>304</th>\n",
       "      <td>1433193500981</td>\n",
       "      <td>121688</td>\n",
       "      <td>transaction</td>\n",
       "      <td>15335</td>\n",
       "      <td>11117.0</td>\n",
       "    </tr>\n",
       "    <tr>\n",
       "      <th>418</th>\n",
       "      <td>1433193915008</td>\n",
       "      <td>552148</td>\n",
       "      <td>transaction</td>\n",
       "      <td>81345</td>\n",
       "      <td>5444.0</td>\n",
       "    </tr>\n",
       "    <tr>\n",
       "      <th>814</th>\n",
       "      <td>1433176736375</td>\n",
       "      <td>102019</td>\n",
       "      <td>transaction</td>\n",
       "      <td>150318</td>\n",
       "      <td>13556.0</td>\n",
       "    </tr>\n",
       "    <tr>\n",
       "      <th>843</th>\n",
       "      <td>1433174518180</td>\n",
       "      <td>189384</td>\n",
       "      <td>transaction</td>\n",
       "      <td>310791</td>\n",
       "      <td>7244.0</td>\n",
       "    </tr>\n",
       "    <tr>\n",
       "      <th>...</th>\n",
       "      <td>...</td>\n",
       "      <td>...</td>\n",
       "      <td>...</td>\n",
       "      <td>...</td>\n",
       "      <td>...</td>\n",
       "    </tr>\n",
       "    <tr>\n",
       "      <th>2755294</th>\n",
       "      <td>1438377176570</td>\n",
       "      <td>1050575</td>\n",
       "      <td>transaction</td>\n",
       "      <td>31640</td>\n",
       "      <td>8354.0</td>\n",
       "    </tr>\n",
       "    <tr>\n",
       "      <th>2755349</th>\n",
       "      <td>1438379878779</td>\n",
       "      <td>861299</td>\n",
       "      <td>transaction</td>\n",
       "      <td>456602</td>\n",
       "      <td>3643.0</td>\n",
       "    </tr>\n",
       "    <tr>\n",
       "      <th>2755508</th>\n",
       "      <td>1438357730123</td>\n",
       "      <td>855941</td>\n",
       "      <td>transaction</td>\n",
       "      <td>235771</td>\n",
       "      <td>4385.0</td>\n",
       "    </tr>\n",
       "    <tr>\n",
       "      <th>2755603</th>\n",
       "      <td>1438355560300</td>\n",
       "      <td>548772</td>\n",
       "      <td>transaction</td>\n",
       "      <td>29167</td>\n",
       "      <td>13872.0</td>\n",
       "    </tr>\n",
       "    <tr>\n",
       "      <th>2755607</th>\n",
       "      <td>1438358989163</td>\n",
       "      <td>1051054</td>\n",
       "      <td>transaction</td>\n",
       "      <td>312728</td>\n",
       "      <td>17579.0</td>\n",
       "    </tr>\n",
       "  </tbody>\n",
       "</table>\n",
       "<p>22457 rows × 5 columns</p>\n",
       "</div>"
      ],
      "text/plain": [
       "             timestamp  visitorid        event  itemid  transactionid\n",
       "130      1433222276276     599528  transaction  356475         4000.0\n",
       "304      1433193500981     121688  transaction   15335        11117.0\n",
       "418      1433193915008     552148  transaction   81345         5444.0\n",
       "814      1433176736375     102019  transaction  150318        13556.0\n",
       "843      1433174518180     189384  transaction  310791         7244.0\n",
       "...                ...        ...          ...     ...            ...\n",
       "2755294  1438377176570    1050575  transaction   31640         8354.0\n",
       "2755349  1438379878779     861299  transaction  456602         3643.0\n",
       "2755508  1438357730123     855941  transaction  235771         4385.0\n",
       "2755603  1438355560300     548772  transaction   29167        13872.0\n",
       "2755607  1438358989163    1051054  transaction  312728        17579.0\n",
       "\n",
       "[22457 rows x 5 columns]"
      ]
     },
     "execution_count": 26,
     "metadata": {},
     "output_type": "execute_result"
    }
   ],
   "source": [
    "events[~events.transactionid.isna()]"
   ]
  },
  {
   "cell_type": "code",
   "execution_count": 27,
   "metadata": {
    "pycharm": {
     "name": "#%%\n"
    }
   },
   "outputs": [
    {
     "data": {
      "text/html": [
       "<div>\n",
       "<style scoped>\n",
       "    .dataframe tbody tr th:only-of-type {\n",
       "        vertical-align: middle;\n",
       "    }\n",
       "\n",
       "    .dataframe tbody tr th {\n",
       "        vertical-align: top;\n",
       "    }\n",
       "\n",
       "    .dataframe thead th {\n",
       "        text-align: right;\n",
       "    }\n",
       "</style>\n",
       "<table border=\"1\" class=\"dataframe\">\n",
       "  <thead>\n",
       "    <tr style=\"text-align: right;\">\n",
       "      <th></th>\n",
       "      <th>timestamp</th>\n",
       "      <th>visitorid</th>\n",
       "      <th>event</th>\n",
       "      <th>itemid</th>\n",
       "      <th>transactionid</th>\n",
       "    </tr>\n",
       "  </thead>\n",
       "  <tbody>\n",
       "    <tr>\n",
       "      <th>112</th>\n",
       "      <td>1433221941632</td>\n",
       "      <td>599528</td>\n",
       "      <td>addtocart</td>\n",
       "      <td>356475</td>\n",
       "      <td>NaN</td>\n",
       "    </tr>\n",
       "    <tr>\n",
       "      <th>130</th>\n",
       "      <td>1433222276276</td>\n",
       "      <td>599528</td>\n",
       "      <td>transaction</td>\n",
       "      <td>356475</td>\n",
       "      <td>4000.0</td>\n",
       "    </tr>\n",
       "    <tr>\n",
       "      <th>16729</th>\n",
       "      <td>1433221896102</td>\n",
       "      <td>599528</td>\n",
       "      <td>view</td>\n",
       "      <td>356475</td>\n",
       "      <td>NaN</td>\n",
       "    </tr>\n",
       "    <tr>\n",
       "      <th>29505</th>\n",
       "      <td>1433297545235</td>\n",
       "      <td>599528</td>\n",
       "      <td>view</td>\n",
       "      <td>356475</td>\n",
       "      <td>NaN</td>\n",
       "    </tr>\n",
       "    <tr>\n",
       "      <th>114163</th>\n",
       "      <td>1433625010602</td>\n",
       "      <td>599528</td>\n",
       "      <td>view</td>\n",
       "      <td>356475</td>\n",
       "      <td>NaN</td>\n",
       "    </tr>\n",
       "    <tr>\n",
       "      <th>145498</th>\n",
       "      <td>1433731497480</td>\n",
       "      <td>599528</td>\n",
       "      <td>view</td>\n",
       "      <td>356475</td>\n",
       "      <td>NaN</td>\n",
       "    </tr>\n",
       "    <tr>\n",
       "      <th>171995</th>\n",
       "      <td>1433896477794</td>\n",
       "      <td>599528</td>\n",
       "      <td>view</td>\n",
       "      <td>356475</td>\n",
       "      <td>NaN</td>\n",
       "    </tr>\n",
       "    <tr>\n",
       "      <th>187497</th>\n",
       "      <td>1433896449376</td>\n",
       "      <td>599528</td>\n",
       "      <td>view</td>\n",
       "      <td>356475</td>\n",
       "      <td>NaN</td>\n",
       "    </tr>\n",
       "    <tr>\n",
       "      <th>192471</th>\n",
       "      <td>1433960567121</td>\n",
       "      <td>599528</td>\n",
       "      <td>view</td>\n",
       "      <td>356475</td>\n",
       "      <td>NaN</td>\n",
       "    </tr>\n",
       "    <tr>\n",
       "      <th>197272</th>\n",
       "      <td>1433960259198</td>\n",
       "      <td>599528</td>\n",
       "      <td>view</td>\n",
       "      <td>356475</td>\n",
       "      <td>NaN</td>\n",
       "    </tr>\n",
       "    <tr>\n",
       "      <th>198282</th>\n",
       "      <td>1433963102402</td>\n",
       "      <td>599528</td>\n",
       "      <td>view</td>\n",
       "      <td>356475</td>\n",
       "      <td>NaN</td>\n",
       "    </tr>\n",
       "    <tr>\n",
       "      <th>198625</th>\n",
       "      <td>1433973462396</td>\n",
       "      <td>599528</td>\n",
       "      <td>view</td>\n",
       "      <td>356475</td>\n",
       "      <td>NaN</td>\n",
       "    </tr>\n",
       "    <tr>\n",
       "      <th>230066</th>\n",
       "      <td>1434078873027</td>\n",
       "      <td>599528</td>\n",
       "      <td>view</td>\n",
       "      <td>356475</td>\n",
       "      <td>NaN</td>\n",
       "    </tr>\n",
       "    <tr>\n",
       "      <th>234266</th>\n",
       "      <td>1434086434308</td>\n",
       "      <td>599528</td>\n",
       "      <td>view</td>\n",
       "      <td>356475</td>\n",
       "      <td>NaN</td>\n",
       "    </tr>\n",
       "    <tr>\n",
       "      <th>244007</th>\n",
       "      <td>1434038132984</td>\n",
       "      <td>599528</td>\n",
       "      <td>view</td>\n",
       "      <td>356475</td>\n",
       "      <td>NaN</td>\n",
       "    </tr>\n",
       "    <tr>\n",
       "      <th>259779</th>\n",
       "      <td>1434115231654</td>\n",
       "      <td>599528</td>\n",
       "      <td>view</td>\n",
       "      <td>356475</td>\n",
       "      <td>NaN</td>\n",
       "    </tr>\n",
       "    <tr>\n",
       "      <th>1039541</th>\n",
       "      <td>1440527523642</td>\n",
       "      <td>599528</td>\n",
       "      <td>view</td>\n",
       "      <td>64279</td>\n",
       "      <td>NaN</td>\n",
       "    </tr>\n",
       "  </tbody>\n",
       "</table>\n",
       "</div>"
      ],
      "text/plain": [
       "             timestamp  visitorid        event  itemid  transactionid\n",
       "112      1433221941632     599528    addtocart  356475            NaN\n",
       "130      1433222276276     599528  transaction  356475         4000.0\n",
       "16729    1433221896102     599528         view  356475            NaN\n",
       "29505    1433297545235     599528         view  356475            NaN\n",
       "114163   1433625010602     599528         view  356475            NaN\n",
       "145498   1433731497480     599528         view  356475            NaN\n",
       "171995   1433896477794     599528         view  356475            NaN\n",
       "187497   1433896449376     599528         view  356475            NaN\n",
       "192471   1433960567121     599528         view  356475            NaN\n",
       "197272   1433960259198     599528         view  356475            NaN\n",
       "198282   1433963102402     599528         view  356475            NaN\n",
       "198625   1433973462396     599528         view  356475            NaN\n",
       "230066   1434078873027     599528         view  356475            NaN\n",
       "234266   1434086434308     599528         view  356475            NaN\n",
       "244007   1434038132984     599528         view  356475            NaN\n",
       "259779   1434115231654     599528         view  356475            NaN\n",
       "1039541  1440527523642     599528         view   64279            NaN"
      ]
     },
     "execution_count": 27,
     "metadata": {},
     "output_type": "execute_result"
    }
   ],
   "source": [
    "events[events['visitorid'] == 599528]"
   ]
  },
  {
   "cell_type": "code",
   "execution_count": 28,
   "metadata": {
    "pycharm": {
     "name": "#%%\n"
    }
   },
   "outputs": [
    {
     "data": {
      "text/html": [
       "<div>\n",
       "<style scoped>\n",
       "    .dataframe tbody tr th:only-of-type {\n",
       "        vertical-align: middle;\n",
       "    }\n",
       "\n",
       "    .dataframe tbody tr th {\n",
       "        vertical-align: top;\n",
       "    }\n",
       "\n",
       "    .dataframe thead th {\n",
       "        text-align: right;\n",
       "    }\n",
       "</style>\n",
       "<table border=\"1\" class=\"dataframe\">\n",
       "  <thead>\n",
       "    <tr style=\"text-align: right;\">\n",
       "      <th></th>\n",
       "      <th>timestamp</th>\n",
       "      <th>visitorid</th>\n",
       "      <th>event</th>\n",
       "      <th>itemid</th>\n",
       "      <th>transactionid</th>\n",
       "    </tr>\n",
       "  </thead>\n",
       "  <tbody>\n",
       "    <tr>\n",
       "      <th>2751488</th>\n",
       "      <td>1438363641908</td>\n",
       "      <td>1050575</td>\n",
       "      <td>view</td>\n",
       "      <td>116493</td>\n",
       "      <td>NaN</td>\n",
       "    </tr>\n",
       "    <tr>\n",
       "      <th>2740586</th>\n",
       "      <td>1438376925248</td>\n",
       "      <td>1050575</td>\n",
       "      <td>view</td>\n",
       "      <td>31640</td>\n",
       "      <td>NaN</td>\n",
       "    </tr>\n",
       "    <tr>\n",
       "      <th>2750173</th>\n",
       "      <td>1438376961716</td>\n",
       "      <td>1050575</td>\n",
       "      <td>view</td>\n",
       "      <td>273877</td>\n",
       "      <td>NaN</td>\n",
       "    </tr>\n",
       "    <tr>\n",
       "      <th>2743671</th>\n",
       "      <td>1438377018947</td>\n",
       "      <td>1050575</td>\n",
       "      <td>view</td>\n",
       "      <td>31640</td>\n",
       "      <td>NaN</td>\n",
       "    </tr>\n",
       "    <tr>\n",
       "      <th>2743666</th>\n",
       "      <td>1438377072772</td>\n",
       "      <td>1050575</td>\n",
       "      <td>addtocart</td>\n",
       "      <td>31640</td>\n",
       "      <td>NaN</td>\n",
       "    </tr>\n",
       "    <tr>\n",
       "      <th>2755294</th>\n",
       "      <td>1438377176570</td>\n",
       "      <td>1050575</td>\n",
       "      <td>transaction</td>\n",
       "      <td>31640</td>\n",
       "      <td>8354.0</td>\n",
       "    </tr>\n",
       "  </tbody>\n",
       "</table>\n",
       "</div>"
      ],
      "text/plain": [
       "             timestamp  visitorid        event  itemid  transactionid\n",
       "2751488  1438363641908    1050575         view  116493            NaN\n",
       "2740586  1438376925248    1050575         view   31640            NaN\n",
       "2750173  1438376961716    1050575         view  273877            NaN\n",
       "2743671  1438377018947    1050575         view   31640            NaN\n",
       "2743666  1438377072772    1050575    addtocart   31640            NaN\n",
       "2755294  1438377176570    1050575  transaction   31640         8354.0"
      ]
     },
     "execution_count": 28,
     "metadata": {},
     "output_type": "execute_result"
    }
   ],
   "source": [
    "events[events['visitorid'] == 1050575].sort_values('timestamp')"
   ]
  },
  {
   "cell_type": "code",
   "execution_count": 29,
   "metadata": {
    "pycharm": {
     "name": "#%%\n"
    }
   },
   "outputs": [],
   "source": [
    "# перед тем как происходит транзакция клиент должен положить товар в корзину"
   ]
  },
  {
   "cell_type": "code",
   "execution_count": 30,
   "metadata": {
    "pycharm": {
     "name": "#%%\n"
    }
   },
   "outputs": [
    {
     "name": "stdout",
     "output_type": "stream",
     "text": [
      "Число уникалных юзеров:  1407580\n",
      "Число уникальных товаров:  235061\n"
     ]
    }
   ],
   "source": [
    "users_unique = events.visitorid.nunique()\n",
    "items_unique = events.itemid.nunique()\n",
    "\n",
    "print(\"Число уникалных юзеров: \", users_unique)\n",
    "print(\"Число уникальных товаров: \", items_unique)"
   ]
  },
  {
   "cell_type": "code",
   "execution_count": 31,
   "metadata": {
    "pycharm": {
     "name": "#%%\n"
    }
   },
   "outputs": [
    {
     "data": {
      "image/png": "[encoded data removed]",
      "text/plain": [
       "<Figure size 640x480 with 1 Axes>"
      ]
     },
     "metadata": {},
     "output_type": "display_data"
    }
   ],
   "source": [
    "events.event \\\n",
    "    .value_counts(normalize=True) \\\n",
    "    .plot(kind=\"bar\")\n",
    "plt.xticks(rotation=0)\n",
    "plt.ylabel(\"Частота\")\n",
    "plt.tight_layout()\n",
    "plt.savefig(f\"{ASSETS}/user_actions.png\")\n",
    "plt.show()"
   ]
  },
  {
   "cell_type": "code",
   "execution_count": 32,
   "metadata": {
    "pycharm": {
     "name": "#%%\n"
    }
   },
   "outputs": [],
   "source": [
    "# транзакции составляют очень маленькую часть от всех событий\n",
    "# не все добавления в корзину ведут к покупкам"
   ]
  },
  {
   "cell_type": "code",
   "execution_count": 33,
   "metadata": {
    "pycharm": {
     "name": "#%%\n"
    }
   },
   "outputs": [
    {
     "data": {
      "text/plain": [
       "np.int64(22457)"
      ]
     },
     "execution_count": 33,
     "metadata": {},
     "output_type": "execute_result"
    }
   ],
   "source": [
    "events['transactionid'].notna().sum()"
   ]
  },
  {
   "cell_type": "code",
   "execution_count": 34,
   "metadata": {
    "pycharm": {
     "name": "#%%\n"
    }
   },
   "outputs": [
    {
     "data": {
      "text/plain": [
       "17672"
      ]
     },
     "execution_count": 34,
     "metadata": {},
     "output_type": "execute_result"
    }
   ],
   "source": [
    "events['transactionid'].nunique()"
   ]
  },
  {
   "cell_type": "code",
   "execution_count": 35,
   "metadata": {
    "pycharm": {
     "name": "#%%\n"
    }
   },
   "outputs": [
    {
     "data": {
      "text/html": [
       "<div>\n",
       "<style scoped>\n",
       "    .dataframe tbody tr th:only-of-type {\n",
       "        vertical-align: middle;\n",
       "    }\n",
       "\n",
       "    .dataframe tbody tr th {\n",
       "        vertical-align: top;\n",
       "    }\n",
       "\n",
       "    .dataframe thead th {\n",
       "        text-align: right;\n",
       "    }\n",
       "</style>\n",
       "<table border=\"1\" class=\"dataframe\">\n",
       "  <thead>\n",
       "    <tr style=\"text-align: right;\">\n",
       "      <th></th>\n",
       "      <th>timestamp</th>\n",
       "      <th>visitorid</th>\n",
       "      <th>event</th>\n",
       "      <th>itemid</th>\n",
       "      <th>transactionid</th>\n",
       "    </tr>\n",
       "  </thead>\n",
       "  <tbody>\n",
       "    <tr>\n",
       "      <th>1793308</th>\n",
       "      <td>1431978994534</td>\n",
       "      <td>288956</td>\n",
       "      <td>transaction</td>\n",
       "      <td>432742</td>\n",
       "      <td>12.0</td>\n",
       "    </tr>\n",
       "    <tr>\n",
       "      <th>77335</th>\n",
       "      <td>1433448499720</td>\n",
       "      <td>527277</td>\n",
       "      <td>transaction</td>\n",
       "      <td>397642</td>\n",
       "      <td>23.0</td>\n",
       "    </tr>\n",
       "    <tr>\n",
       "      <th>92102</th>\n",
       "      <td>1433448499642</td>\n",
       "      <td>527277</td>\n",
       "      <td>transaction</td>\n",
       "      <td>57548</td>\n",
       "      <td>23.0</td>\n",
       "    </tr>\n",
       "    <tr>\n",
       "      <th>80335</th>\n",
       "      <td>1433448499642</td>\n",
       "      <td>527277</td>\n",
       "      <td>transaction</td>\n",
       "      <td>93556</td>\n",
       "      <td>23.0</td>\n",
       "    </tr>\n",
       "    <tr>\n",
       "      <th>2537288</th>\n",
       "      <td>1437584753339</td>\n",
       "      <td>518659</td>\n",
       "      <td>transaction</td>\n",
       "      <td>272770</td>\n",
       "      <td>27.0</td>\n",
       "    </tr>\n",
       "    <tr>\n",
       "      <th>...</th>\n",
       "      <td>...</td>\n",
       "      <td>...</td>\n",
       "      <td>...</td>\n",
       "      <td>...</td>\n",
       "      <td>...</td>\n",
       "    </tr>\n",
       "    <tr>\n",
       "      <th>791365</th>\n",
       "      <td>1439345588928</td>\n",
       "      <td>530559</td>\n",
       "      <td>transaction</td>\n",
       "      <td>265920</td>\n",
       "      <td>17660.0</td>\n",
       "    </tr>\n",
       "    <tr>\n",
       "      <th>805249</th>\n",
       "      <td>1439345589053</td>\n",
       "      <td>530559</td>\n",
       "      <td>transaction</td>\n",
       "      <td>157743</td>\n",
       "      <td>17660.0</td>\n",
       "    </tr>\n",
       "    <tr>\n",
       "      <th>929833</th>\n",
       "      <td>1439949233505</td>\n",
       "      <td>795731</td>\n",
       "      <td>transaction</td>\n",
       "      <td>442610</td>\n",
       "      <td>17662.0</td>\n",
       "    </tr>\n",
       "    <tr>\n",
       "      <th>924918</th>\n",
       "      <td>1439924299698</td>\n",
       "      <td>465862</td>\n",
       "      <td>transaction</td>\n",
       "      <td>180349</td>\n",
       "      <td>17663.0</td>\n",
       "    </tr>\n",
       "    <tr>\n",
       "      <th>1810396</th>\n",
       "      <td>1432072691718</td>\n",
       "      <td>163561</td>\n",
       "      <td>transaction</td>\n",
       "      <td>260256</td>\n",
       "      <td>17669.0</td>\n",
       "    </tr>\n",
       "  </tbody>\n",
       "</table>\n",
       "<p>4785 rows × 5 columns</p>\n",
       "</div>"
      ],
      "text/plain": [
       "             timestamp  visitorid        event  itemid  transactionid\n",
       "1793308  1431978994534     288956  transaction  432742           12.0\n",
       "77335    1433448499720     527277  transaction  397642           23.0\n",
       "92102    1433448499642     527277  transaction   57548           23.0\n",
       "80335    1433448499642     527277  transaction   93556           23.0\n",
       "2537288  1437584753339     518659  transaction  272770           27.0\n",
       "...                ...        ...          ...     ...            ...\n",
       "791365   1439345588928     530559  transaction  265920        17660.0\n",
       "805249   1439345589053     530559  transaction  157743        17660.0\n",
       "929833   1439949233505     795731  transaction  442610        17662.0\n",
       "924918   1439924299698     465862  transaction  180349        17663.0\n",
       "1810396  1432072691718     163561  transaction  260256        17669.0\n",
       "\n",
       "[4785 rows x 5 columns]"
      ]
     },
     "execution_count": 35,
     "metadata": {},
     "output_type": "execute_result"
    }
   ],
   "source": [
    "events[events['transactionid'].notna()][\n",
    "    events[events['transactionid'].notna()].duplicated(subset=[\"transactionid\"])\n",
    "].sort_values(by=\"transactionid\")"
   ]
  },
  {
   "cell_type": "code",
   "execution_count": 36,
   "metadata": {
    "pycharm": {
     "name": "#%%\n"
    }
   },
   "outputs": [],
   "source": [
    "# transaktion id может содержать несколько товаров"
   ]
  },
  {
   "cell_type": "code",
   "execution_count": 37,
   "metadata": {
    "pycharm": {
     "name": "#%%\n"
    }
   },
   "outputs": [
    {
     "name": "stdout",
     "output_type": "stream",
     "text": [
      "Топ юзеров по числу покупок\n"
     ]
    },
    {
     "data": {
      "text/html": [
       "<div>\n",
       "<style scoped>\n",
       "    .dataframe tbody tr th:only-of-type {\n",
       "        vertical-align: middle;\n",
       "    }\n",
       "\n",
       "    .dataframe tbody tr th {\n",
       "        vertical-align: top;\n",
       "    }\n",
       "\n",
       "    .dataframe thead th {\n",
       "        text-align: right;\n",
       "    }\n",
       "</style>\n",
       "<table border=\"1\" class=\"dataframe\">\n",
       "  <thead>\n",
       "    <tr style=\"text-align: right;\">\n",
       "      <th></th>\n",
       "      <th>visitorid</th>\n",
       "      <th>transactionid</th>\n",
       "    </tr>\n",
       "  </thead>\n",
       "  <tbody>\n",
       "    <tr>\n",
       "      <th>0</th>\n",
       "      <td>1150086</td>\n",
       "      <td>502</td>\n",
       "    </tr>\n",
       "    <tr>\n",
       "      <th>1</th>\n",
       "      <td>152963</td>\n",
       "      <td>278</td>\n",
       "    </tr>\n",
       "    <tr>\n",
       "      <th>2</th>\n",
       "      <td>530559</td>\n",
       "      <td>221</td>\n",
       "    </tr>\n",
       "    <tr>\n",
       "      <th>3</th>\n",
       "      <td>684514</td>\n",
       "      <td>162</td>\n",
       "    </tr>\n",
       "    <tr>\n",
       "      <th>4</th>\n",
       "      <td>76757</td>\n",
       "      <td>155</td>\n",
       "    </tr>\n",
       "    <tr>\n",
       "      <th>5</th>\n",
       "      <td>861299</td>\n",
       "      <td>148</td>\n",
       "    </tr>\n",
       "    <tr>\n",
       "      <th>6</th>\n",
       "      <td>138131</td>\n",
       "      <td>137</td>\n",
       "    </tr>\n",
       "    <tr>\n",
       "      <th>7</th>\n",
       "      <td>247235</td>\n",
       "      <td>124</td>\n",
       "    </tr>\n",
       "    <tr>\n",
       "      <th>8</th>\n",
       "      <td>1297062</td>\n",
       "      <td>111</td>\n",
       "    </tr>\n",
       "    <tr>\n",
       "      <th>9</th>\n",
       "      <td>890980</td>\n",
       "      <td>104</td>\n",
       "    </tr>\n",
       "  </tbody>\n",
       "</table>\n",
       "</div>"
      ],
      "text/plain": [
       "   visitorid  transactionid\n",
       "0    1150086            502\n",
       "1     152963            278\n",
       "2     530559            221\n",
       "3     684514            162\n",
       "4      76757            155\n",
       "5     861299            148\n",
       "6     138131            137\n",
       "7     247235            124\n",
       "8    1297062            111\n",
       "9     890980            104"
      ]
     },
     "execution_count": 37,
     "metadata": {},
     "output_type": "execute_result"
    }
   ],
   "source": [
    "print(\"Топ юзеров по числу покупок\")\n",
    "events \\\n",
    "    .groupby(\"visitorid\") \\\n",
    "    .agg({\"transactionid\": \"nunique\"}) \\\n",
    "    .sort_values(by=\"transactionid\", ascending=False) \\\n",
    "    .reset_index() \\\n",
    "    .head(10)"
   ]
  },
  {
   "cell_type": "code",
   "execution_count": 38,
   "metadata": {
    "pycharm": {
     "name": "#%%\n"
    }
   },
   "outputs": [
    {
     "name": "stdout",
     "output_type": "stream",
     "text": [
      "Топ покупок\n"
     ]
    },
    {
     "data": {
      "text/html": [
       "<div>\n",
       "<style scoped>\n",
       "    .dataframe tbody tr th:only-of-type {\n",
       "        vertical-align: middle;\n",
       "    }\n",
       "\n",
       "    .dataframe tbody tr th {\n",
       "        vertical-align: top;\n",
       "    }\n",
       "\n",
       "    .dataframe thead th {\n",
       "        text-align: right;\n",
       "    }\n",
       "</style>\n",
       "<table border=\"1\" class=\"dataframe\">\n",
       "  <thead>\n",
       "    <tr style=\"text-align: right;\">\n",
       "      <th></th>\n",
       "      <th>itemid</th>\n",
       "      <th>transactionid</th>\n",
       "    </tr>\n",
       "  </thead>\n",
       "  <tbody>\n",
       "    <tr>\n",
       "      <th>0</th>\n",
       "      <td>461686</td>\n",
       "      <td>133</td>\n",
       "    </tr>\n",
       "    <tr>\n",
       "      <th>1</th>\n",
       "      <td>119736</td>\n",
       "      <td>96</td>\n",
       "    </tr>\n",
       "    <tr>\n",
       "      <th>2</th>\n",
       "      <td>213834</td>\n",
       "      <td>92</td>\n",
       "    </tr>\n",
       "    <tr>\n",
       "      <th>3</th>\n",
       "      <td>7943</td>\n",
       "      <td>46</td>\n",
       "    </tr>\n",
       "    <tr>\n",
       "      <th>4</th>\n",
       "      <td>312728</td>\n",
       "      <td>46</td>\n",
       "    </tr>\n",
       "    <tr>\n",
       "      <th>5</th>\n",
       "      <td>445351</td>\n",
       "      <td>45</td>\n",
       "    </tr>\n",
       "    <tr>\n",
       "      <th>6</th>\n",
       "      <td>48030</td>\n",
       "      <td>41</td>\n",
       "    </tr>\n",
       "    <tr>\n",
       "      <th>7</th>\n",
       "      <td>248455</td>\n",
       "      <td>38</td>\n",
       "    </tr>\n",
       "    <tr>\n",
       "      <th>8</th>\n",
       "      <td>420960</td>\n",
       "      <td>38</td>\n",
       "    </tr>\n",
       "    <tr>\n",
       "      <th>9</th>\n",
       "      <td>17478</td>\n",
       "      <td>37</td>\n",
       "    </tr>\n",
       "  </tbody>\n",
       "</table>\n",
       "</div>"
      ],
      "text/plain": [
       "   itemid  transactionid\n",
       "0  461686            133\n",
       "1  119736             96\n",
       "2  213834             92\n",
       "3    7943             46\n",
       "4  312728             46\n",
       "5  445351             45\n",
       "6   48030             41\n",
       "7  248455             38\n",
       "8  420960             38\n",
       "9   17478             37"
      ]
     },
     "execution_count": 38,
     "metadata": {},
     "output_type": "execute_result"
    }
   ],
   "source": [
    "print(\"Топ покупок\")\n",
    "events \\\n",
    "    .groupby(\"itemid\") \\\n",
    "    .agg({\"transactionid\": \"nunique\"}) \\\n",
    "    .sort_values(by=\"transactionid\", ascending=False) \\\n",
    "    .reset_index() \\\n",
    "    .head(10)"
   ]
  },
  {
   "cell_type": "markdown",
   "metadata": {
    "pycharm": {
     "name": "#%% md\n"
    }
   },
   "source": [
    "### 2.3. item properties"
   ]
  },
  {
   "cell_type": "code",
   "execution_count": 39,
   "metadata": {
    "pycharm": {
     "name": "#%%\n"
    }
   },
   "outputs": [
    {
     "name": "stdout",
     "output_type": "stream",
     "text": [
      "<class 'pandas.core.frame.DataFrame'>\n",
      "RangeIndex: 10999999 entries, 0 to 10999998\n",
      "Data columns (total 4 columns):\n",
      " #   Column     Dtype \n",
      "---  ------     ----- \n",
      " 0   timestamp  int64 \n",
      " 1   itemid     int64 \n",
      " 2   property   object\n",
      " 3   value      object\n",
      "dtypes: int64(2), object(2)\n",
      "memory usage: 1.5 GB\n"
     ]
    }
   ],
   "source": [
    "item_props_1.info(memory_usage=\"deep\")"
   ]
  },
  {
   "cell_type": "code",
   "execution_count": 40,
   "metadata": {
    "pycharm": {
     "name": "#%%\n"
    }
   },
   "outputs": [
    {
     "name": "stdout",
     "output_type": "stream",
     "text": [
      "<class 'pandas.core.frame.DataFrame'>\n",
      "RangeIndex: 9275903 entries, 0 to 9275902\n",
      "Data columns (total 4 columns):\n",
      " #   Column     Dtype \n",
      "---  ------     ----- \n",
      " 0   timestamp  int64 \n",
      " 1   itemid     int64 \n",
      " 2   property   object\n",
      " 3   value      object\n",
      "dtypes: int64(2), object(2)\n",
      "memory usage: 1.3 GB\n"
     ]
    }
   ],
   "source": [
    "item_props_2.info(memory_usage=\"deep\")"
   ]
  },
  {
   "cell_type": "code",
   "execution_count": 41,
   "metadata": {
    "pycharm": {
     "name": "#%%\n"
    }
   },
   "outputs": [
    {
     "data": {
      "text/html": [
       "<div>\n",
       "<style scoped>\n",
       "    .dataframe tbody tr th:only-of-type {\n",
       "        vertical-align: middle;\n",
       "    }\n",
       "\n",
       "    .dataframe tbody tr th {\n",
       "        vertical-align: top;\n",
       "    }\n",
       "\n",
       "    .dataframe thead th {\n",
       "        text-align: right;\n",
       "    }\n",
       "</style>\n",
       "<table border=\"1\" class=\"dataframe\">\n",
       "  <thead>\n",
       "    <tr style=\"text-align: right;\">\n",
       "      <th></th>\n",
       "      <th>timestamp</th>\n",
       "      <th>itemid</th>\n",
       "      <th>property</th>\n",
       "      <th>value</th>\n",
       "    </tr>\n",
       "  </thead>\n",
       "  <tbody>\n",
       "    <tr>\n",
       "      <th>4898932</th>\n",
       "      <td>1431226800000</td>\n",
       "      <td>242374</td>\n",
       "      <td>764</td>\n",
       "      <td>1285872</td>\n",
       "    </tr>\n",
       "    <tr>\n",
       "      <th>7771478</th>\n",
       "      <td>1433041200000</td>\n",
       "      <td>311119</td>\n",
       "      <td>550</td>\n",
       "      <td>769062</td>\n",
       "    </tr>\n",
       "    <tr>\n",
       "      <th>3055364</th>\n",
       "      <td>1432436400000</td>\n",
       "      <td>138651</td>\n",
       "      <td>888</td>\n",
       "      <td>1126377</td>\n",
       "    </tr>\n",
       "    <tr>\n",
       "      <th>10575110</th>\n",
       "      <td>1435460400000</td>\n",
       "      <td>2514</td>\n",
       "      <td>888</td>\n",
       "      <td>433558</td>\n",
       "    </tr>\n",
       "    <tr>\n",
       "      <th>7362788</th>\n",
       "      <td>1439089200000</td>\n",
       "      <td>305237</td>\n",
       "      <td>available</td>\n",
       "      <td>0</td>\n",
       "    </tr>\n",
       "    <tr>\n",
       "      <th>7382005</th>\n",
       "      <td>1439694000000</td>\n",
       "      <td>255021</td>\n",
       "      <td>698</td>\n",
       "      <td>931348 630194</td>\n",
       "    </tr>\n",
       "    <tr>\n",
       "      <th>3912094</th>\n",
       "      <td>1433041200000</td>\n",
       "      <td>26526</td>\n",
       "      <td>790</td>\n",
       "      <td>n5280.000</td>\n",
       "    </tr>\n",
       "    <tr>\n",
       "      <th>2512207</th>\n",
       "      <td>1439694000000</td>\n",
       "      <td>351102</td>\n",
       "      <td>698</td>\n",
       "      <td>1040170 1242195</td>\n",
       "    </tr>\n",
       "    <tr>\n",
       "      <th>5273955</th>\n",
       "      <td>1436065200000</td>\n",
       "      <td>381882</td>\n",
       "      <td>790</td>\n",
       "      <td>n541440.000</td>\n",
       "    </tr>\n",
       "    <tr>\n",
       "      <th>3309501</th>\n",
       "      <td>1433041200000</td>\n",
       "      <td>381804</td>\n",
       "      <td>955</td>\n",
       "      <td>988697 581051</td>\n",
       "    </tr>\n",
       "  </tbody>\n",
       "</table>\n",
       "</div>"
      ],
      "text/plain": [
       "              timestamp  itemid   property            value\n",
       "4898932   1431226800000  242374        764          1285872\n",
       "7771478   1433041200000  311119        550           769062\n",
       "3055364   1432436400000  138651        888          1126377\n",
       "10575110  1435460400000    2514        888           433558\n",
       "7362788   1439089200000  305237  available                0\n",
       "7382005   1439694000000  255021        698    931348 630194\n",
       "3912094   1433041200000   26526        790        n5280.000\n",
       "2512207   1439694000000  351102        698  1040170 1242195\n",
       "5273955   1436065200000  381882        790      n541440.000\n",
       "3309501   1433041200000  381804        955    988697 581051"
      ]
     },
     "execution_count": 41,
     "metadata": {},
     "output_type": "execute_result"
    }
   ],
   "source": [
    "item_props_1.sample(10)"
   ]
  },
  {
   "cell_type": "code",
   "execution_count": 42,
   "metadata": {
    "pycharm": {
     "name": "#%%\n"
    }
   },
   "outputs": [
    {
     "data": {
      "text/html": [
       "<div>\n",
       "<style scoped>\n",
       "    .dataframe tbody tr th:only-of-type {\n",
       "        vertical-align: middle;\n",
       "    }\n",
       "\n",
       "    .dataframe tbody tr th {\n",
       "        vertical-align: top;\n",
       "    }\n",
       "\n",
       "    .dataframe thead th {\n",
       "        text-align: right;\n",
       "    }\n",
       "</style>\n",
       "<table border=\"1\" class=\"dataframe\">\n",
       "  <thead>\n",
       "    <tr style=\"text-align: right;\">\n",
       "      <th></th>\n",
       "      <th>timestamp</th>\n",
       "      <th>itemid</th>\n",
       "      <th>property</th>\n",
       "      <th>value</th>\n",
       "    </tr>\n",
       "  </thead>\n",
       "  <tbody>\n",
       "    <tr>\n",
       "      <th>1715198</th>\n",
       "      <td>1441508400000</td>\n",
       "      <td>424309</td>\n",
       "      <td>888</td>\n",
       "      <td>793655 726612 268087 86628</td>\n",
       "    </tr>\n",
       "    <tr>\n",
       "      <th>6886829</th>\n",
       "      <td>1432436400000</td>\n",
       "      <td>106136</td>\n",
       "      <td>1004</td>\n",
       "      <td>1055803 n11640.000</td>\n",
       "    </tr>\n",
       "    <tr>\n",
       "      <th>8567649</th>\n",
       "      <td>1441508400000</td>\n",
       "      <td>215427</td>\n",
       "      <td>663</td>\n",
       "      <td>1297729 n156.000 606827</td>\n",
       "    </tr>\n",
       "    <tr>\n",
       "      <th>1076388</th>\n",
       "      <td>1435460400000</td>\n",
       "      <td>117545</td>\n",
       "      <td>544</td>\n",
       "      <td>992862 695898 798916</td>\n",
       "    </tr>\n",
       "    <tr>\n",
       "      <th>5696614</th>\n",
       "      <td>1431226800000</td>\n",
       "      <td>36129</td>\n",
       "      <td>364</td>\n",
       "      <td>1172556</td>\n",
       "    </tr>\n",
       "    <tr>\n",
       "      <th>1455062</th>\n",
       "      <td>1436670000000</td>\n",
       "      <td>316705</td>\n",
       "      <td>400</td>\n",
       "      <td>1297729 n720.000 1178208 n900.000 424566</td>\n",
       "    </tr>\n",
       "    <tr>\n",
       "      <th>8076423</th>\n",
       "      <td>1440298800000</td>\n",
       "      <td>10963</td>\n",
       "      <td>561</td>\n",
       "      <td>991263 1238769</td>\n",
       "    </tr>\n",
       "    <tr>\n",
       "      <th>3761393</th>\n",
       "      <td>1442113200000</td>\n",
       "      <td>419724</td>\n",
       "      <td>888</td>\n",
       "      <td>827388 547970 575391 424566 767591 639502 n12....</td>\n",
       "    </tr>\n",
       "    <tr>\n",
       "      <th>7431107</th>\n",
       "      <td>1433646000000</td>\n",
       "      <td>144700</td>\n",
       "      <td>400</td>\n",
       "      <td>n2220.000</td>\n",
       "    </tr>\n",
       "    <tr>\n",
       "      <th>18915</th>\n",
       "      <td>1431226800000</td>\n",
       "      <td>52609</td>\n",
       "      <td>888</td>\n",
       "      <td>150169 1037891 1101149 1017320 632432 923209 3...</td>\n",
       "    </tr>\n",
       "  </tbody>\n",
       "</table>\n",
       "</div>"
      ],
      "text/plain": [
       "             timestamp  itemid property  \\\n",
       "1715198  1441508400000  424309      888   \n",
       "6886829  1432436400000  106136     1004   \n",
       "8567649  1441508400000  215427      663   \n",
       "1076388  1435460400000  117545      544   \n",
       "5696614  1431226800000   36129      364   \n",
       "1455062  1436670000000  316705      400   \n",
       "8076423  1440298800000   10963      561   \n",
       "3761393  1442113200000  419724      888   \n",
       "7431107  1433646000000  144700      400   \n",
       "18915    1431226800000   52609      888   \n",
       "\n",
       "                                                     value  \n",
       "1715198                         793655 726612 268087 86628  \n",
       "6886829                                 1055803 n11640.000  \n",
       "8567649                            1297729 n156.000 606827  \n",
       "1076388                               992862 695898 798916  \n",
       "5696614                                            1172556  \n",
       "1455062           1297729 n720.000 1178208 n900.000 424566  \n",
       "8076423                                     991263 1238769  \n",
       "3761393  827388 547970 575391 424566 767591 639502 n12....  \n",
       "7431107                                          n2220.000  \n",
       "18915    150169 1037891 1101149 1017320 632432 923209 3...  "
      ]
     },
     "execution_count": 42,
     "metadata": {},
     "output_type": "execute_result"
    }
   ],
   "source": [
    "item_props_2.sample(10)"
   ]
  },
  {
   "cell_type": "markdown",
   "metadata": {
    "pycharm": {
     "name": "#%% md\n"
    }
   },
   "source": [
    "item_properties.csv — таблица со свойствами товаров:\n",
    "- timestamp — временная метка добавления свойства,\n",
    "- itemid — идентификатор товара,\n",
    "- property — свойство товара,\n",
    "- value — значение свойства."
   ]
  },
  {
   "cell_type": "code",
   "execution_count": 43,
   "metadata": {
    "pycharm": {
     "name": "#%%\n"
    }
   },
   "outputs": [
    {
     "name": "stdout",
     "output_type": "stream",
     "text": [
      "Уникальных itemid в item_props_1:  417053\n",
      "Уникальных itemid в item_props_2:  417053\n"
     ]
    }
   ],
   "source": [
    "print(\"Уникальных itemid в item_props_1: \",item_props_1.itemid.nunique())\n",
    "print(\"Уникальных itemid в item_props_2: \",item_props_2.itemid.nunique())"
   ]
  },
  {
   "cell_type": "code",
   "execution_count": 44,
   "metadata": {
    "pycharm": {
     "name": "#%%\n"
    }
   },
   "outputs": [
    {
     "data": {
      "text/plain": [
       "property\n",
       "888           1629817\n",
       "790            970800\n",
       "available      817387\n",
       "categoryid     426305\n",
       "6              343207\n",
       "283            323681\n",
       "776            311654\n",
       "678            261829\n",
       "364            256340\n",
       "202            242984\n",
       "Name: count, dtype: int64"
      ]
     },
     "execution_count": 44,
     "metadata": {},
     "output_type": "execute_result"
    }
   ],
   "source": [
    "item_props_1.property.value_counts().head(10)"
   ]
  },
  {
   "cell_type": "code",
   "execution_count": 45,
   "metadata": {
    "pycharm": {
     "name": "#%%\n"
    }
   },
   "outputs": [
    {
     "data": {
      "text/plain": [
       "property\n",
       "888           1370581\n",
       "790            819716\n",
       "available      686252\n",
       "categoryid     361909\n",
       "6              288264\n",
       "283            273738\n",
       "776            262566\n",
       "364            220146\n",
       "678            220137\n",
       "202            205954\n",
       "Name: count, dtype: int64"
      ]
     },
     "execution_count": 45,
     "metadata": {},
     "output_type": "execute_result"
    }
   ],
   "source": [
    "item_props_2.property.value_counts().head(10)"
   ]
  },
  {
   "cell_type": "code",
   "execution_count": 46,
   "metadata": {
    "pycharm": {
     "name": "#%%\n"
    }
   },
   "outputs": [],
   "source": [
    "# Видим что есть признаки по доступности и категории товаров"
   ]
  },
  {
   "cell_type": "code",
   "execution_count": 47,
   "metadata": {
    "pycharm": {
     "name": "#%%\n"
    }
   },
   "outputs": [
    {
     "name": "stdout",
     "output_type": "stream",
     "text": [
      "Категорий в category_props_1: (426305, 4)\n",
      "Категорий в category_props_2: (361909, 4)\n"
     ]
    }
   ],
   "source": [
    "category_props_1 = item_props_1.query(\"property == 'categoryid'\")\n",
    "print(\"Категорий в category_props_1:\", category_props_1.shape)\n",
    "category_props_2 = item_props_2.query(\"property == 'categoryid'\")\n",
    "print(\"Категорий в category_props_2:\", category_props_2.shape)"
   ]
  },
  {
   "cell_type": "code",
   "execution_count": 48,
   "metadata": {
    "pycharm": {
     "name": "#%%\n"
    }
   },
   "outputs": [
    {
     "data": {
      "text/plain": [
       "(788214, 4)"
      ]
     },
     "execution_count": 48,
     "metadata": {},
     "output_type": "execute_result"
    }
   ],
   "source": [
    "# Создадим общую таблицу с инфорамцией о категориях\n",
    "category_props = pd.concat([category_props_1, category_props_2])\n",
    "category_props.shape"
   ]
  },
  {
   "cell_type": "code",
   "execution_count": 49,
   "metadata": {
    "pycharm": {
     "name": "#%%\n"
    }
   },
   "outputs": [
    {
     "data": {
      "text/html": [
       "<div>\n",
       "<style scoped>\n",
       "    .dataframe tbody tr th:only-of-type {\n",
       "        vertical-align: middle;\n",
       "    }\n",
       "\n",
       "    .dataframe tbody tr th {\n",
       "        vertical-align: top;\n",
       "    }\n",
       "\n",
       "    .dataframe thead th {\n",
       "        text-align: right;\n",
       "    }\n",
       "</style>\n",
       "<table border=\"1\" class=\"dataframe\">\n",
       "  <thead>\n",
       "    <tr style=\"text-align: right;\">\n",
       "      <th></th>\n",
       "      <th>timestamp</th>\n",
       "      <th>itemid</th>\n",
       "      <th>property</th>\n",
       "      <th>value</th>\n",
       "    </tr>\n",
       "  </thead>\n",
       "  <tbody>\n",
       "    <tr>\n",
       "      <th>0</th>\n",
       "      <td>1435460400000</td>\n",
       "      <td>460429</td>\n",
       "      <td>categoryid</td>\n",
       "      <td>1338</td>\n",
       "    </tr>\n",
       "    <tr>\n",
       "      <th>140</th>\n",
       "      <td>1432436400000</td>\n",
       "      <td>281245</td>\n",
       "      <td>categoryid</td>\n",
       "      <td>1277</td>\n",
       "    </tr>\n",
       "    <tr>\n",
       "      <th>151</th>\n",
       "      <td>1435460400000</td>\n",
       "      <td>35575</td>\n",
       "      <td>categoryid</td>\n",
       "      <td>1059</td>\n",
       "    </tr>\n",
       "    <tr>\n",
       "      <th>189</th>\n",
       "      <td>1437274800000</td>\n",
       "      <td>8313</td>\n",
       "      <td>categoryid</td>\n",
       "      <td>1147</td>\n",
       "    </tr>\n",
       "    <tr>\n",
       "      <th>197</th>\n",
       "      <td>1437879600000</td>\n",
       "      <td>55102</td>\n",
       "      <td>categoryid</td>\n",
       "      <td>47</td>\n",
       "    </tr>\n",
       "    <tr>\n",
       "      <th>213</th>\n",
       "      <td>1433041200000</td>\n",
       "      <td>397079</td>\n",
       "      <td>categoryid</td>\n",
       "      <td>619</td>\n",
       "    </tr>\n",
       "    <tr>\n",
       "      <th>237</th>\n",
       "      <td>1436670000000</td>\n",
       "      <td>265036</td>\n",
       "      <td>categoryid</td>\n",
       "      <td>1228</td>\n",
       "    </tr>\n",
       "    <tr>\n",
       "      <th>254</th>\n",
       "      <td>1437879600000</td>\n",
       "      <td>124459</td>\n",
       "      <td>categoryid</td>\n",
       "      <td>1277</td>\n",
       "    </tr>\n",
       "    <tr>\n",
       "      <th>310</th>\n",
       "      <td>1437879600000</td>\n",
       "      <td>350508</td>\n",
       "      <td>categoryid</td>\n",
       "      <td>546</td>\n",
       "    </tr>\n",
       "    <tr>\n",
       "      <th>325</th>\n",
       "      <td>1439089200000</td>\n",
       "      <td>221365</td>\n",
       "      <td>categoryid</td>\n",
       "      <td>1226</td>\n",
       "    </tr>\n",
       "  </tbody>\n",
       "</table>\n",
       "</div>"
      ],
      "text/plain": [
       "         timestamp  itemid    property value\n",
       "0    1435460400000  460429  categoryid  1338\n",
       "140  1432436400000  281245  categoryid  1277\n",
       "151  1435460400000   35575  categoryid  1059\n",
       "189  1437274800000    8313  categoryid  1147\n",
       "197  1437879600000   55102  categoryid    47\n",
       "213  1433041200000  397079  categoryid   619\n",
       "237  1436670000000  265036  categoryid  1228\n",
       "254  1437879600000  124459  categoryid  1277\n",
       "310  1437879600000  350508  categoryid   546\n",
       "325  1439089200000  221365  categoryid  1226"
      ]
     },
     "execution_count": 49,
     "metadata": {},
     "output_type": "execute_result"
    }
   ],
   "source": [
    "category_props.head(10)"
   ]
  },
  {
   "cell_type": "code",
   "execution_count": 50,
   "metadata": {
    "pycharm": {
     "name": "#%%\n"
    }
   },
   "outputs": [
    {
     "ename": "AssertionError",
     "evalue": "В итоговой таблице есть дубли",
     "output_type": "error",
     "traceback": [
      "\u001B[0;31m---------------------------------------------------------------------------\u001B[0m",
      "\u001B[0;31mAssertionError\u001B[0m                            Traceback (most recent call last)",
      "Cell \u001B[0;32mIn[50], line 1\u001B[0m\n\u001B[0;32m----> 1\u001B[0m \u001B[38;5;28;01massert\u001B[39;00m category_props\u001B[38;5;241m.\u001B[39mshape[\u001B[38;5;241m0\u001B[39m] \u001B[38;5;241m==\u001B[39m category_props[[\u001B[38;5;124m'\u001B[39m\u001B[38;5;124mitemid\u001B[39m\u001B[38;5;124m'\u001B[39m, \u001B[38;5;124m'\u001B[39m\u001B[38;5;124mvalue\u001B[39m\u001B[38;5;124m'\u001B[39m]]\u001B[38;5;241m.\u001B[39mdrop_duplicates()\u001B[38;5;241m.\u001B[39mshape[\u001B[38;5;241m0\u001B[39m], \u001B[38;5;124m'\u001B[39m\u001B[38;5;124mВ итоговой таблице есть дубли\u001B[39m\u001B[38;5;124m'\u001B[39m\n",
      "\u001B[0;31mAssertionError\u001B[0m: В итоговой таблице есть дубли"
     ]
    }
   ],
   "source": [
    "assert category_props.shape[0] == category_props[['itemid', 'value']].drop_duplicates().shape[0], 'В итоговой таблице есть дубли'"
   ]
  },
  {
   "cell_type": "code",
   "execution_count": 51,
   "metadata": {
    "pycharm": {
     "name": "#%%\n"
    }
   },
   "outputs": [
    {
     "name": "stdout",
     "output_type": "stream",
     "text": [
      "<class 'pandas.core.frame.DataFrame'>\n",
      "Index: 788214 entries, 0 to 9275879\n",
      "Data columns (total 4 columns):\n",
      " #   Column     Non-Null Count   Dtype \n",
      "---  ------     --------------   ----- \n",
      " 0   timestamp  788214 non-null  int64 \n",
      " 1   itemid     788214 non-null  int64 \n",
      " 2   property   788214 non-null  object\n",
      " 3   value      788214 non-null  object\n",
      "dtypes: int64(2), object(2)\n",
      "memory usage: 30.1+ MB\n"
     ]
    }
   ],
   "source": [
    "category_props.info()"
   ]
  },
  {
   "cell_type": "code",
   "execution_count": 52,
   "metadata": {
    "pycharm": {
     "name": "#%%\n"
    }
   },
   "outputs": [],
   "source": [
    "category_props[\"value\"] = category_props[\"value\"].astype(\"int64\")"
   ]
  },
  {
   "cell_type": "code",
   "execution_count": 53,
   "metadata": {
    "pycharm": {
     "name": "#%%\n"
    }
   },
   "outputs": [
    {
     "data": {
      "text/html": [
       "<div>\n",
       "<style scoped>\n",
       "    .dataframe tbody tr th:only-of-type {\n",
       "        vertical-align: middle;\n",
       "    }\n",
       "\n",
       "    .dataframe tbody tr th {\n",
       "        vertical-align: top;\n",
       "    }\n",
       "\n",
       "    .dataframe thead th {\n",
       "        text-align: right;\n",
       "    }\n",
       "</style>\n",
       "<table border=\"1\" class=\"dataframe\">\n",
       "  <thead>\n",
       "    <tr style=\"text-align: right;\">\n",
       "      <th></th>\n",
       "      <th>itemid</th>\n",
       "      <th>categoryid</th>\n",
       "      <th>parentid</th>\n",
       "    </tr>\n",
       "  </thead>\n",
       "  <tbody>\n",
       "    <tr>\n",
       "      <th>0</th>\n",
       "      <td>0</td>\n",
       "      <td>209</td>\n",
       "      <td>293.0</td>\n",
       "    </tr>\n",
       "    <tr>\n",
       "      <th>1</th>\n",
       "      <td>1</td>\n",
       "      <td>1114</td>\n",
       "      <td>113.0</td>\n",
       "    </tr>\n",
       "    <tr>\n",
       "      <th>2</th>\n",
       "      <td>2</td>\n",
       "      <td>1305</td>\n",
       "      <td>1214.0</td>\n",
       "    </tr>\n",
       "    <tr>\n",
       "      <th>3</th>\n",
       "      <td>3</td>\n",
       "      <td>1171</td>\n",
       "      <td>938.0</td>\n",
       "    </tr>\n",
       "    <tr>\n",
       "      <th>4</th>\n",
       "      <td>4</td>\n",
       "      <td>1038</td>\n",
       "      <td>1174.0</td>\n",
       "    </tr>\n",
       "    <tr>\n",
       "      <th>5</th>\n",
       "      <td>5</td>\n",
       "      <td>1061</td>\n",
       "      <td>1259.0</td>\n",
       "    </tr>\n",
       "    <tr>\n",
       "      <th>6</th>\n",
       "      <td>6</td>\n",
       "      <td>1091</td>\n",
       "      <td>573.0</td>\n",
       "    </tr>\n",
       "    <tr>\n",
       "      <th>7</th>\n",
       "      <td>7</td>\n",
       "      <td>512</td>\n",
       "      <td>362.0</td>\n",
       "    </tr>\n",
       "    <tr>\n",
       "      <th>8</th>\n",
       "      <td>8</td>\n",
       "      <td>173</td>\n",
       "      <td>788.0</td>\n",
       "    </tr>\n",
       "    <tr>\n",
       "      <th>9</th>\n",
       "      <td>10</td>\n",
       "      <td>1301</td>\n",
       "      <td>1034.0</td>\n",
       "    </tr>\n",
       "  </tbody>\n",
       "</table>\n",
       "</div>"
      ],
      "text/plain": [
       "   itemid  categoryid  parentid\n",
       "0       0         209     293.0\n",
       "1       1        1114     113.0\n",
       "2       2        1305    1214.0\n",
       "3       3        1171     938.0\n",
       "4       4        1038    1174.0\n",
       "5       5        1061    1259.0\n",
       "6       6        1091     573.0\n",
       "7       7         512     362.0\n",
       "8       8         173     788.0\n",
       "9      10        1301    1034.0"
      ]
     },
     "execution_count": 53,
     "metadata": {},
     "output_type": "execute_result"
    }
   ],
   "source": [
    "# Уберем дубли (оставим только самые свежие по времени знения) и сджойним с category_tree\n",
    "category_props = category_props \\\n",
    "            .sort_values(by=[\"itemid\", \"timestamp\"]) \\\n",
    "            .drop_duplicates(subset=[\"itemid\"], keep=\"last\") \\\n",
    "            .merge(category_tree, left_on=\"value\", right_on=\"categoryid\") \\\n",
    "            .drop([\"timestamp\", \"property\", \"value\"], axis=1)\n",
    "category_props.head(10)"
   ]
  },
  {
   "cell_type": "code",
   "execution_count": 54,
   "metadata": {
    "pycharm": {
     "name": "#%%\n"
    }
   },
   "outputs": [],
   "source": [
    "# получилась удобнаятаблица с инфо о товарах и их категориях"
   ]
  },
  {
   "cell_type": "code",
   "execution_count": 55,
   "metadata": {
    "pycharm": {
     "name": "#%%\n"
    }
   },
   "outputs": [
    {
     "name": "stdout",
     "output_type": "stream",
     "text": [
      "<class 'pandas.core.frame.DataFrame'>\n",
      "RangeIndex: 416921 entries, 0 to 416920\n",
      "Data columns (total 3 columns):\n",
      " #   Column      Non-Null Count   Dtype  \n",
      "---  ------      --------------   -----  \n",
      " 0   itemid      416921 non-null  int64  \n",
      " 1   categoryid  416921 non-null  int64  \n",
      " 2   parentid    416896 non-null  float64\n",
      "dtypes: float64(1), int64(2)\n",
      "memory usage: 9.5 MB\n"
     ]
    }
   ],
   "source": [
    "category_props.info()"
   ]
  },
  {
   "cell_type": "code",
   "execution_count": 56,
   "metadata": {
    "pycharm": {
     "name": "#%%\n"
    }
   },
   "outputs": [
    {
     "data": {
      "text/plain": [
       "itemid         0\n",
       "categoryid     0\n",
       "parentid      25\n",
       "dtype: int64"
      ]
     },
     "execution_count": 56,
     "metadata": {},
     "output_type": "execute_result"
    }
   ],
   "source": [
    "category_props.isna().sum()"
   ]
  },
  {
   "cell_type": "code",
   "execution_count": 57,
   "metadata": {
    "pycharm": {
     "name": "#%%\n"
    }
   },
   "outputs": [],
   "source": [
    "# еще осталось 25 товаров с неизвестной родительской категории"
   ]
  },
  {
   "cell_type": "code",
   "execution_count": 58,
   "metadata": {
    "pycharm": {
     "name": "#%%\n"
    }
   },
   "outputs": [],
   "source": [
    "# Посмотрим на признак доступности товара"
   ]
  },
  {
   "cell_type": "code",
   "execution_count": 59,
   "metadata": {
    "pycharm": {
     "name": "#%%\n"
    }
   },
   "outputs": [
    {
     "name": "stdout",
     "output_type": "stream",
     "text": [
      "количество строк с инфо о доступности товара в availability_props_1:  817387\n",
      "количество строк с инфо о доступности товара в availability_props_2:  686252\n"
     ]
    }
   ],
   "source": [
    "availability_props_1 = item_props_1.query(\"property == 'available'\")\n",
    "print(\"количество строк с инфо о доступности товара в availability_props_1: \", availability_props_1.shape[0])\n",
    "availability_props_2 = item_props_2.query(\"property == 'available'\")\n",
    "print(\"количество строк с инфо о доступности товара в availability_props_2: \", availability_props_2.shape[0])"
   ]
  },
  {
   "cell_type": "code",
   "execution_count": 60,
   "metadata": {
    "pycharm": {
     "name": "#%%\n"
    }
   },
   "outputs": [
    {
     "data": {
      "text/plain": [
       "(1503639, 4)"
      ]
     },
     "execution_count": 60,
     "metadata": {},
     "output_type": "execute_result"
    }
   ],
   "source": [
    "availability_props = pd.concat([availability_props_1, availability_props_2])\n",
    "availability_props.shape"
   ]
  },
  {
   "cell_type": "code",
   "execution_count": 61,
   "metadata": {
    "pycharm": {
     "name": "#%%\n"
    }
   },
   "outputs": [
    {
     "data": {
      "text/html": [
       "<div>\n",
       "<style scoped>\n",
       "    .dataframe tbody tr th:only-of-type {\n",
       "        vertical-align: middle;\n",
       "    }\n",
       "\n",
       "    .dataframe tbody tr th {\n",
       "        vertical-align: top;\n",
       "    }\n",
       "\n",
       "    .dataframe thead th {\n",
       "        text-align: right;\n",
       "    }\n",
       "</style>\n",
       "<table border=\"1\" class=\"dataframe\">\n",
       "  <thead>\n",
       "    <tr style=\"text-align: right;\">\n",
       "      <th></th>\n",
       "      <th>itemid</th>\n",
       "      <th>value</th>\n",
       "    </tr>\n",
       "  </thead>\n",
       "  <tbody>\n",
       "    <tr>\n",
       "      <th>9066791</th>\n",
       "      <td>0</td>\n",
       "      <td>0</td>\n",
       "    </tr>\n",
       "    <tr>\n",
       "      <th>7699440</th>\n",
       "      <td>1</td>\n",
       "      <td>0</td>\n",
       "    </tr>\n",
       "    <tr>\n",
       "      <th>2122310</th>\n",
       "      <td>2</td>\n",
       "      <td>0</td>\n",
       "    </tr>\n",
       "    <tr>\n",
       "      <th>795922</th>\n",
       "      <td>3</td>\n",
       "      <td>0</td>\n",
       "    </tr>\n",
       "    <tr>\n",
       "      <th>725402</th>\n",
       "      <td>4</td>\n",
       "      <td>0</td>\n",
       "    </tr>\n",
       "    <tr>\n",
       "      <th>4224223</th>\n",
       "      <td>5</td>\n",
       "      <td>0</td>\n",
       "    </tr>\n",
       "    <tr>\n",
       "      <th>8612731</th>\n",
       "      <td>6</td>\n",
       "      <td>0</td>\n",
       "    </tr>\n",
       "    <tr>\n",
       "      <th>2012333</th>\n",
       "      <td>7</td>\n",
       "      <td>0</td>\n",
       "    </tr>\n",
       "    <tr>\n",
       "      <th>6601625</th>\n",
       "      <td>8</td>\n",
       "      <td>0</td>\n",
       "    </tr>\n",
       "    <tr>\n",
       "      <th>7535032</th>\n",
       "      <td>10</td>\n",
       "      <td>0</td>\n",
       "    </tr>\n",
       "  </tbody>\n",
       "</table>\n",
       "</div>"
      ],
      "text/plain": [
       "         itemid  value\n",
       "9066791       0      0\n",
       "7699440       1      0\n",
       "2122310       2      0\n",
       "795922        3      0\n",
       "725402        4      0\n",
       "4224223       5      0\n",
       "8612731       6      0\n",
       "2012333       7      0\n",
       "6601625       8      0\n",
       "7535032      10      0"
      ]
     },
     "execution_count": 61,
     "metadata": {},
     "output_type": "execute_result"
    }
   ],
   "source": [
    "availability_props[\"value\"] = availability_props[\"value\"].astype(\"int64\")\n",
    "availability_props = availability_props \\\n",
    "            .sort_values(by=[\"itemid\", \"timestamp\"]) \\\n",
    "            .drop_duplicates(subset=[\"itemid\"], keep=\"last\") \\\n",
    "            .drop([\"timestamp\", \"property\"], axis=1)\n",
    "availability_props.head(10)"
   ]
  },
  {
   "cell_type": "code",
   "execution_count": 62,
   "metadata": {
    "pycharm": {
     "name": "#%%\n"
    }
   },
   "outputs": [
    {
     "data": {
      "text/plain": [
       "value\n",
       "0    363043\n",
       "1     54010\n",
       "Name: count, dtype: int64"
      ]
     },
     "execution_count": 62,
     "metadata": {},
     "output_type": "execute_result"
    }
   ],
   "source": [
    "availability_props['value'].value_counts(dropna=False)"
   ]
  },
  {
   "cell_type": "code",
   "execution_count": 63,
   "metadata": {
    "pycharm": {
     "name": "#%%\n"
    }
   },
   "outputs": [
    {
     "data": {
      "text/html": [
       "<div>\n",
       "<style scoped>\n",
       "    .dataframe tbody tr th:only-of-type {\n",
       "        vertical-align: middle;\n",
       "    }\n",
       "\n",
       "    .dataframe tbody tr th {\n",
       "        vertical-align: top;\n",
       "    }\n",
       "\n",
       "    .dataframe thead th {\n",
       "        text-align: right;\n",
       "    }\n",
       "</style>\n",
       "<table border=\"1\" class=\"dataframe\">\n",
       "  <thead>\n",
       "    <tr style=\"text-align: right;\">\n",
       "      <th></th>\n",
       "      <th>item_id</th>\n",
       "      <th>category_id</th>\n",
       "      <th>parent_id</th>\n",
       "    </tr>\n",
       "  </thead>\n",
       "  <tbody>\n",
       "    <tr>\n",
       "      <th>0</th>\n",
       "      <td>0</td>\n",
       "      <td>209</td>\n",
       "      <td>293.0</td>\n",
       "    </tr>\n",
       "    <tr>\n",
       "      <th>1</th>\n",
       "      <td>1</td>\n",
       "      <td>1114</td>\n",
       "      <td>113.0</td>\n",
       "    </tr>\n",
       "    <tr>\n",
       "      <th>2</th>\n",
       "      <td>2</td>\n",
       "      <td>1305</td>\n",
       "      <td>1214.0</td>\n",
       "    </tr>\n",
       "    <tr>\n",
       "      <th>3</th>\n",
       "      <td>3</td>\n",
       "      <td>1171</td>\n",
       "      <td>938.0</td>\n",
       "    </tr>\n",
       "    <tr>\n",
       "      <th>4</th>\n",
       "      <td>4</td>\n",
       "      <td>1038</td>\n",
       "      <td>1174.0</td>\n",
       "    </tr>\n",
       "  </tbody>\n",
       "</table>\n",
       "</div>"
      ],
      "text/plain": [
       "   item_id  category_id  parent_id\n",
       "0        0          209      293.0\n",
       "1        1         1114      113.0\n",
       "2        2         1305     1214.0\n",
       "3        3         1171      938.0\n",
       "4        4         1038     1174.0"
      ]
     },
     "execution_count": 63,
     "metadata": {},
     "output_type": "execute_result"
    }
   ],
   "source": [
    "category_props = category_props.rename(\n",
    "    columns={\n",
    "        \"itemid\": \"item_id\",\n",
    "        \"categoryid\": \"category_id\",\n",
    "        \"parentid\": \"parent_id\",\n",
    "    }\n",
    ")\n",
    "category_props.head()"
   ]
  },
  {
   "cell_type": "code",
   "execution_count": 64,
   "metadata": {
    "pycharm": {
     "name": "#%%\n"
    }
   },
   "outputs": [
    {
     "data": {
      "text/html": [
       "<div>\n",
       "<style scoped>\n",
       "    .dataframe tbody tr th:only-of-type {\n",
       "        vertical-align: middle;\n",
       "    }\n",
       "\n",
       "    .dataframe tbody tr th {\n",
       "        vertical-align: top;\n",
       "    }\n",
       "\n",
       "    .dataframe thead th {\n",
       "        text-align: right;\n",
       "    }\n",
       "</style>\n",
       "<table border=\"1\" class=\"dataframe\">\n",
       "  <thead>\n",
       "    <tr style=\"text-align: right;\">\n",
       "      <th></th>\n",
       "      <th>item_id</th>\n",
       "      <th>available</th>\n",
       "    </tr>\n",
       "  </thead>\n",
       "  <tbody>\n",
       "    <tr>\n",
       "      <th>9066791</th>\n",
       "      <td>0</td>\n",
       "      <td>0</td>\n",
       "    </tr>\n",
       "    <tr>\n",
       "      <th>7699440</th>\n",
       "      <td>1</td>\n",
       "      <td>0</td>\n",
       "    </tr>\n",
       "    <tr>\n",
       "      <th>2122310</th>\n",
       "      <td>2</td>\n",
       "      <td>0</td>\n",
       "    </tr>\n",
       "    <tr>\n",
       "      <th>795922</th>\n",
       "      <td>3</td>\n",
       "      <td>0</td>\n",
       "    </tr>\n",
       "    <tr>\n",
       "      <th>725402</th>\n",
       "      <td>4</td>\n",
       "      <td>0</td>\n",
       "    </tr>\n",
       "  </tbody>\n",
       "</table>\n",
       "</div>"
      ],
      "text/plain": [
       "         item_id  available\n",
       "9066791        0          0\n",
       "7699440        1          0\n",
       "2122310        2          0\n",
       "795922         3          0\n",
       "725402         4          0"
      ]
     },
     "execution_count": 64,
     "metadata": {},
     "output_type": "execute_result"
    }
   ],
   "source": [
    "availability_props = availability_props.rename(\n",
    "    columns={\n",
    "        \"itemid\": \"item_id\",\n",
    "        \"value\": \"available\",\n",
    "    }\n",
    ")\n",
    "availability_props.head()"
   ]
  },
  {
   "cell_type": "code",
   "execution_count": 65,
   "metadata": {
    "pycharm": {
     "name": "#%%\n"
    }
   },
   "outputs": [],
   "source": [
    "# попробуем посмотреть другие фичи"
   ]
  },
  {
   "cell_type": "code",
   "execution_count": 66,
   "metadata": {
    "pycharm": {
     "name": "#%%\n"
    }
   },
   "outputs": [
    {
     "data": {
      "text/html": [
       "<div>\n",
       "<style scoped>\n",
       "    .dataframe tbody tr th:only-of-type {\n",
       "        vertical-align: middle;\n",
       "    }\n",
       "\n",
       "    .dataframe tbody tr th {\n",
       "        vertical-align: top;\n",
       "    }\n",
       "\n",
       "    .dataframe thead th {\n",
       "        text-align: right;\n",
       "    }\n",
       "</style>\n",
       "<table border=\"1\" class=\"dataframe\">\n",
       "  <thead>\n",
       "    <tr style=\"text-align: right;\">\n",
       "      <th></th>\n",
       "      <th>timestamp</th>\n",
       "      <th>itemid</th>\n",
       "      <th>property</th>\n",
       "      <th>value</th>\n",
       "    </tr>\n",
       "  </thead>\n",
       "  <tbody>\n",
       "    <tr>\n",
       "      <th>1</th>\n",
       "      <td>1441508400000</td>\n",
       "      <td>206783</td>\n",
       "      <td>888</td>\n",
       "      <td>1116713 960601 n277.200</td>\n",
       "    </tr>\n",
       "    <tr>\n",
       "      <th>10</th>\n",
       "      <td>1439089200000</td>\n",
       "      <td>450113</td>\n",
       "      <td>888</td>\n",
       "      <td>1038400 45956 n504.000</td>\n",
       "    </tr>\n",
       "    <tr>\n",
       "      <th>17</th>\n",
       "      <td>1436670000000</td>\n",
       "      <td>319291</td>\n",
       "      <td>888</td>\n",
       "      <td>1292080</td>\n",
       "    </tr>\n",
       "    <tr>\n",
       "      <th>26</th>\n",
       "      <td>1435460400000</td>\n",
       "      <td>16615</td>\n",
       "      <td>888</td>\n",
       "      <td>150169 176547 824301 24474 293011 1240134</td>\n",
       "    </tr>\n",
       "    <tr>\n",
       "      <th>40</th>\n",
       "      <td>1433646000000</td>\n",
       "      <td>152892</td>\n",
       "      <td>888</td>\n",
       "      <td>599031</td>\n",
       "    </tr>\n",
       "    <tr>\n",
       "      <th>45</th>\n",
       "      <td>1435460400000</td>\n",
       "      <td>95237</td>\n",
       "      <td>888</td>\n",
       "      <td>883447 726612</td>\n",
       "    </tr>\n",
       "    <tr>\n",
       "      <th>48</th>\n",
       "      <td>1442113200000</td>\n",
       "      <td>372355</td>\n",
       "      <td>888</td>\n",
       "      <td>1051803 1227205 n712862568.000 992862 951748 6...</td>\n",
       "    </tr>\n",
       "    <tr>\n",
       "      <th>57</th>\n",
       "      <td>1434250800000</td>\n",
       "      <td>4454</td>\n",
       "      <td>888</td>\n",
       "      <td>1024724 220869</td>\n",
       "    </tr>\n",
       "    <tr>\n",
       "      <th>65</th>\n",
       "      <td>1432436400000</td>\n",
       "      <td>313836</td>\n",
       "      <td>888</td>\n",
       "      <td>n120.000 586893 1166722 237874 43137</td>\n",
       "    </tr>\n",
       "    <tr>\n",
       "      <th>75</th>\n",
       "      <td>1431226800000</td>\n",
       "      <td>53090</td>\n",
       "      <td>888</td>\n",
       "      <td>297660 1301543</td>\n",
       "    </tr>\n",
       "  </tbody>\n",
       "</table>\n",
       "</div>"
      ],
      "text/plain": [
       "        timestamp  itemid property  \\\n",
       "1   1441508400000  206783      888   \n",
       "10  1439089200000  450113      888   \n",
       "17  1436670000000  319291      888   \n",
       "26  1435460400000   16615      888   \n",
       "40  1433646000000  152892      888   \n",
       "45  1435460400000   95237      888   \n",
       "48  1442113200000  372355      888   \n",
       "57  1434250800000    4454      888   \n",
       "65  1432436400000  313836      888   \n",
       "75  1431226800000   53090      888   \n",
       "\n",
       "                                                value  \n",
       "1                             1116713 960601 n277.200  \n",
       "10                             1038400 45956 n504.000  \n",
       "17                                            1292080  \n",
       "26          150169 176547 824301 24474 293011 1240134  \n",
       "40                                             599031  \n",
       "45                                      883447 726612  \n",
       "48  1051803 1227205 n712862568.000 992862 951748 6...  \n",
       "57                                     1024724 220869  \n",
       "65               n120.000 586893 1166722 237874 43137  \n",
       "75                                     297660 1301543  "
      ]
     },
     "execution_count": 66,
     "metadata": {},
     "output_type": "execute_result"
    }
   ],
   "source": [
    "item_props_1[item_props_1['property'] == '888'].head(10)"
   ]
  },
  {
   "cell_type": "code",
   "execution_count": 67,
   "metadata": {
    "pycharm": {
     "name": "#%%\n"
    }
   },
   "outputs": [],
   "source": [
    "# непонятные характеристики"
   ]
  },
  {
   "cell_type": "code",
   "execution_count": 68,
   "metadata": {
    "pycharm": {
     "name": "#%%\n"
    }
   },
   "outputs": [
    {
     "data": {
      "text/plain": [
       "value\n",
       "n0.000          10955\n",
       "n8400.000        3876\n",
       "n5760.000        2743\n",
       "n9480.000        2692\n",
       "n6240.000        2557\n",
       "                ...  \n",
       "n2180400.000        1\n",
       "n78864.000          1\n",
       "n114732.000         1\n",
       "n22265.040          1\n",
       "n25272.000          1\n",
       "Name: count, Length: 25995, dtype: int64"
      ]
     },
     "execution_count": 68,
     "metadata": {},
     "output_type": "execute_result"
    }
   ],
   "source": [
    "item_props_1[item_props_1['property'] == '790']['value'].value_counts()"
   ]
  },
  {
   "cell_type": "code",
   "execution_count": 69,
   "metadata": {
    "pycharm": {
     "name": "#%%\n"
    }
   },
   "outputs": [],
   "source": [
    "# непонятные характеристики"
   ]
  },
  {
   "cell_type": "code",
   "execution_count": 70,
   "metadata": {
    "pycharm": {
     "name": "#%%\n"
    }
   },
   "outputs": [
    {
     "data": {
      "text/plain": [
       "value\n",
       "1115994                                24096\n",
       "1152934 1238769                        19621\n",
       "1263524                                14367\n",
       "1252290 1319279 920988                 11406\n",
       "452320 853231                           9399\n",
       "                                       ...  \n",
       "1264010 408257 1065616                     1\n",
       "1296854 968890                             1\n",
       "353870 434109 45241                        1\n",
       "1322342 38028 150169 968890 1325686        1\n",
       "457851 1222786 1133979 1338115             1\n",
       "Name: count, Length: 4134, dtype: int64"
      ]
     },
     "execution_count": 70,
     "metadata": {},
     "output_type": "execute_result"
    }
   ],
   "source": [
    "item_props_1[item_props_1['property'] == '6']['value'].value_counts()"
   ]
  },
  {
   "cell_type": "code",
   "execution_count": 71,
   "metadata": {
    "pycharm": {
     "name": "#%%\n"
    }
   },
   "outputs": [],
   "source": [
    "# непонятные характеристики"
   ]
  },
  {
   "cell_type": "code",
   "execution_count": 72,
   "metadata": {
    "pycharm": {
     "name": "#%%\n"
    }
   },
   "outputs": [
    {
     "data": {
      "text/plain": [
       "value\n",
       "1319279 920988 828472                                                                                                                                                                                                                                                           1251\n",
       "1319279 920988 639039                                                                                                                                                                                                                                                            846\n",
       "61706 920988 828472                                                                                                                                                                                                                                                              799\n",
       "61706 920988 639039                                                                                                                                                                                                                                                              494\n",
       "1319279 920988 639039 1048920                                                                                                                                                                                                                                                    401\n",
       "                                                                                                                                                                                                                                                                                ... \n",
       "162014 193239 1013332 872991 511648 1240538 n24.000 8735 648132 1072279 1013332 872991 511648 1240538 n24.000 8735 224903 1051562 30603 983704 162014 193239 811734 1214727 871060 19090 654986 269774 621351 245813 136817 175571 537358 42172 1292442 30603 170425 1175087       1\n",
       "985131 1011100 978324 490698 985131 1011100 978324 1039286 150169 610517 1128577 518047 1178208 n36.000 350726 117069 985131 369678 1010000 205513 653611 1238376 1310535 986284 320479 834282 985131 9609 1071900 532074 30603 673876 54104 879078                                1\n",
       "1266579 435885 342228 1268990 1266579 435885 342228 n31212.000 371002 1257447 703408 860396 n72.000 656997 1094908 56371 16970 n1980.000 739952 656997 150169 1094908 108347 653611 1277294 21488 136817 1306028 1071900 880027 335026 1266579 962131 718248 923857 931163         1\n",
       "460346 14278 1242195 896095 1172858                                                                                                                                                                                                                                                1\n",
       "253511 703408 457851 212349 542374 366600 269926 554804 253511 212349 716094 150169 545482 1297729 734913 212349 312815 1189968 113508 391226 681821 884546 1215254 117991 1116167 581854 1135856 29768 174342 653611 42114 44732 1128577 139241 30603                             1\n",
       "Name: count, Length: 193744, dtype: int64"
      ]
     },
     "execution_count": 72,
     "metadata": {},
     "output_type": "execute_result"
    }
   ],
   "source": [
    "item_props_1[item_props_1['property'] == '283']['value'].value_counts()"
   ]
  },
  {
   "cell_type": "code",
   "execution_count": 73,
   "metadata": {
    "pycharm": {
     "name": "#%%\n"
    }
   },
   "outputs": [],
   "source": [
    "# непонятные характеристики - какаято история"
   ]
  },
  {
   "cell_type": "code",
   "execution_count": 74,
   "metadata": {
    "pycharm": {
     "name": "#%%\n"
    }
   },
   "outputs": [
    {
     "data": {
      "text/html": [
       "<div>\n",
       "<style scoped>\n",
       "    .dataframe tbody tr th:only-of-type {\n",
       "        vertical-align: middle;\n",
       "    }\n",
       "\n",
       "    .dataframe tbody tr th {\n",
       "        vertical-align: top;\n",
       "    }\n",
       "\n",
       "    .dataframe thead th {\n",
       "        text-align: right;\n",
       "    }\n",
       "</style>\n",
       "<table border=\"1\" class=\"dataframe\">\n",
       "  <thead>\n",
       "    <tr style=\"text-align: right;\">\n",
       "      <th></th>\n",
       "      <th>timestamp</th>\n",
       "      <th>itemid</th>\n",
       "      <th>property</th>\n",
       "      <th>value</th>\n",
       "    </tr>\n",
       "  </thead>\n",
       "  <tbody>\n",
       "    <tr>\n",
       "      <th>32</th>\n",
       "      <td>1432436400000</td>\n",
       "      <td>324117</td>\n",
       "      <td>776</td>\n",
       "      <td>168106</td>\n",
       "    </tr>\n",
       "    <tr>\n",
       "      <th>36</th>\n",
       "      <td>1441508400000</td>\n",
       "      <td>367159</td>\n",
       "      <td>776</td>\n",
       "      <td>1325415</td>\n",
       "    </tr>\n",
       "    <tr>\n",
       "      <th>62</th>\n",
       "      <td>1433646000000</td>\n",
       "      <td>136445</td>\n",
       "      <td>776</td>\n",
       "      <td>466048</td>\n",
       "    </tr>\n",
       "    <tr>\n",
       "      <th>106</th>\n",
       "      <td>1431831600000</td>\n",
       "      <td>322092</td>\n",
       "      <td>776</td>\n",
       "      <td>1017929</td>\n",
       "    </tr>\n",
       "    <tr>\n",
       "      <th>141</th>\n",
       "      <td>1431226800000</td>\n",
       "      <td>22474</td>\n",
       "      <td>776</td>\n",
       "      <td>39354</td>\n",
       "    </tr>\n",
       "    <tr>\n",
       "      <th>...</th>\n",
       "      <td>...</td>\n",
       "      <td>...</td>\n",
       "      <td>...</td>\n",
       "      <td>...</td>\n",
       "    </tr>\n",
       "    <tr>\n",
       "      <th>10999869</th>\n",
       "      <td>1433041200000</td>\n",
       "      <td>280477</td>\n",
       "      <td>776</td>\n",
       "      <td>723856</td>\n",
       "    </tr>\n",
       "    <tr>\n",
       "      <th>10999887</th>\n",
       "      <td>1431226800000</td>\n",
       "      <td>420001</td>\n",
       "      <td>776</td>\n",
       "      <td>120384</td>\n",
       "    </tr>\n",
       "    <tr>\n",
       "      <th>10999920</th>\n",
       "      <td>1440298800000</td>\n",
       "      <td>10793</td>\n",
       "      <td>776</td>\n",
       "      <td>637750</td>\n",
       "    </tr>\n",
       "    <tr>\n",
       "      <th>10999947</th>\n",
       "      <td>1431226800000</td>\n",
       "      <td>417455</td>\n",
       "      <td>776</td>\n",
       "      <td>1224743</td>\n",
       "    </tr>\n",
       "    <tr>\n",
       "      <th>10999984</th>\n",
       "      <td>1431226800000</td>\n",
       "      <td>55502</td>\n",
       "      <td>776</td>\n",
       "      <td>529912</td>\n",
       "    </tr>\n",
       "  </tbody>\n",
       "</table>\n",
       "<p>311654 rows × 4 columns</p>\n",
       "</div>"
      ],
      "text/plain": [
       "              timestamp  itemid property    value\n",
       "32        1432436400000  324117      776   168106\n",
       "36        1441508400000  367159      776  1325415\n",
       "62        1433646000000  136445      776   466048\n",
       "106       1431831600000  322092      776  1017929\n",
       "141       1431226800000   22474      776    39354\n",
       "...                 ...     ...      ...      ...\n",
       "10999869  1433041200000  280477      776   723856\n",
       "10999887  1431226800000  420001      776   120384\n",
       "10999920  1440298800000   10793      776   637750\n",
       "10999947  1431226800000  417455      776  1224743\n",
       "10999984  1431226800000   55502      776   529912\n",
       "\n",
       "[311654 rows x 4 columns]"
      ]
     },
     "execution_count": 74,
     "metadata": {},
     "output_type": "execute_result"
    }
   ],
   "source": [
    "item_props_1[item_props_1['property'] == '776']"
   ]
  },
  {
   "cell_type": "code",
   "execution_count": 75,
   "metadata": {
    "pycharm": {
     "name": "#%%\n"
    }
   },
   "outputs": [
    {
     "data": {
      "text/plain": [
       "property\n",
       "888           1629817\n",
       "790            970800\n",
       "available      817387\n",
       "categoryid     426305\n",
       "6              343207\n",
       "283            323681\n",
       "776            311654\n",
       "678            261829\n",
       "364            256340\n",
       "202            242984\n",
       "839            226921\n",
       "159            226502\n",
       "917            226437\n",
       "764            226242\n",
       "112            226102\n",
       "227            188209\n",
       "698            157281\n",
       "451            142388\n",
       "663            131331\n",
       "962            128976\n",
       "Name: count, dtype: int64"
      ]
     },
     "execution_count": 75,
     "metadata": {},
     "output_type": "execute_result"
    }
   ],
   "source": [
    "item_props_1.property.value_counts().head(20)"
   ]
  },
  {
   "cell_type": "code",
   "execution_count": 76,
   "metadata": {
    "pycharm": {
     "name": "#%%\n"
    }
   },
   "outputs": [],
   "source": [
    "# Перебирать все характеристики не будем, пока хватит доступности и того что мы сматчили итемсы с их группами"
   ]
  },
  {
   "cell_type": "markdown",
   "metadata": {
    "pycharm": {
     "name": "#%% md\n"
    }
   },
   "source": [
    "### 2.4. Сохраним артефакты этапа в Mlflow"
   ]
  },
  {
   "cell_type": "code",
   "execution_count": 77,
   "metadata": {
    "pycharm": {
     "name": "#%%\n"
    }
   },
   "outputs": [
    {
     "name": "stdout",
     "output_type": "stream",
     "text": [
      "🏃 View run eda at: http://127.0.0.1:5000/#/experiments/1/runs/532788699b72478abe56fd0fec90de14\n",
      "🧪 View experiment at: http://127.0.0.1:5000/#/experiments/1\n"
     ]
    }
   ],
   "source": [
    "RUN_NAME = \"eda\"\n",
    "with mlflow.start_run(run_name=RUN_NAME, experiment_id=experiment_id) as run:\n",
    "    run_id = run.info.run_id\n",
    "    mlflow.log_artifact(f\"{ASSETS}/user_actions.png\", \"eda\")"
   ]
  },
  {
   "cell_type": "markdown",
   "metadata": {
    "pycharm": {
     "name": "#%% md\n"
    }
   },
   "source": [
    "### 2.5. Выводы"
   ]
  },
  {
   "cell_type": "markdown",
   "metadata": {
    "pycharm": {
     "name": "#%% md\n"
    }
   },
   "source": [
    "- Не все категории могут быть частью родительской группы. По даным, 25 групп не имеют родителя."
   ]
  },
  {
   "cell_type": "markdown",
   "metadata": {
    "pycharm": {
     "name": "#%% md\n"
    }
   },
   "source": [
    "- Действия пользователя - просмотр, добавление в корзину и покупка. Добавление в корзину и покупка занимают очень малую долю от всех действий пользователей. Идентификатор покупки может охватывать несколько айтемов. Покупка возможна только после добавления в корзину."
   ]
  },
  {
   "cell_type": "markdown",
   "metadata": {
    "pycharm": {
     "name": "#%% md\n"
    }
   },
   "source": [
    "- Свойства айтемов представляют собой два набора данных с разнообразной информацией о различных своиствах и их значениях. Для дальнейшей работы мы вытянули связь между группой товара и его айтемайди, а также иснофрмацию о доступности товара. Остальные частотные свойства не получилось както правильно интерпретировать."
   ]
  },
  {
   "cell_type": "markdown",
   "metadata": {
    "pycharm": {
     "name": "#%% md\n"
    }
   },
   "source": [
    "# 3. Обучение рекомендаций"
   ]
  },
  {
   "cell_type": "markdown",
   "metadata": {
    "pycharm": {
     "name": "#%% md\n"
    }
   },
   "source": [
    "На данном этапе мы должны подготовить несколько видов рекомендательных моделей:\n",
    "- Офлайн рекомендации:\n",
    "    - Персональные рекомендации\n",
    "    - Топ самых популярных айтемов\n",
    "- Онлайн рекомендации, основанные на похожести айтемов"
   ]
  },
  {
   "cell_type": "markdown",
   "metadata": {
    "pycharm": {
     "name": "#%% md\n"
    }
   },
   "source": [
    "### 3.1 Подготовка событий"
   ]
  },
  {
   "cell_type": "code",
   "execution_count": 78,
   "metadata": {
    "pycharm": {
     "name": "#%%\n"
    }
   },
   "outputs": [
    {
     "data": {
      "text/html": [
       "<div>\n",
       "<style scoped>\n",
       "    .dataframe tbody tr th:only-of-type {\n",
       "        vertical-align: middle;\n",
       "    }\n",
       "\n",
       "    .dataframe tbody tr th {\n",
       "        vertical-align: top;\n",
       "    }\n",
       "\n",
       "    .dataframe thead th {\n",
       "        text-align: right;\n",
       "    }\n",
       "</style>\n",
       "<table border=\"1\" class=\"dataframe\">\n",
       "  <thead>\n",
       "    <tr style=\"text-align: right;\">\n",
       "      <th></th>\n",
       "      <th>timestamp</th>\n",
       "      <th>user_id</th>\n",
       "      <th>event</th>\n",
       "      <th>item_id</th>\n",
       "      <th>transaction_id</th>\n",
       "    </tr>\n",
       "  </thead>\n",
       "  <tbody>\n",
       "    <tr>\n",
       "      <th>0</th>\n",
       "      <td>1433221332117</td>\n",
       "      <td>257597</td>\n",
       "      <td>view</td>\n",
       "      <td>355908</td>\n",
       "      <td>NaN</td>\n",
       "    </tr>\n",
       "    <tr>\n",
       "      <th>1</th>\n",
       "      <td>1433224214164</td>\n",
       "      <td>992329</td>\n",
       "      <td>view</td>\n",
       "      <td>248676</td>\n",
       "      <td>NaN</td>\n",
       "    </tr>\n",
       "    <tr>\n",
       "      <th>2</th>\n",
       "      <td>1433221999827</td>\n",
       "      <td>111016</td>\n",
       "      <td>view</td>\n",
       "      <td>318965</td>\n",
       "      <td>NaN</td>\n",
       "    </tr>\n",
       "    <tr>\n",
       "      <th>3</th>\n",
       "      <td>1433221955914</td>\n",
       "      <td>483717</td>\n",
       "      <td>view</td>\n",
       "      <td>253185</td>\n",
       "      <td>NaN</td>\n",
       "    </tr>\n",
       "    <tr>\n",
       "      <th>4</th>\n",
       "      <td>1433221337106</td>\n",
       "      <td>951259</td>\n",
       "      <td>view</td>\n",
       "      <td>367447</td>\n",
       "      <td>NaN</td>\n",
       "    </tr>\n",
       "  </tbody>\n",
       "</table>\n",
       "</div>"
      ],
      "text/plain": [
       "       timestamp  user_id event  item_id  transaction_id\n",
       "0  1433221332117   257597  view   355908             NaN\n",
       "1  1433224214164   992329  view   248676             NaN\n",
       "2  1433221999827   111016  view   318965             NaN\n",
       "3  1433221955914   483717  view   253185             NaN\n",
       "4  1433221337106   951259  view   367447             NaN"
      ]
     },
     "execution_count": 78,
     "metadata": {},
     "output_type": "execute_result"
    }
   ],
   "source": [
    "# переименуем события\n",
    "events = events.rename(\n",
    "    columns={\n",
    "        \"visitorid\": \"user_id\",\n",
    "        \"itemid\": \"item_id\",\n",
    "        \"transactionid\": \"transaction_id\",\n",
    "    }\n",
    ")\n",
    "events.head()"
   ]
  },
  {
   "cell_type": "code",
   "execution_count": 79,
   "metadata": {
    "pycharm": {
     "name": "#%%\n"
    }
   },
   "outputs": [],
   "source": [
    "# оценим долю событий которую можно брать для юзеров"
   ]
  },
  {
   "cell_type": "code",
   "execution_count": 80,
   "metadata": {
    "pycharm": {
     "name": "#%%\n"
    }
   },
   "outputs": [
    {
     "name": "stdout",
     "output_type": "stream",
     "text": [
      "Для отметки 1 мы оставим 1.0 юзеров\n",
      "Для отметки 2 мы оставим 0.28845252134869775 юзеров\n",
      "Для отметки 3 мы оставим 0.14210773099930377 юзеров\n",
      "Для отметки 5 мы оставим 0.05798604697423947 юзеров\n",
      "Для отметки 7 мы оставим 0.03159678313133179 юзеров\n",
      "Для отметки 10 мы оставим 0.016511317296352607 юзеров\n",
      "Для отметки 20 мы оставим 0.004696003069097316 юзеров\n",
      "Для отметки 30 мы оставим 0.0022542235610054136 юзеров\n",
      "Для отметки 50 мы оставим 0.0008994160189829352 юзеров\n",
      "Для отметки 100 мы оставим 0.0002962531436934313 юзеров\n",
      "Для отметки 1000 мы оставим 2.1313175805282825e-05 юзеров\n"
     ]
    }
   ],
   "source": [
    "for trsh in [1, 2, 3, 5, 7, 10, 20, 30, 50, 100, 1000]:\n",
    "    print(f\"Для отметки {trsh} мы оставим {(events.groupby('user_id')['event'].count() >= trsh).sum() / events['user_id'].nunique()} юзеров\")"
   ]
  },
  {
   "cell_type": "code",
   "execution_count": 81,
   "metadata": {
    "pycharm": {
     "name": "#%%\n"
    }
   },
   "outputs": [
    {
     "data": {
      "text/plain": [
       "(1407163,)"
      ]
     },
     "execution_count": 81,
     "metadata": {},
     "output_type": "execute_result"
    }
   ],
   "source": [
    "# Удалим тех у кого меньше 100 событий:\n",
    "user_events_count = events.groupby(\"user_id\")[\"event\"].count()\n",
    "user_ids_to_remove = user_events_count[user_events_count < 100].index\n",
    "user_ids_to_remove.shape"
   ]
  },
  {
   "cell_type": "code",
   "execution_count": 82,
   "metadata": {
    "pycharm": {
     "name": "#%%\n"
    }
   },
   "outputs": [],
   "source": [
    "# также посмотрим по айтемам"
   ]
  },
  {
   "cell_type": "code",
   "execution_count": 83,
   "metadata": {
    "pycharm": {
     "name": "#%%\n"
    }
   },
   "outputs": [
    {
     "name": "stdout",
     "output_type": "stream",
     "text": [
      "Для отметки 1 мы оставим 0.16699654726551955 айтемов\n",
      "Для отметки 2 мы оставим 0.11470182867048409 айтемов\n",
      "Для отметки 3 мы оставим 0.08995794199974425 айтемов\n",
      "Для отметки 5 мы оставим 0.06461302377129541 айтемов\n",
      "Для отметки 7 мы оставим 0.0511075747026812 айтемов\n",
      "Для отметки 10 мы оставим 0.03916509185978772 айтемов\n",
      "Для отметки 20 мы оставим 0.021701786044132483 айтемов\n",
      "Для отметки 30 мы оставим 0.014366501371147644 айтемов\n",
      "Для отметки 50 мы оставим 0.007932764034726267 айтемов\n",
      "Для отметки 100 мы оставим 0.0029987638358032935 айтемов\n",
      "Для отметки 1000 мы оставим 2.5575810966339392e-05 айтемов\n"
     ]
    }
   ],
   "source": [
    "for trsh in [1, 2, 3, 5, 7, 10, 20, 30, 50, 100, 1000]:\n",
    "    print(f\"Для отметки {trsh} мы оставим {(events.groupby('item_id')['event'].count() >= trsh).sum() / events['user_id'].nunique()} айтемов\")"
   ]
  },
  {
   "cell_type": "code",
   "execution_count": 84,
   "metadata": {
    "pycharm": {
     "name": "#%%\n"
    }
   },
   "outputs": [
    {
     "data": {
      "text/plain": [
       "(234259,)"
      ]
     },
     "execution_count": 84,
     "metadata": {},
     "output_type": "execute_result"
    }
   ],
   "source": [
    "# Удалим тех айткмы у кого менее 60 событий:\n",
    "item_events_count = events.groupby(\"item_id\")[\"event\"].count()\n",
    "item_ids_to_remove = item_events_count[item_events_count < 250].index\n",
    "item_ids_to_remove.shape"
   ]
  },
  {
   "cell_type": "code",
   "execution_count": 85,
   "metadata": {
    "pycharm": {
     "name": "#%%\n"
    }
   },
   "outputs": [
    {
     "name": "stdout",
     "output_type": "stream",
     "text": [
      "<class 'pandas.core.frame.DataFrame'>\n",
      "Index: 21012 entries, 196 to 2755603\n",
      "Data columns (total 5 columns):\n",
      " #   Column          Non-Null Count  Dtype  \n",
      "---  ------          --------------  -----  \n",
      " 0   timestamp       21012 non-null  int64  \n",
      " 1   user_id         21012 non-null  int64  \n",
      " 2   event           21012 non-null  object \n",
      " 3   item_id         21012 non-null  int64  \n",
      " 4   transaction_id  1222 non-null   float64\n",
      "dtypes: float64(1), int64(3), object(1)\n",
      "memory usage: 984.9+ KB\n"
     ]
    }
   ],
   "source": [
    "events = events[~events.user_id.isin(user_ids_to_remove)]\n",
    "events = events[~events.item_id.isin(item_ids_to_remove)]\n",
    "events.info()"
   ]
  },
  {
   "cell_type": "code",
   "execution_count": 86,
   "metadata": {
    "pycharm": {
     "name": "#%%\n"
    }
   },
   "outputs": [],
   "source": [
    "# посмотрим распределение"
   ]
  },
  {
   "cell_type": "code",
   "execution_count": 87,
   "metadata": {
    "pycharm": {
     "name": "#%%\n"
    }
   },
   "outputs": [
    {
     "data": {
      "text/plain": [
       "event\n",
       "view           0.857510\n",
       "addtocart      0.084333\n",
       "transaction    0.058157\n",
       "Name: proportion, dtype: float64"
      ]
     },
     "execution_count": 87,
     "metadata": {},
     "output_type": "execute_result"
    }
   ],
   "source": [
    "events.event.value_counts(0.1)"
   ]
  },
  {
   "cell_type": "code",
   "execution_count": 88,
   "metadata": {
    "pycharm": {
     "name": "#%%\n"
    }
   },
   "outputs": [],
   "source": [
    "def get_date(timestamp):\n",
    "    date = datetime.fromtimestamp(timestamp / 1000)\n",
    "    return date.date()"
   ]
  },
  {
   "cell_type": "code",
   "execution_count": 89,
   "metadata": {
    "pycharm": {
     "name": "#%%\n"
    }
   },
   "outputs": [
    {
     "data": {
      "text/html": [
       "<div>\n",
       "<style scoped>\n",
       "    .dataframe tbody tr th:only-of-type {\n",
       "        vertical-align: middle;\n",
       "    }\n",
       "\n",
       "    .dataframe tbody tr th {\n",
       "        vertical-align: top;\n",
       "    }\n",
       "\n",
       "    .dataframe thead th {\n",
       "        text-align: right;\n",
       "    }\n",
       "</style>\n",
       "<table border=\"1\" class=\"dataframe\">\n",
       "  <thead>\n",
       "    <tr style=\"text-align: right;\">\n",
       "      <th></th>\n",
       "      <th>timestamp</th>\n",
       "      <th>user_id</th>\n",
       "      <th>event</th>\n",
       "      <th>item_id</th>\n",
       "      <th>transaction_id</th>\n",
       "      <th>date_event</th>\n",
       "    </tr>\n",
       "  </thead>\n",
       "  <tbody>\n",
       "    <tr>\n",
       "      <th>196</th>\n",
       "      <td>1433193535886</td>\n",
       "      <td>820159</td>\n",
       "      <td>view</td>\n",
       "      <td>369447</td>\n",
       "      <td>NaN</td>\n",
       "      <td>2015-06-02</td>\n",
       "    </tr>\n",
       "    <tr>\n",
       "      <th>295</th>\n",
       "      <td>1433193493124</td>\n",
       "      <td>1317249</td>\n",
       "      <td>view</td>\n",
       "      <td>204070</td>\n",
       "      <td>NaN</td>\n",
       "      <td>2015-06-02</td>\n",
       "    </tr>\n",
       "    <tr>\n",
       "      <th>458</th>\n",
       "      <td>1433218757551</td>\n",
       "      <td>168685</td>\n",
       "      <td>addtocart</td>\n",
       "      <td>111530</td>\n",
       "      <td>NaN</td>\n",
       "      <td>2015-06-02</td>\n",
       "    </tr>\n",
       "    <tr>\n",
       "      <th>637</th>\n",
       "      <td>1433218636795</td>\n",
       "      <td>776534</td>\n",
       "      <td>view</td>\n",
       "      <td>20388</td>\n",
       "      <td>NaN</td>\n",
       "      <td>2015-06-02</td>\n",
       "    </tr>\n",
       "    <tr>\n",
       "      <th>648</th>\n",
       "      <td>1433218656883</td>\n",
       "      <td>776534</td>\n",
       "      <td>view</td>\n",
       "      <td>20388</td>\n",
       "      <td>NaN</td>\n",
       "      <td>2015-06-02</td>\n",
       "    </tr>\n",
       "    <tr>\n",
       "      <th>748</th>\n",
       "      <td>1433172520454</td>\n",
       "      <td>1172198</td>\n",
       "      <td>view</td>\n",
       "      <td>414460</td>\n",
       "      <td>NaN</td>\n",
       "      <td>2015-06-01</td>\n",
       "    </tr>\n",
       "    <tr>\n",
       "      <th>894</th>\n",
       "      <td>1433175895575</td>\n",
       "      <td>138131</td>\n",
       "      <td>addtocart</td>\n",
       "      <td>430292</td>\n",
       "      <td>NaN</td>\n",
       "      <td>2015-06-02</td>\n",
       "    </tr>\n",
       "    <tr>\n",
       "      <th>896</th>\n",
       "      <td>1433176296108</td>\n",
       "      <td>350566</td>\n",
       "      <td>view</td>\n",
       "      <td>379520</td>\n",
       "      <td>NaN</td>\n",
       "      <td>2015-06-02</td>\n",
       "    </tr>\n",
       "    <tr>\n",
       "      <th>1057</th>\n",
       "      <td>1433182122967</td>\n",
       "      <td>820159</td>\n",
       "      <td>view</td>\n",
       "      <td>305588</td>\n",
       "      <td>NaN</td>\n",
       "      <td>2015-06-02</td>\n",
       "    </tr>\n",
       "    <tr>\n",
       "      <th>1078</th>\n",
       "      <td>1433181873120</td>\n",
       "      <td>38015</td>\n",
       "      <td>view</td>\n",
       "      <td>304685</td>\n",
       "      <td>NaN</td>\n",
       "      <td>2015-06-02</td>\n",
       "    </tr>\n",
       "  </tbody>\n",
       "</table>\n",
       "</div>"
      ],
      "text/plain": [
       "          timestamp  user_id      event  item_id  transaction_id date_event\n",
       "196   1433193535886   820159       view   369447             NaN 2015-06-02\n",
       "295   1433193493124  1317249       view   204070             NaN 2015-06-02\n",
       "458   1433218757551   168685  addtocart   111530             NaN 2015-06-02\n",
       "637   1433218636795   776534       view    20388             NaN 2015-06-02\n",
       "648   1433218656883   776534       view    20388             NaN 2015-06-02\n",
       "748   1433172520454  1172198       view   414460             NaN 2015-06-01\n",
       "894   1433175895575   138131  addtocart   430292             NaN 2015-06-02\n",
       "896   1433176296108   350566       view   379520             NaN 2015-06-02\n",
       "1057  1433182122967   820159       view   305588             NaN 2015-06-02\n",
       "1078  1433181873120    38015       view   304685             NaN 2015-06-02"
      ]
     },
     "execution_count": 89,
     "metadata": {},
     "output_type": "execute_result"
    }
   ],
   "source": [
    "events[\"date_event\"] = events[\"timestamp\"].apply(get_date)\n",
    "events[\"date_event\"] = pd.to_datetime(events[\"date_event\"])\n",
    "events.head(10)"
   ]
  },
  {
   "cell_type": "code",
   "execution_count": 90,
   "metadata": {
    "pycharm": {
     "name": "#%%\n"
    }
   },
   "outputs": [
    {
     "data": {
      "text/plain": [
       "(Timestamp('2015-05-03 00:00:00'), Timestamp('2015-09-18 00:00:00'))"
      ]
     },
     "execution_count": 90,
     "metadata": {},
     "output_type": "execute_result"
    }
   ],
   "source": [
    "min(events.date_event), max(events.date_event)"
   ]
  },
  {
   "cell_type": "code",
   "execution_count": 91,
   "metadata": {
    "pycharm": {
     "name": "#%%\n"
    }
   },
   "outputs": [
    {
     "name": "stdout",
     "output_type": "stream",
     "text": [
      "Число уникальных пользователей:  355\n",
      "Число уникальных товаров:  714\n"
     ]
    }
   ],
   "source": [
    "users_unique = events.user_id.nunique()\n",
    "items_unique = events.item_id.nunique()\n",
    "\n",
    "print(\"Число уникальных пользователей: \", users_unique)\n",
    "print(\"Число уникальных товаров: \", items_unique)"
   ]
  },
  {
   "cell_type": "markdown",
   "metadata": {
    "pycharm": {
     "name": "#%% md\n"
    }
   },
   "source": [
    "Придумаем функцию рейтинга:\n",
    "\n",
    "- основа -  это частота по просмотрам домноженая на 0.01\n",
    "- плюс частота добавлений в корзину домноженая на 0.39\n",
    "- плюс частота покупок - домноженная на 0.6"
   ]
  },
  {
   "cell_type": "code",
   "execution_count": 92,
   "metadata": {
    "pycharm": {
     "name": "#%%\n"
    }
   },
   "outputs": [],
   "source": [
    "events_view = events[events['event'] == 'view'].groupby('item_id')['timestamp'].count().reset_index().rename(columns={'timestamp': 'view_cnt'})"
   ]
  },
  {
   "cell_type": "code",
   "execution_count": 93,
   "metadata": {
    "pycharm": {
     "name": "#%%\n"
    }
   },
   "outputs": [],
   "source": [
    "events_addcart = events[events['event'] == 'addtocart'].groupby('item_id')['timestamp'].count().reset_index().rename(columns={'timestamp': 'addcart_cnt'})"
   ]
  },
  {
   "cell_type": "code",
   "execution_count": 94,
   "metadata": {
    "pycharm": {
     "name": "#%%\n"
    }
   },
   "outputs": [],
   "source": [
    "events_trans = events[events['event'] == 'transaction'].groupby('item_id')['timestamp'].count().reset_index().rename(columns={'timestamp': 'trans_cnt'})"
   ]
  },
  {
   "cell_type": "code",
   "execution_count": 95,
   "metadata": {
    "pycharm": {
     "name": "#%%\n"
    }
   },
   "outputs": [],
   "source": [
    "items_raiting = events_view.merge(\n",
    "    events_addcart, \n",
    "    how='left',\n",
    "    on='item_id'\n",
    ").merge(\n",
    "    events_trans,\n",
    "    how='left',\n",
    "    on='item_id'\n",
    ").fillna(0)"
   ]
  },
  {
   "cell_type": "code",
   "execution_count": 96,
   "metadata": {
    "pycharm": {
     "name": "#%%\n"
    }
   },
   "outputs": [],
   "source": [
    "def get_rate(df):\n",
    "    return df['view_cnt'] * 0.01 + df['addcart_cnt'] * 0.39 + df['trans_cnt'] * 0.6"
   ]
  },
  {
   "cell_type": "code",
   "execution_count": 97,
   "metadata": {
    "pycharm": {
     "name": "#%%\n"
    }
   },
   "outputs": [
    {
     "data": {
      "text/html": [
       "<div>\n",
       "<style scoped>\n",
       "    .dataframe tbody tr th:only-of-type {\n",
       "        vertical-align: middle;\n",
       "    }\n",
       "\n",
       "    .dataframe tbody tr th {\n",
       "        vertical-align: top;\n",
       "    }\n",
       "\n",
       "    .dataframe thead th {\n",
       "        text-align: right;\n",
       "    }\n",
       "</style>\n",
       "<table border=\"1\" class=\"dataframe\">\n",
       "  <thead>\n",
       "    <tr style=\"text-align: right;\">\n",
       "      <th></th>\n",
       "      <th>item_id</th>\n",
       "      <th>view_cnt</th>\n",
       "      <th>addcart_cnt</th>\n",
       "      <th>trans_cnt</th>\n",
       "    </tr>\n",
       "  </thead>\n",
       "  <tbody>\n",
       "    <tr>\n",
       "      <th>0</th>\n",
       "      <td>546</td>\n",
       "      <td>90</td>\n",
       "      <td>13.0</td>\n",
       "      <td>9.0</td>\n",
       "    </tr>\n",
       "    <tr>\n",
       "      <th>1</th>\n",
       "      <td>829</td>\n",
       "      <td>30</td>\n",
       "      <td>7.0</td>\n",
       "      <td>3.0</td>\n",
       "    </tr>\n",
       "    <tr>\n",
       "      <th>2</th>\n",
       "      <td>869</td>\n",
       "      <td>29</td>\n",
       "      <td>6.0</td>\n",
       "      <td>5.0</td>\n",
       "    </tr>\n",
       "    <tr>\n",
       "      <th>3</th>\n",
       "      <td>2836</td>\n",
       "      <td>29</td>\n",
       "      <td>3.0</td>\n",
       "      <td>0.0</td>\n",
       "    </tr>\n",
       "    <tr>\n",
       "      <th>4</th>\n",
       "      <td>4001</td>\n",
       "      <td>23</td>\n",
       "      <td>5.0</td>\n",
       "      <td>4.0</td>\n",
       "    </tr>\n",
       "    <tr>\n",
       "      <th>...</th>\n",
       "      <td>...</td>\n",
       "      <td>...</td>\n",
       "      <td>...</td>\n",
       "      <td>...</td>\n",
       "    </tr>\n",
       "    <tr>\n",
       "      <th>709</th>\n",
       "      <td>465511</td>\n",
       "      <td>14</td>\n",
       "      <td>0.0</td>\n",
       "      <td>1.0</td>\n",
       "    </tr>\n",
       "    <tr>\n",
       "      <th>710</th>\n",
       "      <td>465522</td>\n",
       "      <td>29</td>\n",
       "      <td>6.0</td>\n",
       "      <td>5.0</td>\n",
       "    </tr>\n",
       "    <tr>\n",
       "      <th>711</th>\n",
       "      <td>466008</td>\n",
       "      <td>15</td>\n",
       "      <td>0.0</td>\n",
       "      <td>0.0</td>\n",
       "    </tr>\n",
       "    <tr>\n",
       "      <th>712</th>\n",
       "      <td>466109</td>\n",
       "      <td>19</td>\n",
       "      <td>4.0</td>\n",
       "      <td>2.0</td>\n",
       "    </tr>\n",
       "    <tr>\n",
       "      <th>713</th>\n",
       "      <td>466385</td>\n",
       "      <td>1</td>\n",
       "      <td>0.0</td>\n",
       "      <td>0.0</td>\n",
       "    </tr>\n",
       "  </tbody>\n",
       "</table>\n",
       "<p>714 rows × 4 columns</p>\n",
       "</div>"
      ],
      "text/plain": [
       "     item_id  view_cnt  addcart_cnt  trans_cnt\n",
       "0        546        90         13.0        9.0\n",
       "1        829        30          7.0        3.0\n",
       "2        869        29          6.0        5.0\n",
       "3       2836        29          3.0        0.0\n",
       "4       4001        23          5.0        4.0\n",
       "..       ...       ...          ...        ...\n",
       "709   465511        14          0.0        1.0\n",
       "710   465522        29          6.0        5.0\n",
       "711   466008        15          0.0        0.0\n",
       "712   466109        19          4.0        2.0\n",
       "713   466385         1          0.0        0.0\n",
       "\n",
       "[714 rows x 4 columns]"
      ]
     },
     "execution_count": 97,
     "metadata": {},
     "output_type": "execute_result"
    }
   ],
   "source": [
    "items_raiting"
   ]
  },
  {
   "cell_type": "code",
   "execution_count": 98,
   "metadata": {
    "pycharm": {
     "name": "#%%\n"
    }
   },
   "outputs": [],
   "source": [
    "items_raiting['rating'] = get_rate(items_raiting)"
   ]
  },
  {
   "cell_type": "code",
   "execution_count": 99,
   "metadata": {
    "pycharm": {
     "name": "#%%\n"
    }
   },
   "outputs": [
    {
     "data": {
      "text/html": [
       "<div>\n",
       "<style scoped>\n",
       "    .dataframe tbody tr th:only-of-type {\n",
       "        vertical-align: middle;\n",
       "    }\n",
       "\n",
       "    .dataframe tbody tr th {\n",
       "        vertical-align: top;\n",
       "    }\n",
       "\n",
       "    .dataframe thead th {\n",
       "        text-align: right;\n",
       "    }\n",
       "</style>\n",
       "<table border=\"1\" class=\"dataframe\">\n",
       "  <thead>\n",
       "    <tr style=\"text-align: right;\">\n",
       "      <th></th>\n",
       "      <th>item_id</th>\n",
       "      <th>view_cnt</th>\n",
       "      <th>addcart_cnt</th>\n",
       "      <th>trans_cnt</th>\n",
       "      <th>rating</th>\n",
       "    </tr>\n",
       "  </thead>\n",
       "  <tbody>\n",
       "    <tr>\n",
       "      <th>0</th>\n",
       "      <td>546</td>\n",
       "      <td>90</td>\n",
       "      <td>13.0</td>\n",
       "      <td>9.0</td>\n",
       "      <td>11.37</td>\n",
       "    </tr>\n",
       "    <tr>\n",
       "      <th>1</th>\n",
       "      <td>829</td>\n",
       "      <td>30</td>\n",
       "      <td>7.0</td>\n",
       "      <td>3.0</td>\n",
       "      <td>4.83</td>\n",
       "    </tr>\n",
       "    <tr>\n",
       "      <th>2</th>\n",
       "      <td>869</td>\n",
       "      <td>29</td>\n",
       "      <td>6.0</td>\n",
       "      <td>5.0</td>\n",
       "      <td>5.63</td>\n",
       "    </tr>\n",
       "    <tr>\n",
       "      <th>3</th>\n",
       "      <td>2836</td>\n",
       "      <td>29</td>\n",
       "      <td>3.0</td>\n",
       "      <td>0.0</td>\n",
       "      <td>1.46</td>\n",
       "    </tr>\n",
       "    <tr>\n",
       "      <th>4</th>\n",
       "      <td>4001</td>\n",
       "      <td>23</td>\n",
       "      <td>5.0</td>\n",
       "      <td>4.0</td>\n",
       "      <td>4.58</td>\n",
       "    </tr>\n",
       "    <tr>\n",
       "      <th>...</th>\n",
       "      <td>...</td>\n",
       "      <td>...</td>\n",
       "      <td>...</td>\n",
       "      <td>...</td>\n",
       "      <td>...</td>\n",
       "    </tr>\n",
       "    <tr>\n",
       "      <th>709</th>\n",
       "      <td>465511</td>\n",
       "      <td>14</td>\n",
       "      <td>0.0</td>\n",
       "      <td>1.0</td>\n",
       "      <td>0.74</td>\n",
       "    </tr>\n",
       "    <tr>\n",
       "      <th>710</th>\n",
       "      <td>465522</td>\n",
       "      <td>29</td>\n",
       "      <td>6.0</td>\n",
       "      <td>5.0</td>\n",
       "      <td>5.63</td>\n",
       "    </tr>\n",
       "    <tr>\n",
       "      <th>711</th>\n",
       "      <td>466008</td>\n",
       "      <td>15</td>\n",
       "      <td>0.0</td>\n",
       "      <td>0.0</td>\n",
       "      <td>0.15</td>\n",
       "    </tr>\n",
       "    <tr>\n",
       "      <th>712</th>\n",
       "      <td>466109</td>\n",
       "      <td>19</td>\n",
       "      <td>4.0</td>\n",
       "      <td>2.0</td>\n",
       "      <td>2.95</td>\n",
       "    </tr>\n",
       "    <tr>\n",
       "      <th>713</th>\n",
       "      <td>466385</td>\n",
       "      <td>1</td>\n",
       "      <td>0.0</td>\n",
       "      <td>0.0</td>\n",
       "      <td>0.01</td>\n",
       "    </tr>\n",
       "  </tbody>\n",
       "</table>\n",
       "<p>714 rows × 5 columns</p>\n",
       "</div>"
      ],
      "text/plain": [
       "     item_id  view_cnt  addcart_cnt  trans_cnt  rating\n",
       "0        546        90         13.0        9.0   11.37\n",
       "1        829        30          7.0        3.0    4.83\n",
       "2        869        29          6.0        5.0    5.63\n",
       "3       2836        29          3.0        0.0    1.46\n",
       "4       4001        23          5.0        4.0    4.58\n",
       "..       ...       ...          ...        ...     ...\n",
       "709   465511        14          0.0        1.0    0.74\n",
       "710   465522        29          6.0        5.0    5.63\n",
       "711   466008        15          0.0        0.0    0.15\n",
       "712   466109        19          4.0        2.0    2.95\n",
       "713   466385         1          0.0        0.0    0.01\n",
       "\n",
       "[714 rows x 5 columns]"
      ]
     },
     "execution_count": 99,
     "metadata": {},
     "output_type": "execute_result"
    }
   ],
   "source": [
    "items_raiting"
   ]
  },
  {
   "cell_type": "code",
   "execution_count": 100,
   "metadata": {
    "pycharm": {
     "name": "#%%\n"
    }
   },
   "outputs": [],
   "source": [
    "def NormalizeData(data):\n",
    "    return (data - np.min(data)) / (np.max(data) - np.min(data))"
   ]
  },
  {
   "cell_type": "code",
   "execution_count": 101,
   "metadata": {
    "pycharm": {
     "name": "#%%\n"
    }
   },
   "outputs": [],
   "source": [
    "items_raiting['rating'] = NormalizeData(items_raiting['rating'])"
   ]
  },
  {
   "cell_type": "code",
   "execution_count": 102,
   "metadata": {
    "pycharm": {
     "name": "#%%\n"
    }
   },
   "outputs": [
    {
     "name": "stderr",
     "output_type": "stream",
     "text": [
      "/var/folders/26/jzfnfwpd7zgcvfy170ph67w40000gn/T/ipykernel_82662/268285812.py:2: FutureWarning: A value is trying to be set on a copy of a DataFrame or Series through chained assignment using an inplace method.\n",
      "The behavior will change in pandas 3.0. This inplace method will never work because the intermediate object on which we are setting values always behaves as a copy.\n",
      "\n",
      "For example, when doing 'df[col].method(value, inplace=True)', try using 'df.method({col: value}, inplace=True)' or df[col] = df[col].method(value) instead, to perform the operation inplace on the original object.\n",
      "\n",
      "\n",
      "  events['rating'].fillna(0, inplace=True)\n"
     ]
    }
   ],
   "source": [
    "events = events.merge(items_raiting[['item_id', 'rating']], how='left', on='item_id')\n",
    "events['rating'].fillna(0, inplace=True)"
   ]
  },
  {
   "cell_type": "code",
   "execution_count": 103,
   "metadata": {
    "pycharm": {
     "name": "#%%\n"
    }
   },
   "outputs": [
    {
     "data": {
      "text/plain": [
       "np.int64(0)"
      ]
     },
     "execution_count": 103,
     "metadata": {},
     "output_type": "execute_result"
    }
   ],
   "source": [
    "events['rating'].isna().sum()"
   ]
  },
  {
   "cell_type": "code",
   "execution_count": 104,
   "metadata": {
    "pycharm": {
     "name": "#%%\n"
    }
   },
   "outputs": [
    {
     "data": {
      "text/plain": [
       "np.int64(35)"
      ]
     },
     "execution_count": 104,
     "metadata": {},
     "output_type": "execute_result"
    }
   ],
   "source": [
    "(events['rating'] == 0).sum()"
   ]
  },
  {
   "cell_type": "code",
   "execution_count": 105,
   "metadata": {
    "pycharm": {
     "name": "#%%\n"
    }
   },
   "outputs": [
    {
     "data": {
      "text/html": [
       "<div>\n",
       "<style scoped>\n",
       "    .dataframe tbody tr th:only-of-type {\n",
       "        vertical-align: middle;\n",
       "    }\n",
       "\n",
       "    .dataframe tbody tr th {\n",
       "        vertical-align: top;\n",
       "    }\n",
       "\n",
       "    .dataframe thead th {\n",
       "        text-align: right;\n",
       "    }\n",
       "</style>\n",
       "<table border=\"1\" class=\"dataframe\">\n",
       "  <thead>\n",
       "    <tr style=\"text-align: right;\">\n",
       "      <th></th>\n",
       "      <th>timestamp</th>\n",
       "      <th>user_id</th>\n",
       "      <th>event</th>\n",
       "      <th>item_id</th>\n",
       "      <th>transaction_id</th>\n",
       "      <th>date_event</th>\n",
       "      <th>rating</th>\n",
       "      <th>user_id_encoded</th>\n",
       "      <th>item_id_encoded</th>\n",
       "    </tr>\n",
       "  </thead>\n",
       "  <tbody>\n",
       "    <tr>\n",
       "      <th>0</th>\n",
       "      <td>1433193535886</td>\n",
       "      <td>820159</td>\n",
       "      <td>view</td>\n",
       "      <td>369447</td>\n",
       "      <td>NaN</td>\n",
       "      <td>2015-06-02</td>\n",
       "      <td>0.136826</td>\n",
       "      <td>212</td>\n",
       "      <td>551</td>\n",
       "    </tr>\n",
       "    <tr>\n",
       "      <th>1</th>\n",
       "      <td>1433193493124</td>\n",
       "      <td>1317249</td>\n",
       "      <td>view</td>\n",
       "      <td>204070</td>\n",
       "      <td>NaN</td>\n",
       "      <td>2015-06-02</td>\n",
       "      <td>0.002090</td>\n",
       "      <td>330</td>\n",
       "      <td>286</td>\n",
       "    </tr>\n",
       "    <tr>\n",
       "      <th>2</th>\n",
       "      <td>1433218757551</td>\n",
       "      <td>168685</td>\n",
       "      <td>addtocart</td>\n",
       "      <td>111530</td>\n",
       "      <td>NaN</td>\n",
       "      <td>2015-06-02</td>\n",
       "      <td>0.087780</td>\n",
       "      <td>46</td>\n",
       "      <td>163</td>\n",
       "    </tr>\n",
       "    <tr>\n",
       "      <th>3</th>\n",
       "      <td>1433218636795</td>\n",
       "      <td>776534</td>\n",
       "      <td>view</td>\n",
       "      <td>20388</td>\n",
       "      <td>NaN</td>\n",
       "      <td>2015-06-02</td>\n",
       "      <td>0.032325</td>\n",
       "      <td>200</td>\n",
       "      <td>25</td>\n",
       "    </tr>\n",
       "    <tr>\n",
       "      <th>4</th>\n",
       "      <td>1433218656883</td>\n",
       "      <td>776534</td>\n",
       "      <td>view</td>\n",
       "      <td>20388</td>\n",
       "      <td>NaN</td>\n",
       "      <td>2015-06-02</td>\n",
       "      <td>0.032325</td>\n",
       "      <td>200</td>\n",
       "      <td>25</td>\n",
       "    </tr>\n",
       "    <tr>\n",
       "      <th>5</th>\n",
       "      <td>1433172520454</td>\n",
       "      <td>1172198</td>\n",
       "      <td>view</td>\n",
       "      <td>414460</td>\n",
       "      <td>NaN</td>\n",
       "      <td>2015-06-01</td>\n",
       "      <td>0.054619</td>\n",
       "      <td>305</td>\n",
       "      <td>619</td>\n",
       "    </tr>\n",
       "    <tr>\n",
       "      <th>6</th>\n",
       "      <td>1433175895575</td>\n",
       "      <td>138131</td>\n",
       "      <td>addtocart</td>\n",
       "      <td>430292</td>\n",
       "      <td>NaN</td>\n",
       "      <td>2015-06-02</td>\n",
       "      <td>0.020343</td>\n",
       "      <td>38</td>\n",
       "      <td>642</td>\n",
       "    </tr>\n",
       "    <tr>\n",
       "      <th>7</th>\n",
       "      <td>1433176296108</td>\n",
       "      <td>350566</td>\n",
       "      <td>view</td>\n",
       "      <td>379520</td>\n",
       "      <td>NaN</td>\n",
       "      <td>2015-06-02</td>\n",
       "      <td>0.028424</td>\n",
       "      <td>92</td>\n",
       "      <td>566</td>\n",
       "    </tr>\n",
       "    <tr>\n",
       "      <th>8</th>\n",
       "      <td>1433182122967</td>\n",
       "      <td>820159</td>\n",
       "      <td>view</td>\n",
       "      <td>305588</td>\n",
       "      <td>NaN</td>\n",
       "      <td>2015-06-02</td>\n",
       "      <td>0.020621</td>\n",
       "      <td>212</td>\n",
       "      <td>446</td>\n",
       "    </tr>\n",
       "    <tr>\n",
       "      <th>9</th>\n",
       "      <td>1433181873120</td>\n",
       "      <td>38015</td>\n",
       "      <td>view</td>\n",
       "      <td>304685</td>\n",
       "      <td>NaN</td>\n",
       "      <td>2015-06-02</td>\n",
       "      <td>0.025777</td>\n",
       "      <td>9</td>\n",
       "      <td>443</td>\n",
       "    </tr>\n",
       "  </tbody>\n",
       "</table>\n",
       "</div>"
      ],
      "text/plain": [
       "       timestamp  user_id      event  item_id  transaction_id date_event  \\\n",
       "0  1433193535886   820159       view   369447             NaN 2015-06-02   \n",
       "1  1433193493124  1317249       view   204070             NaN 2015-06-02   \n",
       "2  1433218757551   168685  addtocart   111530             NaN 2015-06-02   \n",
       "3  1433218636795   776534       view    20388             NaN 2015-06-02   \n",
       "4  1433218656883   776534       view    20388             NaN 2015-06-02   \n",
       "5  1433172520454  1172198       view   414460             NaN 2015-06-01   \n",
       "6  1433175895575   138131  addtocart   430292             NaN 2015-06-02   \n",
       "7  1433176296108   350566       view   379520             NaN 2015-06-02   \n",
       "8  1433182122967   820159       view   305588             NaN 2015-06-02   \n",
       "9  1433181873120    38015       view   304685             NaN 2015-06-02   \n",
       "\n",
       "     rating  user_id_encoded  item_id_encoded  \n",
       "0  0.136826              212              551  \n",
       "1  0.002090              330              286  \n",
       "2  0.087780               46              163  \n",
       "3  0.032325              200               25  \n",
       "4  0.032325              200               25  \n",
       "5  0.054619              305              619  \n",
       "6  0.020343               38              642  \n",
       "7  0.028424               92              566  \n",
       "8  0.020621              212              446  \n",
       "9  0.025777                9              443  "
      ]
     },
     "execution_count": 105,
     "metadata": {},
     "output_type": "execute_result"
    }
   ],
   "source": [
    "# нужно сделать новые идентификаторы пользователей и товаров\n",
    "user_encoder = LabelEncoder()\n",
    "item_encoder = LabelEncoder()\n",
    "\n",
    "user_encoder.fit(events[\"user_id\"])\n",
    "item_encoder.fit(events[\"item_id\"])\n",
    "\n",
    "events[\"user_id_encoded\"] = user_encoder.transform(events[\"user_id\"])\n",
    "events[\"item_id_encoded\"] = item_encoder.transform(events[\"item_id\"])\n",
    "events.head(10)"
   ]
  },
  {
   "cell_type": "code",
   "execution_count": 106,
   "metadata": {
    "pycharm": {
     "name": "#%%\n"
    }
   },
   "outputs": [],
   "source": [
    "# сохраним энкодеры\n",
    "with open(f\"{ASSETS}/user_encoder.pkl\", \"wb\") as fd:\n",
    "    joblib.dump(user_encoder, fd)\n",
    "\n",
    "with open(f\"{ASSETS}/item_encoder.pkl\", \"wb\") as fd:\n",
    "    joblib.dump(item_encoder, fd)"
   ]
  },
  {
   "cell_type": "code",
   "execution_count": 107,
   "metadata": {
    "pycharm": {
     "name": "#%%\n"
    }
   },
   "outputs": [
    {
     "data": {
      "text/html": [
       "<div>\n",
       "<style scoped>\n",
       "    .dataframe tbody tr th:only-of-type {\n",
       "        vertical-align: middle;\n",
       "    }\n",
       "\n",
       "    .dataframe tbody tr th {\n",
       "        vertical-align: top;\n",
       "    }\n",
       "\n",
       "    .dataframe thead th {\n",
       "        text-align: right;\n",
       "    }\n",
       "</style>\n",
       "<table border=\"1\" class=\"dataframe\">\n",
       "  <thead>\n",
       "    <tr style=\"text-align: right;\">\n",
       "      <th></th>\n",
       "      <th>timestamp</th>\n",
       "      <th>user_id</th>\n",
       "      <th>item_id</th>\n",
       "      <th>event</th>\n",
       "      <th>date_event</th>\n",
       "      <th>user_id_encoded</th>\n",
       "      <th>item_id_encoded</th>\n",
       "      <th>rating</th>\n",
       "    </tr>\n",
       "  </thead>\n",
       "  <tbody>\n",
       "    <tr>\n",
       "      <th>0</th>\n",
       "      <td>1433193535886</td>\n",
       "      <td>820159</td>\n",
       "      <td>369447</td>\n",
       "      <td>view</td>\n",
       "      <td>2015-06-02</td>\n",
       "      <td>212</td>\n",
       "      <td>551</td>\n",
       "      <td>0.136826</td>\n",
       "    </tr>\n",
       "    <tr>\n",
       "      <th>1</th>\n",
       "      <td>1433193493124</td>\n",
       "      <td>1317249</td>\n",
       "      <td>204070</td>\n",
       "      <td>view</td>\n",
       "      <td>2015-06-02</td>\n",
       "      <td>330</td>\n",
       "      <td>286</td>\n",
       "      <td>0.002090</td>\n",
       "    </tr>\n",
       "    <tr>\n",
       "      <th>2</th>\n",
       "      <td>1433218757551</td>\n",
       "      <td>168685</td>\n",
       "      <td>111530</td>\n",
       "      <td>addtocart</td>\n",
       "      <td>2015-06-02</td>\n",
       "      <td>46</td>\n",
       "      <td>163</td>\n",
       "      <td>0.087780</td>\n",
       "    </tr>\n",
       "    <tr>\n",
       "      <th>3</th>\n",
       "      <td>1433218636795</td>\n",
       "      <td>776534</td>\n",
       "      <td>20388</td>\n",
       "      <td>view</td>\n",
       "      <td>2015-06-02</td>\n",
       "      <td>200</td>\n",
       "      <td>25</td>\n",
       "      <td>0.032325</td>\n",
       "    </tr>\n",
       "    <tr>\n",
       "      <th>4</th>\n",
       "      <td>1433218656883</td>\n",
       "      <td>776534</td>\n",
       "      <td>20388</td>\n",
       "      <td>view</td>\n",
       "      <td>2015-06-02</td>\n",
       "      <td>200</td>\n",
       "      <td>25</td>\n",
       "      <td>0.032325</td>\n",
       "    </tr>\n",
       "    <tr>\n",
       "      <th>5</th>\n",
       "      <td>1433172520454</td>\n",
       "      <td>1172198</td>\n",
       "      <td>414460</td>\n",
       "      <td>view</td>\n",
       "      <td>2015-06-01</td>\n",
       "      <td>305</td>\n",
       "      <td>619</td>\n",
       "      <td>0.054619</td>\n",
       "    </tr>\n",
       "    <tr>\n",
       "      <th>6</th>\n",
       "      <td>1433175895575</td>\n",
       "      <td>138131</td>\n",
       "      <td>430292</td>\n",
       "      <td>addtocart</td>\n",
       "      <td>2015-06-02</td>\n",
       "      <td>38</td>\n",
       "      <td>642</td>\n",
       "      <td>0.020343</td>\n",
       "    </tr>\n",
       "    <tr>\n",
       "      <th>7</th>\n",
       "      <td>1433176296108</td>\n",
       "      <td>350566</td>\n",
       "      <td>379520</td>\n",
       "      <td>view</td>\n",
       "      <td>2015-06-02</td>\n",
       "      <td>92</td>\n",
       "      <td>566</td>\n",
       "      <td>0.028424</td>\n",
       "    </tr>\n",
       "    <tr>\n",
       "      <th>8</th>\n",
       "      <td>1433182122967</td>\n",
       "      <td>820159</td>\n",
       "      <td>305588</td>\n",
       "      <td>view</td>\n",
       "      <td>2015-06-02</td>\n",
       "      <td>212</td>\n",
       "      <td>446</td>\n",
       "      <td>0.020621</td>\n",
       "    </tr>\n",
       "    <tr>\n",
       "      <th>9</th>\n",
       "      <td>1433181873120</td>\n",
       "      <td>38015</td>\n",
       "      <td>304685</td>\n",
       "      <td>view</td>\n",
       "      <td>2015-06-02</td>\n",
       "      <td>9</td>\n",
       "      <td>443</td>\n",
       "      <td>0.025777</td>\n",
       "    </tr>\n",
       "    <tr>\n",
       "      <th>10</th>\n",
       "      <td>1433183566658</td>\n",
       "      <td>820159</td>\n",
       "      <td>215363</td>\n",
       "      <td>view</td>\n",
       "      <td>2015-06-02</td>\n",
       "      <td>212</td>\n",
       "      <td>302</td>\n",
       "      <td>0.017974</td>\n",
       "    </tr>\n",
       "    <tr>\n",
       "      <th>11</th>\n",
       "      <td>1433181186858</td>\n",
       "      <td>286616</td>\n",
       "      <td>387373</td>\n",
       "      <td>view</td>\n",
       "      <td>2015-06-02</td>\n",
       "      <td>78</td>\n",
       "      <td>581</td>\n",
       "      <td>0.078584</td>\n",
       "    </tr>\n",
       "    <tr>\n",
       "      <th>12</th>\n",
       "      <td>1433171633764</td>\n",
       "      <td>820159</td>\n",
       "      <td>215363</td>\n",
       "      <td>view</td>\n",
       "      <td>2015-06-01</td>\n",
       "      <td>212</td>\n",
       "      <td>302</td>\n",
       "      <td>0.017974</td>\n",
       "    </tr>\n",
       "    <tr>\n",
       "      <th>13</th>\n",
       "      <td>1433171450237</td>\n",
       "      <td>409324</td>\n",
       "      <td>340960</td>\n",
       "      <td>view</td>\n",
       "      <td>2015-06-01</td>\n",
       "      <td>113</td>\n",
       "      <td>499</td>\n",
       "      <td>0.030375</td>\n",
       "    </tr>\n",
       "    <tr>\n",
       "      <th>14</th>\n",
       "      <td>1433177582885</td>\n",
       "      <td>73449</td>\n",
       "      <td>140861</td>\n",
       "      <td>view</td>\n",
       "      <td>2015-06-02</td>\n",
       "      <td>19</td>\n",
       "      <td>210</td>\n",
       "      <td>0.017138</td>\n",
       "    </tr>\n",
       "    <tr>\n",
       "      <th>15</th>\n",
       "      <td>1433177474869</td>\n",
       "      <td>350566</td>\n",
       "      <td>355994</td>\n",
       "      <td>view</td>\n",
       "      <td>2015-06-02</td>\n",
       "      <td>92</td>\n",
       "      <td>521</td>\n",
       "      <td>0.153825</td>\n",
       "    </tr>\n",
       "    <tr>\n",
       "      <th>16</th>\n",
       "      <td>1433179850389</td>\n",
       "      <td>286616</td>\n",
       "      <td>89044</td>\n",
       "      <td>view</td>\n",
       "      <td>2015-06-02</td>\n",
       "      <td>78</td>\n",
       "      <td>125</td>\n",
       "      <td>0.002647</td>\n",
       "    </tr>\n",
       "    <tr>\n",
       "      <th>17</th>\n",
       "      <td>1433198863480</td>\n",
       "      <td>1356496</td>\n",
       "      <td>15948</td>\n",
       "      <td>view</td>\n",
       "      <td>2015-06-02</td>\n",
       "      <td>342</td>\n",
       "      <td>20</td>\n",
       "      <td>0.000000</td>\n",
       "    </tr>\n",
       "    <tr>\n",
       "      <th>18</th>\n",
       "      <td>1433201698338</td>\n",
       "      <td>463561</td>\n",
       "      <td>29196</td>\n",
       "      <td>view</td>\n",
       "      <td>2015-06-02</td>\n",
       "      <td>123</td>\n",
       "      <td>39</td>\n",
       "      <td>0.231712</td>\n",
       "    </tr>\n",
       "    <tr>\n",
       "      <th>19</th>\n",
       "      <td>1433200613547</td>\n",
       "      <td>350566</td>\n",
       "      <td>12217</td>\n",
       "      <td>view</td>\n",
       "      <td>2015-06-02</td>\n",
       "      <td>92</td>\n",
       "      <td>16</td>\n",
       "      <td>0.127073</td>\n",
       "    </tr>\n",
       "  </tbody>\n",
       "</table>\n",
       "</div>"
      ],
      "text/plain": [
       "        timestamp  user_id  item_id      event date_event  user_id_encoded  \\\n",
       "0   1433193535886   820159   369447       view 2015-06-02              212   \n",
       "1   1433193493124  1317249   204070       view 2015-06-02              330   \n",
       "2   1433218757551   168685   111530  addtocart 2015-06-02               46   \n",
       "3   1433218636795   776534    20388       view 2015-06-02              200   \n",
       "4   1433218656883   776534    20388       view 2015-06-02              200   \n",
       "5   1433172520454  1172198   414460       view 2015-06-01              305   \n",
       "6   1433175895575   138131   430292  addtocart 2015-06-02               38   \n",
       "7   1433176296108   350566   379520       view 2015-06-02               92   \n",
       "8   1433182122967   820159   305588       view 2015-06-02              212   \n",
       "9   1433181873120    38015   304685       view 2015-06-02                9   \n",
       "10  1433183566658   820159   215363       view 2015-06-02              212   \n",
       "11  1433181186858   286616   387373       view 2015-06-02               78   \n",
       "12  1433171633764   820159   215363       view 2015-06-01              212   \n",
       "13  1433171450237   409324   340960       view 2015-06-01              113   \n",
       "14  1433177582885    73449   140861       view 2015-06-02               19   \n",
       "15  1433177474869   350566   355994       view 2015-06-02               92   \n",
       "16  1433179850389   286616    89044       view 2015-06-02               78   \n",
       "17  1433198863480  1356496    15948       view 2015-06-02              342   \n",
       "18  1433201698338   463561    29196       view 2015-06-02              123   \n",
       "19  1433200613547   350566    12217       view 2015-06-02               92   \n",
       "\n",
       "    item_id_encoded    rating  \n",
       "0               551  0.136826  \n",
       "1               286  0.002090  \n",
       "2               163  0.087780  \n",
       "3                25  0.032325  \n",
       "4                25  0.032325  \n",
       "5               619  0.054619  \n",
       "6               642  0.020343  \n",
       "7               566  0.028424  \n",
       "8               446  0.020621  \n",
       "9               443  0.025777  \n",
       "10              302  0.017974  \n",
       "11              581  0.078584  \n",
       "12              302  0.017974  \n",
       "13              499  0.030375  \n",
       "14              210  0.017138  \n",
       "15              521  0.153825  \n",
       "16              125  0.002647  \n",
       "17               20  0.000000  \n",
       "18               39  0.231712  \n",
       "19               16  0.127073  "
      ]
     },
     "execution_count": 107,
     "metadata": {},
     "output_type": "execute_result"
    }
   ],
   "source": [
    "events = events[\n",
    "    [\"timestamp\", \"user_id\", \"item_id\", \"event\", \n",
    "     \"date_event\", \"user_id_encoded\", \n",
    "     \"item_id_encoded\", \"rating\"]\n",
    "]\n",
    "events = events.reset_index(drop=True)\n",
    "events.head(20)"
   ]
  },
  {
   "cell_type": "code",
   "execution_count": 108,
   "metadata": {
    "pycharm": {
     "name": "#%%\n"
    }
   },
   "outputs": [],
   "source": [
    "# сохраним данные\n",
    "events.to_parquet(f\"{ASSETS}/events.parquet\")"
   ]
  },
  {
   "cell_type": "markdown",
   "metadata": {
    "pycharm": {
     "name": "#%% md\n"
    }
   },
   "source": [
    "### 3.2 Разделение данных"
   ]
  },
  {
   "cell_type": "code",
   "execution_count": 109,
   "metadata": {
    "pycharm": {
     "name": "#%%\n"
    }
   },
   "outputs": [
    {
     "data": {
      "image/png": "[encoded data removed]",
      "text/plain": [
       "<Figure size 640x480 with 1 Axes>"
      ]
     },
     "metadata": {},
     "output_type": "display_data"
    }
   ],
   "source": [
    "events['date_event'].hist(bins=100)\n",
    "plt.xticks(rotation=90)\n",
    "plt.show()"
   ]
  },
  {
   "cell_type": "code",
   "execution_count": 110,
   "metadata": {
    "pycharm": {
     "name": "#%%\n"
    }
   },
   "outputs": [
    {
     "name": "stdout",
     "output_type": "stream",
     "text": [
      "Train число семплов : 15518\n",
      "Test  число семплов : 5494\n"
     ]
    }
   ],
   "source": [
    "# Возьмем глобальную точку на уровне 2015-08-01\n",
    "global_time_split = pd.to_datetime(\"2015-08-01\")\n",
    "\n",
    "filter_global_time = events[\"date_event\"] < global_time_split\n",
    "events_train = events[filter_global_time].copy()\n",
    "events_test = events[~filter_global_time].copy()\n",
    "\n",
    "print(\"Train число семплов :\", events_train.shape[0])\n",
    "print(\"Test  число семплов :\", events_test.shape[0])"
   ]
  },
  {
   "cell_type": "code",
   "execution_count": 111,
   "metadata": {
    "pycharm": {
     "name": "#%%\n"
    }
   },
   "outputs": [],
   "source": [
    "# Проверим распределение событий в трейне и тесте"
   ]
  },
  {
   "cell_type": "code",
   "execution_count": 112,
   "metadata": {
    "pycharm": {
     "name": "#%%\n"
    }
   },
   "outputs": [
    {
     "name": "stdout",
     "output_type": "stream",
     "text": [
      "event\n",
      "view           0.860678\n",
      "addtocart      0.084160\n",
      "transaction    0.055162\n",
      "Name: proportion, dtype: float64\n",
      "event\n",
      "view           0.848562\n",
      "addtocart      0.084820\n",
      "transaction    0.066618\n",
      "Name: proportion, dtype: float64\n"
     ]
    }
   ],
   "source": [
    "print(events_train.event.value_counts(0.1))\n",
    "print(events_test.event.value_counts(0.1))"
   ]
  },
  {
   "cell_type": "code",
   "execution_count": 113,
   "metadata": {
    "pycharm": {
     "name": "#%%\n"
    }
   },
   "outputs": [],
   "source": [
    "# посмотрим что у нас по пользователям"
   ]
  },
  {
   "cell_type": "code",
   "execution_count": 114,
   "metadata": {
    "pycharm": {
     "name": "#%%\n"
    }
   },
   "outputs": [
    {
     "name": "stdout",
     "output_type": "stream",
     "text": [
      "Число уникальных юзеров в train:  310\n",
      "Число уникальных юзеров в test:  149\n",
      "Число юзеров которые есть и в трейне и тесте:  104\n",
      "Число холодных юзеров:  45\n"
     ]
    }
   ],
   "source": [
    "users_train = events_train[\"user_id\"].drop_duplicates().tolist()\n",
    "users_test = events_test[\"user_id\"].drop_duplicates().tolist()\n",
    "\n",
    "common_users = set(users_train) & set(users_test)\n",
    "cold_users = (set(users_train) | set(users_test)) - set(users_train)\n",
    "\n",
    "print(\"Число уникальных юзеров в train: \", len(users_train))\n",
    "print(\"Число уникальных юзеров в test: \", len(users_test))\n",
    "print(\"Число юзеров которые есть и в трейне и тесте: \", len(common_users))\n",
    "print(\"Число холодных юзеров: \", len(cold_users))"
   ]
  },
  {
   "cell_type": "markdown",
   "metadata": {
    "pycharm": {
     "name": "#%% md\n"
    }
   },
   "source": [
    "### 3.3 Рекомендации на основе популярных айтемов \n",
    "можно давать рекомендации новым юзерам"
   ]
  },
  {
   "cell_type": "code",
   "execution_count": 115,
   "metadata": {
    "pycharm": {
     "name": "#%%\n"
    }
   },
   "outputs": [],
   "source": [
    "TOP_N = 100\n",
    "\n",
    "top_popular = events_train[events_train['event'] == 'addtocart']['item_id'] \\\n",
    "            .value_counts() \\\n",
    "            .head(TOP_N) \\\n",
    "            .reset_index() \\\n",
    "            .rename(columns={\n",
    "                \"count\": \"items_cnt\"\n",
    "            })"
   ]
  },
  {
   "cell_type": "code",
   "execution_count": 116,
   "metadata": {
    "pycharm": {
     "name": "#%%\n"
    }
   },
   "outputs": [
    {
     "data": {
      "text/html": [
       "<div>\n",
       "<style scoped>\n",
       "    .dataframe tbody tr th:only-of-type {\n",
       "        vertical-align: middle;\n",
       "    }\n",
       "\n",
       "    .dataframe tbody tr th {\n",
       "        vertical-align: top;\n",
       "    }\n",
       "\n",
       "    .dataframe thead th {\n",
       "        text-align: right;\n",
       "    }\n",
       "</style>\n",
       "<table border=\"1\" class=\"dataframe\">\n",
       "  <thead>\n",
       "    <tr style=\"text-align: right;\">\n",
       "      <th></th>\n",
       "      <th>item_id</th>\n",
       "      <th>items_cnt</th>\n",
       "    </tr>\n",
       "  </thead>\n",
       "  <tbody>\n",
       "    <tr>\n",
       "      <th>0</th>\n",
       "      <td>29196</td>\n",
       "      <td>32</td>\n",
       "    </tr>\n",
       "    <tr>\n",
       "      <th>1</th>\n",
       "      <td>312728</td>\n",
       "      <td>24</td>\n",
       "    </tr>\n",
       "    <tr>\n",
       "      <th>2</th>\n",
       "      <td>338427</td>\n",
       "      <td>20</td>\n",
       "    </tr>\n",
       "    <tr>\n",
       "      <th>3</th>\n",
       "      <td>409804</td>\n",
       "      <td>18</td>\n",
       "    </tr>\n",
       "    <tr>\n",
       "      <th>4</th>\n",
       "      <td>119736</td>\n",
       "      <td>18</td>\n",
       "    </tr>\n",
       "    <tr>\n",
       "      <th>...</th>\n",
       "      <td>...</td>\n",
       "      <td>...</td>\n",
       "    </tr>\n",
       "    <tr>\n",
       "      <th>95</th>\n",
       "      <td>325310</td>\n",
       "      <td>4</td>\n",
       "    </tr>\n",
       "    <tr>\n",
       "      <th>96</th>\n",
       "      <td>241555</td>\n",
       "      <td>4</td>\n",
       "    </tr>\n",
       "    <tr>\n",
       "      <th>97</th>\n",
       "      <td>78163</td>\n",
       "      <td>4</td>\n",
       "    </tr>\n",
       "    <tr>\n",
       "      <th>98</th>\n",
       "      <td>100282</td>\n",
       "      <td>4</td>\n",
       "    </tr>\n",
       "    <tr>\n",
       "      <th>99</th>\n",
       "      <td>337327</td>\n",
       "      <td>4</td>\n",
       "    </tr>\n",
       "  </tbody>\n",
       "</table>\n",
       "<p>100 rows × 2 columns</p>\n",
       "</div>"
      ],
      "text/plain": [
       "    item_id  items_cnt\n",
       "0     29196         32\n",
       "1    312728         24\n",
       "2    338427         20\n",
       "3    409804         18\n",
       "4    119736         18\n",
       "..      ...        ...\n",
       "95   325310          4\n",
       "96   241555          4\n",
       "97    78163          4\n",
       "98   100282          4\n",
       "99   337327          4\n",
       "\n",
       "[100 rows x 2 columns]"
      ]
     },
     "execution_count": 116,
     "metadata": {},
     "output_type": "execute_result"
    }
   ],
   "source": [
    "top_popular"
   ]
  },
  {
   "cell_type": "code",
   "execution_count": 117,
   "metadata": {
    "pycharm": {
     "name": "#%%\n"
    }
   },
   "outputs": [],
   "source": [
    "top_popular[\"item_id_encoded\"] = item_encoder.transform(top_popular[\"item_id\"])"
   ]
  },
  {
   "cell_type": "code",
   "execution_count": 118,
   "metadata": {
    "pycharm": {
     "name": "#%%\n"
    }
   },
   "outputs": [
    {
     "data": {
      "text/html": [
       "<div>\n",
       "<style scoped>\n",
       "    .dataframe tbody tr th:only-of-type {\n",
       "        vertical-align: middle;\n",
       "    }\n",
       "\n",
       "    .dataframe tbody tr th {\n",
       "        vertical-align: top;\n",
       "    }\n",
       "\n",
       "    .dataframe thead th {\n",
       "        text-align: right;\n",
       "    }\n",
       "</style>\n",
       "<table border=\"1\" class=\"dataframe\">\n",
       "  <thead>\n",
       "    <tr style=\"text-align: right;\">\n",
       "      <th></th>\n",
       "      <th>item_id</th>\n",
       "      <th>items_cnt</th>\n",
       "      <th>item_id_encoded</th>\n",
       "    </tr>\n",
       "  </thead>\n",
       "  <tbody>\n",
       "    <tr>\n",
       "      <th>0</th>\n",
       "      <td>29196</td>\n",
       "      <td>32</td>\n",
       "      <td>39</td>\n",
       "    </tr>\n",
       "    <tr>\n",
       "      <th>1</th>\n",
       "      <td>312728</td>\n",
       "      <td>24</td>\n",
       "      <td>458</td>\n",
       "    </tr>\n",
       "    <tr>\n",
       "      <th>2</th>\n",
       "      <td>338427</td>\n",
       "      <td>20</td>\n",
       "      <td>489</td>\n",
       "    </tr>\n",
       "    <tr>\n",
       "      <th>3</th>\n",
       "      <td>409804</td>\n",
       "      <td>18</td>\n",
       "      <td>612</td>\n",
       "    </tr>\n",
       "    <tr>\n",
       "      <th>4</th>\n",
       "      <td>119736</td>\n",
       "      <td>18</td>\n",
       "      <td>179</td>\n",
       "    </tr>\n",
       "    <tr>\n",
       "      <th>...</th>\n",
       "      <td>...</td>\n",
       "      <td>...</td>\n",
       "      <td>...</td>\n",
       "    </tr>\n",
       "    <tr>\n",
       "      <th>95</th>\n",
       "      <td>325310</td>\n",
       "      <td>4</td>\n",
       "      <td>473</td>\n",
       "    </tr>\n",
       "    <tr>\n",
       "      <th>96</th>\n",
       "      <td>241555</td>\n",
       "      <td>4</td>\n",
       "      <td>344</td>\n",
       "    </tr>\n",
       "    <tr>\n",
       "      <th>97</th>\n",
       "      <td>78163</td>\n",
       "      <td>4</td>\n",
       "      <td>109</td>\n",
       "    </tr>\n",
       "    <tr>\n",
       "      <th>98</th>\n",
       "      <td>100282</td>\n",
       "      <td>4</td>\n",
       "      <td>149</td>\n",
       "    </tr>\n",
       "    <tr>\n",
       "      <th>99</th>\n",
       "      <td>337327</td>\n",
       "      <td>4</td>\n",
       "      <td>488</td>\n",
       "    </tr>\n",
       "  </tbody>\n",
       "</table>\n",
       "<p>100 rows × 3 columns</p>\n",
       "</div>"
      ],
      "text/plain": [
       "    item_id  items_cnt  item_id_encoded\n",
       "0     29196         32               39\n",
       "1    312728         24              458\n",
       "2    338427         20              489\n",
       "3    409804         18              612\n",
       "4    119736         18              179\n",
       "..      ...        ...              ...\n",
       "95   325310          4              473\n",
       "96   241555          4              344\n",
       "97    78163          4              109\n",
       "98   100282          4              149\n",
       "99   337327          4              488\n",
       "\n",
       "[100 rows x 3 columns]"
      ]
     },
     "execution_count": 118,
     "metadata": {},
     "output_type": "execute_result"
    }
   ],
   "source": [
    "top_popular"
   ]
  },
  {
   "cell_type": "code",
   "execution_count": 119,
   "metadata": {
    "pycharm": {
     "name": "#%%\n"
    }
   },
   "outputs": [
    {
     "data": {
      "text/html": [
       "<div>\n",
       "<style scoped>\n",
       "    .dataframe tbody tr th:only-of-type {\n",
       "        vertical-align: middle;\n",
       "    }\n",
       "\n",
       "    .dataframe tbody tr th {\n",
       "        vertical-align: top;\n",
       "    }\n",
       "\n",
       "    .dataframe thead th {\n",
       "        text-align: right;\n",
       "    }\n",
       "</style>\n",
       "<table border=\"1\" class=\"dataframe\">\n",
       "  <thead>\n",
       "    <tr style=\"text-align: right;\">\n",
       "      <th></th>\n",
       "      <th>id</th>\n",
       "      <th>rec_id</th>\n",
       "      <th>item_id</th>\n",
       "      <th>items_cnt</th>\n",
       "      <th>item_id_encoded</th>\n",
       "    </tr>\n",
       "  </thead>\n",
       "  <tbody>\n",
       "    <tr>\n",
       "      <th>0</th>\n",
       "      <td>1</td>\n",
       "      <td>0</td>\n",
       "      <td>29196</td>\n",
       "      <td>32</td>\n",
       "      <td>39</td>\n",
       "    </tr>\n",
       "    <tr>\n",
       "      <th>1</th>\n",
       "      <td>2</td>\n",
       "      <td>1</td>\n",
       "      <td>312728</td>\n",
       "      <td>24</td>\n",
       "      <td>458</td>\n",
       "    </tr>\n",
       "    <tr>\n",
       "      <th>2</th>\n",
       "      <td>3</td>\n",
       "      <td>2</td>\n",
       "      <td>338427</td>\n",
       "      <td>20</td>\n",
       "      <td>489</td>\n",
       "    </tr>\n",
       "    <tr>\n",
       "      <th>3</th>\n",
       "      <td>4</td>\n",
       "      <td>3</td>\n",
       "      <td>409804</td>\n",
       "      <td>18</td>\n",
       "      <td>612</td>\n",
       "    </tr>\n",
       "    <tr>\n",
       "      <th>4</th>\n",
       "      <td>5</td>\n",
       "      <td>4</td>\n",
       "      <td>119736</td>\n",
       "      <td>18</td>\n",
       "      <td>179</td>\n",
       "    </tr>\n",
       "    <tr>\n",
       "      <th>...</th>\n",
       "      <td>...</td>\n",
       "      <td>...</td>\n",
       "      <td>...</td>\n",
       "      <td>...</td>\n",
       "      <td>...</td>\n",
       "    </tr>\n",
       "    <tr>\n",
       "      <th>95</th>\n",
       "      <td>96</td>\n",
       "      <td>95</td>\n",
       "      <td>325310</td>\n",
       "      <td>4</td>\n",
       "      <td>473</td>\n",
       "    </tr>\n",
       "    <tr>\n",
       "      <th>96</th>\n",
       "      <td>97</td>\n",
       "      <td>96</td>\n",
       "      <td>241555</td>\n",
       "      <td>4</td>\n",
       "      <td>344</td>\n",
       "    </tr>\n",
       "    <tr>\n",
       "      <th>97</th>\n",
       "      <td>98</td>\n",
       "      <td>97</td>\n",
       "      <td>78163</td>\n",
       "      <td>4</td>\n",
       "      <td>109</td>\n",
       "    </tr>\n",
       "    <tr>\n",
       "      <th>98</th>\n",
       "      <td>99</td>\n",
       "      <td>98</td>\n",
       "      <td>100282</td>\n",
       "      <td>4</td>\n",
       "      <td>149</td>\n",
       "    </tr>\n",
       "    <tr>\n",
       "      <th>99</th>\n",
       "      <td>100</td>\n",
       "      <td>99</td>\n",
       "      <td>337327</td>\n",
       "      <td>4</td>\n",
       "      <td>488</td>\n",
       "    </tr>\n",
       "  </tbody>\n",
       "</table>\n",
       "<p>100 rows × 5 columns</p>\n",
       "</div>"
      ],
      "text/plain": [
       "     id  rec_id  item_id  items_cnt  item_id_encoded\n",
       "0     1       0    29196         32               39\n",
       "1     2       1   312728         24              458\n",
       "2     3       2   338427         20              489\n",
       "3     4       3   409804         18              612\n",
       "4     5       4   119736         18              179\n",
       "..  ...     ...      ...        ...              ...\n",
       "95   96      95   325310          4              473\n",
       "96   97      96   241555          4              344\n",
       "97   98      97    78163          4              109\n",
       "98   99      98   100282          4              149\n",
       "99  100      99   337327          4              488\n",
       "\n",
       "[100 rows x 5 columns]"
      ]
     },
     "execution_count": 119,
     "metadata": {},
     "output_type": "execute_result"
    }
   ],
   "source": [
    "top_popular = top_popular.reset_index().reset_index()\n",
    "top_popular[\"level_0\"] = top_popular[\"level_0\"] + 1\n",
    "top_popular = top_popular.rename(\n",
    "    columns={\n",
    "        \"index\": \"rec_id\",\n",
    "        \"level_0\": \"id\",\n",
    "    }\n",
    ")\n",
    "\n",
    "top_popular"
   ]
  },
  {
   "cell_type": "code",
   "execution_count": 120,
   "metadata": {
    "pycharm": {
     "name": "#%%\n"
    }
   },
   "outputs": [],
   "source": [
    "# Тут мы получили первые рекомендации которые сохраним локально и отправим в postgres."
   ]
  },
  {
   "cell_type": "code",
   "execution_count": 121,
   "metadata": {
    "pycharm": {
     "name": "#%%\n"
    }
   },
   "outputs": [],
   "source": [
    "top_popular.to_parquet(f\"{POSTGRES_DATA}/top_popular.parquet\")"
   ]
  },
  {
   "cell_type": "markdown",
   "metadata": {
    "pycharm": {
     "name": "#%% md\n"
    }
   },
   "source": [
    "### 3.4 Персональные рекомендации "
   ]
  },
  {
   "cell_type": "code",
   "execution_count": 122,
   "metadata": {
    "pycharm": {
     "name": "#%%\n"
    }
   },
   "outputs": [],
   "source": [
    "# Во первых нам нужно подготовить спарс матрицу, а затем обучим ALS модель"
   ]
  },
  {
   "cell_type": "code",
   "execution_count": 123,
   "metadata": {
    "pycharm": {
     "name": "#%%\n"
    }
   },
   "outputs": [
    {
     "data": {
      "text/html": [
       "<div>\n",
       "<style scoped>\n",
       "    .dataframe tbody tr th:only-of-type {\n",
       "        vertical-align: middle;\n",
       "    }\n",
       "\n",
       "    .dataframe tbody tr th {\n",
       "        vertical-align: top;\n",
       "    }\n",
       "\n",
       "    .dataframe thead th {\n",
       "        text-align: right;\n",
       "    }\n",
       "</style>\n",
       "<table border=\"1\" class=\"dataframe\">\n",
       "  <thead>\n",
       "    <tr style=\"text-align: right;\">\n",
       "      <th></th>\n",
       "      <th>timestamp</th>\n",
       "      <th>user_id</th>\n",
       "      <th>item_id</th>\n",
       "      <th>event</th>\n",
       "      <th>date_event</th>\n",
       "      <th>user_id_encoded</th>\n",
       "      <th>item_id_encoded</th>\n",
       "      <th>rating</th>\n",
       "    </tr>\n",
       "  </thead>\n",
       "  <tbody>\n",
       "    <tr>\n",
       "      <th>0</th>\n",
       "      <td>1433193535886</td>\n",
       "      <td>820159</td>\n",
       "      <td>369447</td>\n",
       "      <td>view</td>\n",
       "      <td>2015-06-02</td>\n",
       "      <td>212</td>\n",
       "      <td>551</td>\n",
       "      <td>0.136826</td>\n",
       "    </tr>\n",
       "    <tr>\n",
       "      <th>1</th>\n",
       "      <td>1433193493124</td>\n",
       "      <td>1317249</td>\n",
       "      <td>204070</td>\n",
       "      <td>view</td>\n",
       "      <td>2015-06-02</td>\n",
       "      <td>330</td>\n",
       "      <td>286</td>\n",
       "      <td>0.002090</td>\n",
       "    </tr>\n",
       "    <tr>\n",
       "      <th>2</th>\n",
       "      <td>1433218757551</td>\n",
       "      <td>168685</td>\n",
       "      <td>111530</td>\n",
       "      <td>addtocart</td>\n",
       "      <td>2015-06-02</td>\n",
       "      <td>46</td>\n",
       "      <td>163</td>\n",
       "      <td>0.087780</td>\n",
       "    </tr>\n",
       "    <tr>\n",
       "      <th>3</th>\n",
       "      <td>1433218636795</td>\n",
       "      <td>776534</td>\n",
       "      <td>20388</td>\n",
       "      <td>view</td>\n",
       "      <td>2015-06-02</td>\n",
       "      <td>200</td>\n",
       "      <td>25</td>\n",
       "      <td>0.032325</td>\n",
       "    </tr>\n",
       "    <tr>\n",
       "      <th>4</th>\n",
       "      <td>1433218656883</td>\n",
       "      <td>776534</td>\n",
       "      <td>20388</td>\n",
       "      <td>view</td>\n",
       "      <td>2015-06-02</td>\n",
       "      <td>200</td>\n",
       "      <td>25</td>\n",
       "      <td>0.032325</td>\n",
       "    </tr>\n",
       "  </tbody>\n",
       "</table>\n",
       "</div>"
      ],
      "text/plain": [
       "       timestamp  user_id  item_id      event date_event  user_id_encoded  \\\n",
       "0  1433193535886   820159   369447       view 2015-06-02              212   \n",
       "1  1433193493124  1317249   204070       view 2015-06-02              330   \n",
       "2  1433218757551   168685   111530  addtocart 2015-06-02               46   \n",
       "3  1433218636795   776534    20388       view 2015-06-02              200   \n",
       "4  1433218656883   776534    20388       view 2015-06-02              200   \n",
       "\n",
       "   item_id_encoded    rating  \n",
       "0              551  0.136826  \n",
       "1              286  0.002090  \n",
       "2              163  0.087780  \n",
       "3               25  0.032325  \n",
       "4               25  0.032325  "
      ]
     },
     "execution_count": 123,
     "metadata": {},
     "output_type": "execute_result"
    }
   ],
   "source": [
    "events_train.head()"
   ]
  },
  {
   "cell_type": "code",
   "execution_count": 124,
   "metadata": {
    "pycharm": {
     "name": "#%%\n"
    }
   },
   "outputs": [
    {
     "data": {
      "text/plain": [
       "<355x714 sparse matrix of type '<class 'numpy.int8'>'\n",
       "\twith 6174 stored elements in Compressed Sparse Row format>"
      ]
     },
     "execution_count": 124,
     "metadata": {},
     "output_type": "execute_result"
    }
   ],
   "source": [
    "user_item_matrix_train = scipy.sparse.csr_matrix(\n",
    "    (\n",
    "    events_train[\"rating\"],\n",
    "    (events_train[\"user_id_encoded\"], events_train[\"item_id_encoded\"])\n",
    "    ),\n",
    "    dtype=np.int8\n",
    ")\n",
    "user_item_matrix_train"
   ]
  },
  {
   "cell_type": "code",
   "execution_count": 125,
   "metadata": {
    "pycharm": {
     "name": "#%%\n"
    }
   },
   "outputs": [
    {
     "name": "stderr",
     "output_type": "stream",
     "text": [
      "/Users/andryousha/Projects/Python_projects/mle-pr-final/.pr_final/lib/python3.9/site-packages/implicit/cpu/als.py:95: RuntimeWarning: OpenBLAS is configured to use 10 threads. It is highly recommended to disable its internal threadpool by setting the environment variable 'OPENBLAS_NUM_THREADS=1' or by calling 'threadpoolctl.threadpool_limits(1, \"blas\")'. Having OpenBLAS use a threadpool can lead to severe performance issues here.\n",
      "  check_blas_config()\n"
     ]
    },
    {
     "data": {
      "application/vnd.jupyter.widget-view+json": {
       "model_id": "55411091cc74411e9ffad8024129e677",
       "version_major": 2,
       "version_minor": 0
      },
      "text/plain": [
       "  0%|          | 0/1000 [00:00<?, ?it/s]"
      ]
     },
     "metadata": {},
     "output_type": "display_data"
    }
   ],
   "source": [
    "als_params = {\n",
    "    \"factors\": 50,\n",
    "    \"iterations\": 1000,\n",
    "    \"regularization\": 0.01,\n",
    "    \"random_state\": RANDOM_STATE,\n",
    "}\n",
    "\n",
    "als_model = AlternatingLeastSquares(**als_params)\n",
    "als_model.fit(user_item_matrix_train)"
   ]
  },
  {
   "cell_type": "code",
   "execution_count": 126,
   "metadata": {
    "pycharm": {
     "name": "#%%\n"
    }
   },
   "outputs": [],
   "source": [
    "user_ids_encoded = range(len(user_encoder.classes_))"
   ]
  },
  {
   "cell_type": "code",
   "execution_count": 127,
   "metadata": {
    "pycharm": {
     "name": "#%%\n"
    }
   },
   "outputs": [],
   "source": [
    "# рекомендации для всех юзеров\n",
    "als_recommendations = als_model.recommend(\n",
    "    userid=user_ids_encoded, \n",
    "    user_items=user_item_matrix_train[user_ids_encoded], \n",
    "    filter_already_liked_items=False, \n",
    "    N=100,\n",
    ")"
   ]
  },
  {
   "cell_type": "code",
   "execution_count": 128,
   "metadata": {
    "pycharm": {
     "name": "#%%\n"
    }
   },
   "outputs": [],
   "source": [
    "# превратим в удобный датафрейм"
   ]
  },
  {
   "cell_type": "code",
   "execution_count": 129,
   "metadata": {
    "pycharm": {
     "name": "#%%\n"
    }
   },
   "outputs": [],
   "source": [
    "track_ids_encoded = als_recommendations[0]\n",
    "als_scores = als_recommendations[1]\n",
    "\n",
    "als_recommendations = pd.DataFrame({\n",
    "    \"user_id_encoded\": user_ids_encoded,\n",
    "    \"item_id_encoded\": track_ids_encoded.tolist(), \n",
    "    \"score\": als_scores.tolist(),\n",
    "})\n",
    "als_recommendations = als_recommendations.explode([\"item_id_encoded\", \"score\"], ignore_index=True)\n",
    "\n",
    "als_recommendations[\"item_id_encoded\"] = als_recommendations[\"item_id_encoded\"].astype(\"int\")\n",
    "als_recommendations[\"score\"] = als_recommendations[\"score\"].astype(\"float\")\n",
    "\n",
    "als_recommendations[\"user_id\"] = user_encoder.inverse_transform(als_recommendations[\"user_id_encoded\"])\n",
    "als_recommendations[\"item_id\"] = item_encoder.inverse_transform(als_recommendations[\"item_id_encoded\"])\n",
    "als_recommendations = als_recommendations.drop(columns=[\"user_id_encoded\", \"item_id_encoded\"])\n",
    "\n",
    "als_recommendations = als_recommendations[[\"user_id\", \"item_id\", \"score\"]]"
   ]
  },
  {
   "cell_type": "code",
   "execution_count": 132,
   "metadata": {
    "pycharm": {
     "name": "#%%\n"
    }
   },
   "outputs": [
    {
     "data": {
      "text/plain": [
       "np.float64(0.1267605633802817)"
      ]
     },
     "execution_count": 132,
     "metadata": {},
     "output_type": "execute_result"
    }
   ],
   "source": [
    "(als_recommendations['score'] == 0).sum() / als_recommendations.shape[0]"
   ]
  },
  {
   "cell_type": "code",
   "execution_count": 133,
   "metadata": {
    "pycharm": {
     "name": "#%%\n"
    }
   },
   "outputs": [
    {
     "data": {
      "text/html": [
       "<div>\n",
       "<style scoped>\n",
       "    .dataframe tbody tr th:only-of-type {\n",
       "        vertical-align: middle;\n",
       "    }\n",
       "\n",
       "    .dataframe tbody tr th {\n",
       "        vertical-align: top;\n",
       "    }\n",
       "\n",
       "    .dataframe thead th {\n",
       "        text-align: right;\n",
       "    }\n",
       "</style>\n",
       "<table border=\"1\" class=\"dataframe\">\n",
       "  <thead>\n",
       "    <tr style=\"text-align: right;\">\n",
       "      <th></th>\n",
       "      <th>user_id</th>\n",
       "      <th>item_id</th>\n",
       "      <th>score</th>\n",
       "    </tr>\n",
       "  </thead>\n",
       "  <tbody>\n",
       "    <tr>\n",
       "      <th>0</th>\n",
       "      <td>1879</td>\n",
       "      <td>303833</td>\n",
       "      <td>2.581183e-19</td>\n",
       "    </tr>\n",
       "    <tr>\n",
       "      <th>1</th>\n",
       "      <td>1879</td>\n",
       "      <td>448220</td>\n",
       "      <td>2.580484e-19</td>\n",
       "    </tr>\n",
       "    <tr>\n",
       "      <th>2</th>\n",
       "      <td>1879</td>\n",
       "      <td>142466</td>\n",
       "      <td>2.309789e-19</td>\n",
       "    </tr>\n",
       "    <tr>\n",
       "      <th>3</th>\n",
       "      <td>1879</td>\n",
       "      <td>463663</td>\n",
       "      <td>2.274439e-19</td>\n",
       "    </tr>\n",
       "    <tr>\n",
       "      <th>4</th>\n",
       "      <td>1879</td>\n",
       "      <td>367956</td>\n",
       "      <td>2.229746e-19</td>\n",
       "    </tr>\n",
       "    <tr>\n",
       "      <th>...</th>\n",
       "      <td>...</td>\n",
       "      <td>...</td>\n",
       "      <td>...</td>\n",
       "    </tr>\n",
       "    <tr>\n",
       "      <th>35495</th>\n",
       "      <td>1403769</td>\n",
       "      <td>55925</td>\n",
       "      <td>1.846607e-20</td>\n",
       "    </tr>\n",
       "    <tr>\n",
       "      <th>35496</th>\n",
       "      <td>1403769</td>\n",
       "      <td>89688</td>\n",
       "      <td>1.834298e-20</td>\n",
       "    </tr>\n",
       "    <tr>\n",
       "      <th>35497</th>\n",
       "      <td>1403769</td>\n",
       "      <td>114866</td>\n",
       "      <td>1.793206e-20</td>\n",
       "    </tr>\n",
       "    <tr>\n",
       "      <th>35498</th>\n",
       "      <td>1403769</td>\n",
       "      <td>441852</td>\n",
       "      <td>1.708300e-20</td>\n",
       "    </tr>\n",
       "    <tr>\n",
       "      <th>35499</th>\n",
       "      <td>1403769</td>\n",
       "      <td>204494</td>\n",
       "      <td>1.644160e-20</td>\n",
       "    </tr>\n",
       "  </tbody>\n",
       "</table>\n",
       "<p>35500 rows × 3 columns</p>\n",
       "</div>"
      ],
      "text/plain": [
       "       user_id  item_id         score\n",
       "0         1879   303833  2.581183e-19\n",
       "1         1879   448220  2.580484e-19\n",
       "2         1879   142466  2.309789e-19\n",
       "3         1879   463663  2.274439e-19\n",
       "4         1879   367956  2.229746e-19\n",
       "...        ...      ...           ...\n",
       "35495  1403769    55925  1.846607e-20\n",
       "35496  1403769    89688  1.834298e-20\n",
       "35497  1403769   114866  1.793206e-20\n",
       "35498  1403769   441852  1.708300e-20\n",
       "35499  1403769   204494  1.644160e-20\n",
       "\n",
       "[35500 rows x 3 columns]"
      ]
     },
     "execution_count": 133,
     "metadata": {},
     "output_type": "execute_result"
    }
   ],
   "source": [
    "# уберем нулевые скоры\n",
    "# als_recommendations = als_recommendations.query(\"score != 0\")\n",
    "als_recommendations"
   ]
  },
  {
   "cell_type": "code",
   "execution_count": 134,
   "metadata": {
    "pycharm": {
     "name": "#%%\n"
    }
   },
   "outputs": [],
   "source": [
    "# сохраним еще одни рекомендации"
   ]
  },
  {
   "cell_type": "code",
   "execution_count": 135,
   "metadata": {
    "pycharm": {
     "name": "#%%\n"
    }
   },
   "outputs": [],
   "source": [
    "als_recommendations.to_parquet(f\"{ASSETS}/personal_als.parquet\")"
   ]
  },
  {
   "cell_type": "markdown",
   "metadata": {
    "pycharm": {
     "name": "#%% md\n"
    }
   },
   "source": [
    "### 3.4 Рекомендации на основе схожести айтемов\n",
    "Для онлайн рекомендаций"
   ]
  },
  {
   "cell_type": "code",
   "execution_count": 136,
   "metadata": {
    "pycharm": {
     "name": "#%%\n"
    }
   },
   "outputs": [],
   "source": [
    "train_item_ids_encoded = range(len(item_encoder.classes_))\n",
    "\n",
    "similar_items = als_model.similar_items(train_item_ids_encoded, N=5)"
   ]
  },
  {
   "cell_type": "code",
   "execution_count": 137,
   "metadata": {
    "pycharm": {
     "name": "#%%\n"
    }
   },
   "outputs": [],
   "source": [
    "# подготовим датафрейм"
   ]
  },
  {
   "cell_type": "code",
   "execution_count": 138,
   "metadata": {
    "pycharm": {
     "name": "#%%\n"
    }
   },
   "outputs": [
    {
     "data": {
      "text/html": [
       "<div>\n",
       "<style scoped>\n",
       "    .dataframe tbody tr th:only-of-type {\n",
       "        vertical-align: middle;\n",
       "    }\n",
       "\n",
       "    .dataframe tbody tr th {\n",
       "        vertical-align: top;\n",
       "    }\n",
       "\n",
       "    .dataframe thead th {\n",
       "        text-align: right;\n",
       "    }\n",
       "</style>\n",
       "<table border=\"1\" class=\"dataframe\">\n",
       "  <thead>\n",
       "    <tr style=\"text-align: right;\">\n",
       "      <th></th>\n",
       "      <th>itemid_1</th>\n",
       "      <th>itemid_2</th>\n",
       "      <th>score</th>\n",
       "    </tr>\n",
       "  </thead>\n",
       "  <tbody>\n",
       "    <tr>\n",
       "      <th>1</th>\n",
       "      <td>546</td>\n",
       "      <td>6605</td>\n",
       "      <td>0.770503</td>\n",
       "    </tr>\n",
       "    <tr>\n",
       "      <th>2</th>\n",
       "      <td>546</td>\n",
       "      <td>40864</td>\n",
       "      <td>0.770024</td>\n",
       "    </tr>\n",
       "    <tr>\n",
       "      <th>3</th>\n",
       "      <td>546</td>\n",
       "      <td>389814</td>\n",
       "      <td>0.763187</td>\n",
       "    </tr>\n",
       "    <tr>\n",
       "      <th>4</th>\n",
       "      <td>546</td>\n",
       "      <td>291877</td>\n",
       "      <td>0.754593</td>\n",
       "    </tr>\n",
       "    <tr>\n",
       "      <th>6</th>\n",
       "      <td>829</td>\n",
       "      <td>124583</td>\n",
       "      <td>0.710305</td>\n",
       "    </tr>\n",
       "    <tr>\n",
       "      <th>...</th>\n",
       "      <td>...</td>\n",
       "      <td>...</td>\n",
       "      <td>...</td>\n",
       "    </tr>\n",
       "    <tr>\n",
       "      <th>3564</th>\n",
       "      <td>466109</td>\n",
       "      <td>54875</td>\n",
       "      <td>0.790588</td>\n",
       "    </tr>\n",
       "    <tr>\n",
       "      <th>3566</th>\n",
       "      <td>466385</td>\n",
       "      <td>150547</td>\n",
       "      <td>0.671563</td>\n",
       "    </tr>\n",
       "    <tr>\n",
       "      <th>3567</th>\n",
       "      <td>466385</td>\n",
       "      <td>306289</td>\n",
       "      <td>0.598075</td>\n",
       "    </tr>\n",
       "    <tr>\n",
       "      <th>3568</th>\n",
       "      <td>466385</td>\n",
       "      <td>383715</td>\n",
       "      <td>0.571007</td>\n",
       "    </tr>\n",
       "    <tr>\n",
       "      <th>3569</th>\n",
       "      <td>466385</td>\n",
       "      <td>27248</td>\n",
       "      <td>0.545419</td>\n",
       "    </tr>\n",
       "  </tbody>\n",
       "</table>\n",
       "<p>2776 rows × 3 columns</p>\n",
       "</div>"
      ],
      "text/plain": [
       "      itemid_1  itemid_2     score\n",
       "1          546      6605  0.770503\n",
       "2          546     40864  0.770024\n",
       "3          546    389814  0.763187\n",
       "4          546    291877  0.754593\n",
       "6          829    124583  0.710305\n",
       "...        ...       ...       ...\n",
       "3564    466109     54875  0.790588\n",
       "3566    466385    150547  0.671563\n",
       "3567    466385    306289  0.598075\n",
       "3568    466385    383715  0.571007\n",
       "3569    466385     27248  0.545419\n",
       "\n",
       "[2776 rows x 3 columns]"
      ]
     },
     "execution_count": 138,
     "metadata": {},
     "output_type": "execute_result"
    }
   ],
   "source": [
    "sim_item_item_ids_enc = similar_items[0]\n",
    "sim_item_scores = similar_items[1]\n",
    "\n",
    "similar_items = pd.DataFrame({\n",
    "    \"itemid_encoded\": train_item_ids_encoded,\n",
    "    \"sim_itemid_encoded\": sim_item_item_ids_enc.tolist(), \n",
    "    \"score\": sim_item_scores.tolist()})\n",
    "similar_items = similar_items.explode([\"sim_itemid_encoded\", \"score\"], ignore_index=True)\n",
    "\n",
    "similar_items[\"sim_itemid_encoded\"] = similar_items[\"sim_itemid_encoded\"].astype(\"int64\")\n",
    "similar_items[\"score\"] = similar_items[\"score\"].astype(\"float\")\n",
    "\n",
    "similar_items[\"itemid_1\"] = item_encoder.inverse_transform(similar_items[\"itemid_encoded\"])\n",
    "similar_items[\"itemid_2\"] = item_encoder.inverse_transform(similar_items[\"sim_itemid_encoded\"])\n",
    "similar_items = similar_items.drop(columns=[\"itemid_encoded\", \"sim_itemid_encoded\"])\n",
    "\n",
    "similar_items = similar_items.query(\"itemid_1 != itemid_2\")\n",
    "\n",
    "similar_items = similar_items[[\"itemid_1\", \"itemid_2\", \"score\"]]\n",
    "similar_items = similar_items.query(\"score != 0\")\n",
    "similar_items"
   ]
  },
  {
   "cell_type": "code",
   "execution_count": 139,
   "metadata": {
    "pycharm": {
     "name": "#%%\n"
    }
   },
   "outputs": [
    {
     "data": {
      "text/html": [
       "<div>\n",
       "<style scoped>\n",
       "    .dataframe tbody tr th:only-of-type {\n",
       "        vertical-align: middle;\n",
       "    }\n",
       "\n",
       "    .dataframe tbody tr th {\n",
       "        vertical-align: top;\n",
       "    }\n",
       "\n",
       "    .dataframe thead th {\n",
       "        text-align: right;\n",
       "    }\n",
       "</style>\n",
       "<table border=\"1\" class=\"dataframe\">\n",
       "  <thead>\n",
       "    <tr style=\"text-align: right;\">\n",
       "      <th></th>\n",
       "      <th>id</th>\n",
       "      <th>rec_id</th>\n",
       "      <th>itemid_1</th>\n",
       "      <th>itemid_2</th>\n",
       "      <th>score</th>\n",
       "    </tr>\n",
       "  </thead>\n",
       "  <tbody>\n",
       "    <tr>\n",
       "      <th>0</th>\n",
       "      <td>1</td>\n",
       "      <td>1</td>\n",
       "      <td>546</td>\n",
       "      <td>6605</td>\n",
       "      <td>0.770503</td>\n",
       "    </tr>\n",
       "    <tr>\n",
       "      <th>1</th>\n",
       "      <td>2</td>\n",
       "      <td>2</td>\n",
       "      <td>546</td>\n",
       "      <td>40864</td>\n",
       "      <td>0.770024</td>\n",
       "    </tr>\n",
       "    <tr>\n",
       "      <th>2</th>\n",
       "      <td>3</td>\n",
       "      <td>3</td>\n",
       "      <td>546</td>\n",
       "      <td>389814</td>\n",
       "      <td>0.763187</td>\n",
       "    </tr>\n",
       "    <tr>\n",
       "      <th>3</th>\n",
       "      <td>4</td>\n",
       "      <td>4</td>\n",
       "      <td>546</td>\n",
       "      <td>291877</td>\n",
       "      <td>0.754593</td>\n",
       "    </tr>\n",
       "    <tr>\n",
       "      <th>4</th>\n",
       "      <td>5</td>\n",
       "      <td>6</td>\n",
       "      <td>829</td>\n",
       "      <td>124583</td>\n",
       "      <td>0.710305</td>\n",
       "    </tr>\n",
       "    <tr>\n",
       "      <th>...</th>\n",
       "      <td>...</td>\n",
       "      <td>...</td>\n",
       "      <td>...</td>\n",
       "      <td>...</td>\n",
       "      <td>...</td>\n",
       "    </tr>\n",
       "    <tr>\n",
       "      <th>2771</th>\n",
       "      <td>2772</td>\n",
       "      <td>3564</td>\n",
       "      <td>466109</td>\n",
       "      <td>54875</td>\n",
       "      <td>0.790588</td>\n",
       "    </tr>\n",
       "    <tr>\n",
       "      <th>2772</th>\n",
       "      <td>2773</td>\n",
       "      <td>3566</td>\n",
       "      <td>466385</td>\n",
       "      <td>150547</td>\n",
       "      <td>0.671563</td>\n",
       "    </tr>\n",
       "    <tr>\n",
       "      <th>2773</th>\n",
       "      <td>2774</td>\n",
       "      <td>3567</td>\n",
       "      <td>466385</td>\n",
       "      <td>306289</td>\n",
       "      <td>0.598075</td>\n",
       "    </tr>\n",
       "    <tr>\n",
       "      <th>2774</th>\n",
       "      <td>2775</td>\n",
       "      <td>3568</td>\n",
       "      <td>466385</td>\n",
       "      <td>383715</td>\n",
       "      <td>0.571007</td>\n",
       "    </tr>\n",
       "    <tr>\n",
       "      <th>2775</th>\n",
       "      <td>2776</td>\n",
       "      <td>3569</td>\n",
       "      <td>466385</td>\n",
       "      <td>27248</td>\n",
       "      <td>0.545419</td>\n",
       "    </tr>\n",
       "  </tbody>\n",
       "</table>\n",
       "<p>2776 rows × 5 columns</p>\n",
       "</div>"
      ],
      "text/plain": [
       "        id  rec_id  itemid_1  itemid_2     score\n",
       "0        1       1       546      6605  0.770503\n",
       "1        2       2       546     40864  0.770024\n",
       "2        3       3       546    389814  0.763187\n",
       "3        4       4       546    291877  0.754593\n",
       "4        5       6       829    124583  0.710305\n",
       "...    ...     ...       ...       ...       ...\n",
       "2771  2772    3564    466109     54875  0.790588\n",
       "2772  2773    3566    466385    150547  0.671563\n",
       "2773  2774    3567    466385    306289  0.598075\n",
       "2774  2775    3568    466385    383715  0.571007\n",
       "2775  2776    3569    466385     27248  0.545419\n",
       "\n",
       "[2776 rows x 5 columns]"
      ]
     },
     "execution_count": 139,
     "metadata": {},
     "output_type": "execute_result"
    }
   ],
   "source": [
    "similar_items = similar_items.reset_index().reset_index()\n",
    "similar_items[\"level_0\"] = similar_items[\"level_0\"] + 1\n",
    "similar_items = similar_items.rename(\n",
    "    columns={\n",
    "        \"index\": \"rec_id\",\n",
    "        \"level_0\": \"id\",\n",
    "    }\n",
    ")\n",
    "similar_items"
   ]
  },
  {
   "cell_type": "code",
   "execution_count": 140,
   "metadata": {
    "pycharm": {
     "name": "#%%\n"
    }
   },
   "outputs": [],
   "source": [
    "# сохраним для работы в Postgres"
   ]
  },
  {
   "cell_type": "code",
   "execution_count": 141,
   "metadata": {
    "pycharm": {
     "name": "#%%\n"
    }
   },
   "outputs": [],
   "source": [
    "similar_items.to_parquet(f\"{POSTGRES_DATA}/similar.parquet\")"
   ]
  },
  {
   "cell_type": "markdown",
   "metadata": {
    "pycharm": {
     "name": "#%% md\n"
    }
   },
   "source": [
    "### 3.5 Логгирование объектов в MLFLOW"
   ]
  },
  {
   "cell_type": "code",
   "execution_count": 142,
   "metadata": {
    "pycharm": {
     "name": "#%%\n"
    }
   },
   "outputs": [],
   "source": [
    "# сама модель ALS не является моделью, поэтому нужно написать класс для логирования ALS в качестве пользовательской модели MLFLOW"
   ]
  },
  {
   "cell_type": "code",
   "execution_count": 143,
   "metadata": {
    "pycharm": {
     "name": "#%%\n"
    }
   },
   "outputs": [
    {
     "name": "stderr",
     "output_type": "stream",
     "text": [
      "/Users/andryousha/Projects/Python_projects/mle-pr-final/.pr_final/lib/python3.9/site-packages/mlflow/pyfunc/utils/data_validation.py:186: UserWarning: \u001B[33mAdd type hints to the `predict` method to enable data validation and automatic signature inference during model logging. Check https://mlflow.org/docs/latest/model/python_model.html#type-hint-usage-in-pythonmodel for more details.\u001B[0m\n",
      "  color_warning(\n"
     ]
    }
   ],
   "source": [
    "class ALSModel(mlflow.pyfunc.PythonModel):\n",
    "    \"\"\"Обертка для ALS модели\"\"\"\n",
    "\n",
    "    def __init__(self, model, user_ids_encoded, filter_already_liked_items, N):\n",
    "        \"\"\"Инициализация модели\"\"\"\n",
    "        super().__init__()\n",
    "        self._model = model\n",
    "        self.user_ids_encoded = user_ids_encoded\n",
    "        self.filter_already_liked_items = filter_already_liked_items\n",
    "        self.N = N\n",
    "    \n",
    "    def predict(self, context, model_input):\n",
    "        \"\"\"Генерация рекомендаций\"\"\"\n",
    "        als_recommendations = self._model.recommend(\n",
    "            userid=self.user_ids_encoded, \n",
    "            user_items=model_input[self.user_ids_encoded], \n",
    "            filter_already_liked_items=self.filter_already_liked_items, \n",
    "            N=self.N,\n",
    "        )\n",
    "        return als_recommendations"
   ]
  },
  {
   "cell_type": "code",
   "execution_count": 144,
   "metadata": {
    "pycharm": {
     "name": "#%%\n"
    }
   },
   "outputs": [],
   "source": [
    "als_model_for_mlflow = ALSModel(\n",
    "    model=als_model,\n",
    "    user_ids_encoded=user_ids_encoded,\n",
    "    filter_already_liked_items=False,\n",
    "    N=5,\n",
    ")"
   ]
  },
  {
   "cell_type": "code",
   "execution_count": 145,
   "metadata": {
    "pycharm": {
     "name": "#%%\n"
    }
   },
   "outputs": [
    {
     "data": {
      "text/plain": [
       "<__main__.ALSModel at 0x3ab6d1fa0>"
      ]
     },
     "execution_count": 145,
     "metadata": {},
     "output_type": "execute_result"
    }
   ],
   "source": [
    "als_model_for_mlflow"
   ]
  },
  {
   "cell_type": "code",
   "execution_count": 146,
   "metadata": {
    "pycharm": {
     "name": "#%%\n"
    }
   },
   "outputs": [],
   "source": [
    "# теперь залоггируем"
   ]
  },
  {
   "cell_type": "code",
   "execution_count": 147,
   "metadata": {
    "pycharm": {
     "name": "#%%\n"
    }
   },
   "outputs": [
    {
     "name": "stderr",
     "output_type": "stream",
     "text": [
      "\u001B[31m2025/07/19 20:41:13 WARNING mlflow.models.model: Model logged without a signature and input example. Please set `input_example` parameter when logging the model to auto infer the model signature.\u001B[0m\n",
      "Registered model 'als_model_train_v4' already exists. Creating a new version of this model...\n",
      "2025/07/19 20:41:20 INFO mlflow.store.model_registry.abstract_store: Waiting up to 300 seconds for model version to finish creation. Model name: als_model_train_v4, version 2\n",
      "Created version '2' of model 'als_model_train_v4'.\n"
     ]
    },
    {
     "name": "stdout",
     "output_type": "stream",
     "text": [
      "🏃 View run recommendations_generation at: http://127.0.0.1:5000/#/experiments/1/runs/588be19b7fea4e6d80a05f3d3d399129\n",
      "🧪 View experiment at: http://127.0.0.1:5000/#/experiments/1\n"
     ]
    }
   ],
   "source": [
    "RUN_NAME = \"recommendations_generation\"\n",
    "REGISTERED_MODEL_NAME = \"als_model_train_v4\"\n",
    "with mlflow.start_run(run_name=RUN_NAME, experiment_id=experiment_id) as run:\n",
    "    \n",
    "    run_id = run.info.run_id\n",
    "    \n",
    "    mlflow.log_artifact(f\"{ASSETS}/events.parquet\", \"data\")\n",
    "    \n",
    "    mlflow.log_artifact(f\"{ASSETS}/personal_als.parquet\", \"recommendations\")\n",
    "    mlflow.log_artifact(f\"{POSTGRES_DATA}/top_popular.parquet\", \"recommendations\")\n",
    "    mlflow.log_artifact(f\"{POSTGRES_DATA}/similar.parquet\", \"recommendations\")\n",
    "\n",
    "    mlflow.log_artifact(f\"{ASSETS}/user_encoder.pkl\", \"encoders\")\n",
    "    mlflow.log_artifact(f\"{ASSETS}/item_encoder.pkl\", \"encoders\")\n",
    "    \n",
    "    mlflow.log_params(als_params)\n",
    "    model_info = mlflow.pyfunc.log_model(\n",
    "        registered_model_name=REGISTERED_MODEL_NAME,\n",
    "        python_model=als_model_for_mlflow,\n",
    "        pip_requirements = '../requirements.txt', \n",
    "        name='models',\n",
    "    )"
   ]
  },
  {
   "cell_type": "code",
   "execution_count": 148,
   "metadata": {
    "pycharm": {
     "name": "#%%\n"
    }
   },
   "outputs": [],
   "source": [
    "# проверим работает ли модель"
   ]
  },
  {
   "cell_type": "code",
   "execution_count": 149,
   "metadata": {
    "pycharm": {
     "name": "#%%\n"
    }
   },
   "outputs": [
    {
     "data": {
      "application/vnd.jupyter.widget-view+json": {
       "model_id": "5c0bb42214554590a6bcd4e60641a677",
       "version_major": 2,
       "version_minor": 0
      },
      "text/plain": [
       "Downloading artifacts:   0%|          | 0/5 [00:00<?, ?it/s]"
      ]
     },
     "metadata": {},
     "output_type": "display_data"
    }
   ],
   "source": [
    "als_model_loaded = mlflow.pyfunc.load_model(\n",
    "    model_uri=model_info.model_uri,\n",
    ")"
   ]
  },
  {
   "cell_type": "code",
   "execution_count": 150,
   "metadata": {
    "pycharm": {
     "name": "#%%\n"
    }
   },
   "outputs": [
    {
     "data": {
      "text/plain": [
       "(array([[441, 671, 211, 705, 545],\n",
       "        [  4,   3,   2,   1,   0],\n",
       "        [671, 441, 249, 307, 196],\n",
       "        ...,\n",
       "        [  4,   3,   2,   1,   0],\n",
       "        [179, 187, 534, 108, 218],\n",
       "        [671, 441, 545, 307, 196]], dtype=int32),\n",
       " array([[2.5811830e-19, 2.5804840e-19, 2.3097892e-19, 2.2744388e-19,\n",
       "         2.2297460e-19],\n",
       "        [0.0000000e+00, 0.0000000e+00, 0.0000000e+00, 0.0000000e+00,\n",
       "         0.0000000e+00],\n",
       "        [2.5248603e-19, 1.5629765e-19, 1.4302925e-19, 1.3192284e-19,\n",
       "         1.2185558e-19],\n",
       "        ...,\n",
       "        [0.0000000e+00, 0.0000000e+00, 0.0000000e+00, 0.0000000e+00,\n",
       "         0.0000000e+00],\n",
       "        [1.2176547e-12, 4.5406973e-19, 3.9684264e-19, 3.8247206e-19,\n",
       "         3.3409455e-19],\n",
       "        [2.7105385e-19, 2.0721978e-19, 1.8505139e-19, 1.7080093e-19,\n",
       "         1.6984810e-19]], dtype=float32))"
      ]
     },
     "execution_count": 150,
     "metadata": {},
     "output_type": "execute_result"
    }
   ],
   "source": [
    "als_model_loaded.predict(user_item_matrix_train)"
   ]
  },
  {
   "cell_type": "code",
   "execution_count": 151,
   "metadata": {
    "pycharm": {
     "name": "#%%\n"
    }
   },
   "outputs": [],
   "source": [
    "# все ок"
   ]
  },
  {
   "cell_type": "markdown",
   "metadata": {
    "pycharm": {
     "name": "#%% md\n"
    }
   },
   "source": [
    "# 4. Обучение ранжирующей модели"
   ]
  },
  {
   "cell_type": "markdown",
   "metadata": {
    "pycharm": {
     "name": "#%% md\n"
    }
   },
   "source": [
    "### 4.1 Выбор трейн кандидатов"
   ]
  },
  {
   "cell_type": "code",
   "execution_count": 152,
   "metadata": {
    "pycharm": {
     "name": "#%%\n"
    }
   },
   "outputs": [],
   "source": [
    "# Разделим выборку теста еще на две части"
   ]
  },
  {
   "cell_type": "code",
   "execution_count": 153,
   "metadata": {
    "pycharm": {
     "name": "#%%\n"
    }
   },
   "outputs": [
    {
     "data": {
      "text/html": [
       "<div>\n",
       "<style scoped>\n",
       "    .dataframe tbody tr th:only-of-type {\n",
       "        vertical-align: middle;\n",
       "    }\n",
       "\n",
       "    .dataframe tbody tr th {\n",
       "        vertical-align: top;\n",
       "    }\n",
       "\n",
       "    .dataframe thead th {\n",
       "        text-align: right;\n",
       "    }\n",
       "</style>\n",
       "<table border=\"1\" class=\"dataframe\">\n",
       "  <thead>\n",
       "    <tr style=\"text-align: right;\">\n",
       "      <th></th>\n",
       "      <th>timestamp</th>\n",
       "      <th>user_id</th>\n",
       "      <th>item_id</th>\n",
       "      <th>event</th>\n",
       "      <th>date_event</th>\n",
       "      <th>user_id_encoded</th>\n",
       "      <th>item_id_encoded</th>\n",
       "      <th>rating</th>\n",
       "    </tr>\n",
       "  </thead>\n",
       "  <tbody>\n",
       "    <tr>\n",
       "      <th>5707</th>\n",
       "      <td>1438454518049</td>\n",
       "      <td>1293358</td>\n",
       "      <td>456005</td>\n",
       "      <td>addtocart</td>\n",
       "      <td>2015-08-02</td>\n",
       "      <td>324</td>\n",
       "      <td>689</td>\n",
       "      <td>0.049324</td>\n",
       "    </tr>\n",
       "    <tr>\n",
       "      <th>5708</th>\n",
       "      <td>1438456382712</td>\n",
       "      <td>1098890</td>\n",
       "      <td>6605</td>\n",
       "      <td>view</td>\n",
       "      <td>2015-08-02</td>\n",
       "      <td>278</td>\n",
       "      <td>7</td>\n",
       "      <td>0.027309</td>\n",
       "    </tr>\n",
       "    <tr>\n",
       "      <th>5709</th>\n",
       "      <td>1438441059952</td>\n",
       "      <td>1015139</td>\n",
       "      <td>449489</td>\n",
       "      <td>view</td>\n",
       "      <td>2015-08-01</td>\n",
       "      <td>263</td>\n",
       "      <td>673</td>\n",
       "      <td>0.041661</td>\n",
       "    </tr>\n",
       "    <tr>\n",
       "      <th>5710</th>\n",
       "      <td>1438443451104</td>\n",
       "      <td>1150086</td>\n",
       "      <td>133814</td>\n",
       "      <td>view</td>\n",
       "      <td>2015-08-01</td>\n",
       "      <td>299</td>\n",
       "      <td>201</td>\n",
       "      <td>0.001811</td>\n",
       "    </tr>\n",
       "    <tr>\n",
       "      <th>5711</th>\n",
       "      <td>1438470121571</td>\n",
       "      <td>1150086</td>\n",
       "      <td>127537</td>\n",
       "      <td>view</td>\n",
       "      <td>2015-08-02</td>\n",
       "      <td>299</td>\n",
       "      <td>191</td>\n",
       "      <td>0.003483</td>\n",
       "    </tr>\n",
       "  </tbody>\n",
       "</table>\n",
       "</div>"
      ],
      "text/plain": [
       "          timestamp  user_id  item_id      event date_event  user_id_encoded  \\\n",
       "5707  1438454518049  1293358   456005  addtocart 2015-08-02              324   \n",
       "5708  1438456382712  1098890     6605       view 2015-08-02              278   \n",
       "5709  1438441059952  1015139   449489       view 2015-08-01              263   \n",
       "5710  1438443451104  1150086   133814       view 2015-08-01              299   \n",
       "5711  1438470121571  1150086   127537       view 2015-08-02              299   \n",
       "\n",
       "      item_id_encoded    rating  \n",
       "5707              689  0.049324  \n",
       "5708                7  0.027309  \n",
       "5709              673  0.041661  \n",
       "5710              201  0.001811  \n",
       "5711              191  0.003483  "
      ]
     },
     "execution_count": 153,
     "metadata": {},
     "output_type": "execute_result"
    }
   ],
   "source": [
    "events_test.head()"
   ]
  },
  {
   "cell_type": "code",
   "execution_count": 154,
   "metadata": {
    "pycharm": {
     "name": "#%%\n"
    }
   },
   "outputs": [
    {
     "name": "stdout",
     "output_type": "stream",
     "text": [
      "(3628, 8) (1866, 8)\n"
     ]
    }
   ],
   "source": [
    "split_date = pd.to_datetime(\"2015-09-01\")\n",
    "\n",
    "split_test_filter = events_test[\"date_event\"] < split_date\n",
    "events_test_1 = events_test[split_test_filter].copy()\n",
    "events_test_2 = events_test[~split_test_filter].copy()\n",
    "\n",
    "print(events_test_1.shape, events_test_2.shape)"
   ]
  },
  {
   "cell_type": "code",
   "execution_count": 155,
   "metadata": {
    "pycharm": {
     "name": "#%%\n"
    }
   },
   "outputs": [
    {
     "data": {
      "text/plain": [
       "event\n",
       "view           3046\n",
       "addtocart       320\n",
       "transaction     262\n",
       "Name: count, dtype: int64"
      ]
     },
     "execution_count": 155,
     "metadata": {},
     "output_type": "execute_result"
    }
   ],
   "source": [
    "events_test_1.event.value_counts()"
   ]
  },
  {
   "cell_type": "code",
   "execution_count": 156,
   "metadata": {
    "pycharm": {
     "name": "#%%\n"
    }
   },
   "outputs": [
    {
     "data": {
      "text/plain": [
       "event\n",
       "view           1616\n",
       "addtocart       146\n",
       "transaction     104\n",
       "Name: count, dtype: int64"
      ]
     },
     "execution_count": 156,
     "metadata": {},
     "output_type": "execute_result"
    }
   ],
   "source": [
    "events_test_2.event.value_counts()"
   ]
  },
  {
   "cell_type": "code",
   "execution_count": 157,
   "metadata": {
    "pycharm": {
     "name": "#%%\n"
    }
   },
   "outputs": [],
   "source": [
    "# разметим событие добаления в корзину и добавим в таргет"
   ]
  },
  {
   "cell_type": "code",
   "execution_count": 158,
   "metadata": {
    "pycharm": {
     "name": "#%%\n"
    }
   },
   "outputs": [],
   "source": [
    "events_test_1[\"target\"] = 0\n",
    "events_test_1.loc[events_test_1[\"event\"].isin(['addtocart', 'transaction']), \"target\"] = 1"
   ]
  },
  {
   "cell_type": "code",
   "execution_count": 159,
   "metadata": {
    "pycharm": {
     "name": "#%%\n"
    }
   },
   "outputs": [
    {
     "data": {
      "text/plain": [
       "target\n",
       "0    1356\n",
       "1     297\n",
       "Name: count, dtype: int64"
      ]
     },
     "execution_count": 159,
     "metadata": {},
     "output_type": "execute_result"
    }
   ],
   "source": [
    "events_test_1.sort_values(by=[\"item_id\", \"event\"], ascending=[True, False]).drop_duplicates(subset=[\"user_id\", \"item_id\"], keep=\"last\")['target'].value_counts(dropna=False)"
   ]
  },
  {
   "cell_type": "code",
   "execution_count": 160,
   "metadata": {
    "pycharm": {
     "name": "#%%\n"
    }
   },
   "outputs": [],
   "source": [
    "# удалим лишние строки оставим только последние\n",
    "events_test_1_wo_dubl = events_test_1.sort_values(\n",
    "    by=[\"item_id\", \"event\"], ascending=[True, False]\n",
    ").drop_duplicates(\n",
    "    subset=[\"user_id\", \"item_id\"], keep=\"last\"\n",
    ")"
   ]
  },
  {
   "cell_type": "code",
   "execution_count": 161,
   "metadata": {
    "pycharm": {
     "name": "#%%\n"
    }
   },
   "outputs": [],
   "source": [
    "candidates = als_recommendations.merge(\n",
    "        events_test_1_wo_dubl[[\"user_id\", \"item_id\", \"target\"]],\n",
    "        on=[\"user_id\", \"item_id\"],\n",
    "        how=\"left\",\n",
    "        validate=\"many_to_one\",\n",
    "    )"
   ]
  },
  {
   "cell_type": "code",
   "execution_count": 162,
   "metadata": {
    "pycharm": {
     "name": "#%%\n"
    }
   },
   "outputs": [],
   "source": [
    "candidates[\"target\"] = candidates[\"target\"].fillna(0).astype(\"int\")"
   ]
  },
  {
   "cell_type": "code",
   "execution_count": 163,
   "metadata": {
    "pycharm": {
     "name": "#%%\n"
    }
   },
   "outputs": [
    {
     "data": {
      "text/plain": [
       "target\n",
       "0    35443\n",
       "1       57\n",
       "Name: count, dtype: int64"
      ]
     },
     "execution_count": 163,
     "metadata": {},
     "output_type": "execute_result"
    }
   ],
   "source": [
    "candidates.target.value_counts()"
   ]
  },
  {
   "cell_type": "markdown",
   "metadata": {
    "pycharm": {
     "name": "#%% md\n"
    }
   },
   "source": [
    "Получили сильный перекос в балансе классов, модель als генерирует не особо хорошие рекомендации, определяет небольшое кол-во целевых действий (добавление в корзину). Возможно это свзано с тем, чо я придумал не достаточно хороший рейтинг, также у нас очень мало класса 1 в данных. Возможно стило сделать таргет через мой рейтинг."
   ]
  },
  {
   "cell_type": "code",
   "execution_count": 164,
   "metadata": {
    "pycharm": {
     "name": "#%%\n"
    }
   },
   "outputs": [],
   "source": [
    "# попробуем немного улучшить ситуацию - для каждого негативного таргета возьмем рандомно только 10 записей."
   ]
  },
  {
   "cell_type": "code",
   "execution_count": 165,
   "metadata": {
    "pycharm": {
     "name": "#%%\n"
    }
   },
   "outputs": [
    {
     "name": "stderr",
     "output_type": "stream",
     "text": [
      "/var/folders/26/jzfnfwpd7zgcvfy170ph67w40000gn/T/ipykernel_82662/552112257.py:3: FutureWarning: DataFrameGroupBy.apply operated on the grouping columns. This behavior is deprecated, and in a future version of pandas the grouping columns will be excluded from the operation. Either pass `include_groups=False` to exclude the groupings or explicitly select the grouping columns after groupby to silence this warning.\n",
      "  candidates.query(\"target == 0\") \\\n"
     ]
    }
   ],
   "source": [
    "candidates_for_train = pd.concat([\n",
    "    candidates.query(\"target == 1\"),\n",
    "    candidates.query(\"target == 0\") \\\n",
    "        .groupby(\"user_id\") \\\n",
    "        .apply(lambda x: x.sample(10, random_state=RANDOM_STATE))\n",
    "])"
   ]
  },
  {
   "cell_type": "code",
   "execution_count": 166,
   "metadata": {
    "pycharm": {
     "name": "#%%\n"
    }
   },
   "outputs": [
    {
     "data": {
      "text/html": [
       "<div>\n",
       "<style scoped>\n",
       "    .dataframe tbody tr th:only-of-type {\n",
       "        vertical-align: middle;\n",
       "    }\n",
       "\n",
       "    .dataframe tbody tr th {\n",
       "        vertical-align: top;\n",
       "    }\n",
       "\n",
       "    .dataframe thead th {\n",
       "        text-align: right;\n",
       "    }\n",
       "</style>\n",
       "<table border=\"1\" class=\"dataframe\">\n",
       "  <thead>\n",
       "    <tr style=\"text-align: right;\">\n",
       "      <th></th>\n",
       "      <th>user_id</th>\n",
       "      <th>item_id</th>\n",
       "      <th>score</th>\n",
       "      <th>target</th>\n",
       "    </tr>\n",
       "  </thead>\n",
       "  <tbody>\n",
       "    <tr>\n",
       "      <th>0</th>\n",
       "      <td>17676</td>\n",
       "      <td>63543</td>\n",
       "      <td>0.0</td>\n",
       "      <td>1</td>\n",
       "    </tr>\n",
       "    <tr>\n",
       "      <th>1</th>\n",
       "      <td>17676</td>\n",
       "      <td>869</td>\n",
       "      <td>0.0</td>\n",
       "      <td>1</td>\n",
       "    </tr>\n",
       "    <tr>\n",
       "      <th>2</th>\n",
       "      <td>17676</td>\n",
       "      <td>546</td>\n",
       "      <td>0.0</td>\n",
       "      <td>1</td>\n",
       "    </tr>\n",
       "    <tr>\n",
       "      <th>3</th>\n",
       "      <td>152963</td>\n",
       "      <td>43267</td>\n",
       "      <td>0.0</td>\n",
       "      <td>1</td>\n",
       "    </tr>\n",
       "    <tr>\n",
       "      <th>4</th>\n",
       "      <td>152963</td>\n",
       "      <td>37029</td>\n",
       "      <td>0.0</td>\n",
       "      <td>1</td>\n",
       "    </tr>\n",
       "  </tbody>\n",
       "</table>\n",
       "</div>"
      ],
      "text/plain": [
       "   user_id  item_id  score  target\n",
       "0    17676    63543    0.0       1\n",
       "1    17676      869    0.0       1\n",
       "2    17676      546    0.0       1\n",
       "3   152963    43267    0.0       1\n",
       "4   152963    37029    0.0       1"
      ]
     },
     "metadata": {},
     "output_type": "display_data"
    },
    {
     "name": "stdout",
     "output_type": "stream",
     "text": [
      "<class 'pandas.core.frame.DataFrame'>\n",
      "RangeIndex: 3607 entries, 0 to 3606\n",
      "Data columns (total 4 columns):\n",
      " #   Column   Non-Null Count  Dtype  \n",
      "---  ------   --------------  -----  \n",
      " 0   user_id  3607 non-null   int64  \n",
      " 1   item_id  3607 non-null   int64  \n",
      " 2   score    3607 non-null   float64\n",
      " 3   target   3607 non-null   int64  \n",
      "dtypes: float64(1), int64(3)\n",
      "memory usage: 112.8 KB\n"
     ]
    },
    {
     "data": {
      "text/plain": [
       "None"
      ]
     },
     "metadata": {},
     "output_type": "display_data"
    }
   ],
   "source": [
    "candidates_for_train = candidates_for_train.reset_index(drop=True)\n",
    "display(candidates_for_train.head())\n",
    "display(candidates_for_train.info())"
   ]
  },
  {
   "cell_type": "code",
   "execution_count": 168,
   "metadata": {
    "pycharm": {
     "name": "#%%\n"
    }
   },
   "outputs": [
    {
     "data": {
      "text/plain": [
       "target\n",
       "0    0.984197\n",
       "1    0.015803\n",
       "Name: proportion, dtype: float64"
      ]
     },
     "execution_count": 168,
     "metadata": {},
     "output_type": "execute_result"
    }
   ],
   "source": [
    "candidates_for_train.target.value_counts(normalize=True)"
   ]
  },
  {
   "cell_type": "code",
   "execution_count": 169,
   "metadata": {
    "pycharm": {
     "name": "#%%\n"
    }
   },
   "outputs": [],
   "source": [
    "# Изменим candidates_for_train чтобы загрузить в Postgres"
   ]
  },
  {
   "cell_type": "code",
   "execution_count": 170,
   "metadata": {
    "pycharm": {
     "name": "#%%\n"
    }
   },
   "outputs": [
    {
     "data": {
      "text/html": [
       "<div>\n",
       "<style scoped>\n",
       "    .dataframe tbody tr th:only-of-type {\n",
       "        vertical-align: middle;\n",
       "    }\n",
       "\n",
       "    .dataframe tbody tr th {\n",
       "        vertical-align: top;\n",
       "    }\n",
       "\n",
       "    .dataframe thead th {\n",
       "        text-align: right;\n",
       "    }\n",
       "</style>\n",
       "<table border=\"1\" class=\"dataframe\">\n",
       "  <thead>\n",
       "    <tr style=\"text-align: right;\">\n",
       "      <th></th>\n",
       "      <th>id</th>\n",
       "      <th>rec_id</th>\n",
       "      <th>user_id</th>\n",
       "      <th>item_id</th>\n",
       "      <th>als_score</th>\n",
       "      <th>target</th>\n",
       "    </tr>\n",
       "  </thead>\n",
       "  <tbody>\n",
       "    <tr>\n",
       "      <th>0</th>\n",
       "      <td>1</td>\n",
       "      <td>0</td>\n",
       "      <td>17676</td>\n",
       "      <td>63543</td>\n",
       "      <td>0.000000e+00</td>\n",
       "      <td>1</td>\n",
       "    </tr>\n",
       "    <tr>\n",
       "      <th>1</th>\n",
       "      <td>2</td>\n",
       "      <td>1</td>\n",
       "      <td>17676</td>\n",
       "      <td>869</td>\n",
       "      <td>0.000000e+00</td>\n",
       "      <td>1</td>\n",
       "    </tr>\n",
       "    <tr>\n",
       "      <th>2</th>\n",
       "      <td>3</td>\n",
       "      <td>2</td>\n",
       "      <td>17676</td>\n",
       "      <td>546</td>\n",
       "      <td>0.000000e+00</td>\n",
       "      <td>1</td>\n",
       "    </tr>\n",
       "    <tr>\n",
       "      <th>3</th>\n",
       "      <td>4</td>\n",
       "      <td>3</td>\n",
       "      <td>152963</td>\n",
       "      <td>43267</td>\n",
       "      <td>0.000000e+00</td>\n",
       "      <td>1</td>\n",
       "    </tr>\n",
       "    <tr>\n",
       "      <th>4</th>\n",
       "      <td>5</td>\n",
       "      <td>4</td>\n",
       "      <td>152963</td>\n",
       "      <td>37029</td>\n",
       "      <td>0.000000e+00</td>\n",
       "      <td>1</td>\n",
       "    </tr>\n",
       "    <tr>\n",
       "      <th>...</th>\n",
       "      <td>...</td>\n",
       "      <td>...</td>\n",
       "      <td>...</td>\n",
       "      <td>...</td>\n",
       "      <td>...</td>\n",
       "      <td>...</td>\n",
       "    </tr>\n",
       "    <tr>\n",
       "      <th>3602</th>\n",
       "      <td>3603</td>\n",
       "      <td>3602</td>\n",
       "      <td>1403769</td>\n",
       "      <td>448220</td>\n",
       "      <td>2.710539e-19</td>\n",
       "      <td>0</td>\n",
       "    </tr>\n",
       "    <tr>\n",
       "      <th>3603</th>\n",
       "      <td>3604</td>\n",
       "      <td>3603</td>\n",
       "      <td>1403769</td>\n",
       "      <td>463663</td>\n",
       "      <td>1.695048e-19</td>\n",
       "      <td>0</td>\n",
       "    </tr>\n",
       "    <tr>\n",
       "      <th>3604</th>\n",
       "      <td>3605</td>\n",
       "      <td>3604</td>\n",
       "      <td>1403769</td>\n",
       "      <td>23762</td>\n",
       "      <td>5.542643e-20</td>\n",
       "      <td>0</td>\n",
       "    </tr>\n",
       "    <tr>\n",
       "      <th>3605</th>\n",
       "      <td>3606</td>\n",
       "      <td>3605</td>\n",
       "      <td>1403769</td>\n",
       "      <td>460188</td>\n",
       "      <td>2.828095e-20</td>\n",
       "      <td>0</td>\n",
       "    </tr>\n",
       "    <tr>\n",
       "      <th>3606</th>\n",
       "      <td>3607</td>\n",
       "      <td>3606</td>\n",
       "      <td>1403769</td>\n",
       "      <td>130815</td>\n",
       "      <td>1.698481e-19</td>\n",
       "      <td>0</td>\n",
       "    </tr>\n",
       "  </tbody>\n",
       "</table>\n",
       "<p>3607 rows × 6 columns</p>\n",
       "</div>"
      ],
      "text/plain": [
       "        id  rec_id  user_id  item_id     als_score  target\n",
       "0        1       0    17676    63543  0.000000e+00       1\n",
       "1        2       1    17676      869  0.000000e+00       1\n",
       "2        3       2    17676      546  0.000000e+00       1\n",
       "3        4       3   152963    43267  0.000000e+00       1\n",
       "4        5       4   152963    37029  0.000000e+00       1\n",
       "...    ...     ...      ...      ...           ...     ...\n",
       "3602  3603    3602  1403769   448220  2.710539e-19       0\n",
       "3603  3604    3603  1403769   463663  1.695048e-19       0\n",
       "3604  3605    3604  1403769    23762  5.542643e-20       0\n",
       "3605  3606    3605  1403769   460188  2.828095e-20       0\n",
       "3606  3607    3606  1403769   130815  1.698481e-19       0\n",
       "\n",
       "[3607 rows x 6 columns]"
      ]
     },
     "execution_count": 170,
     "metadata": {},
     "output_type": "execute_result"
    }
   ],
   "source": [
    "candidates_train = candidates_for_train.reset_index()\n",
    "candidates_train = candidates_train.rename(columns={\n",
    "    \"index\": \"rec_id\",\n",
    "    \"score\": \"als_score\",\n",
    "})\n",
    "candidates_train[\"id\"] = candidates_train.reset_index()[\"index\"] + 1\n",
    "candidates_train = candidates_train[[\"id\", \"rec_id\", \"user_id\", \"item_id\", \"als_score\", \"target\"]]\n",
    "candidates_train"
   ]
  },
  {
   "cell_type": "markdown",
   "metadata": {
    "pycharm": {
     "name": "#%% md\n"
    }
   },
   "source": [
    "### 4.2 Добавим фичи"
   ]
  },
  {
   "cell_type": "code",
   "execution_count": 171,
   "metadata": {
    "pycharm": {
     "name": "#%%\n"
    }
   },
   "outputs": [],
   "source": [
    "# category_id, parent_id, available"
   ]
  },
  {
   "cell_type": "code",
   "execution_count": 172,
   "metadata": {
    "pycharm": {
     "name": "#%%\n"
    }
   },
   "outputs": [],
   "source": [
    "candidates_train = candidates_train.merge(\n",
    "    category_props[[\"item_id\", \"category_id\", \"parent_id\"]],\n",
    "    on=\"item_id\",\n",
    "    how=\"left\",\n",
    "    validate=\"many_to_one\"\n",
    ")\n",
    "\n",
    "candidates_train = candidates_train.dropna()\n",
    "candidates_train[\"category_id\"] = candidates_train[\"category_id\"].astype(\"int64\")\n",
    "candidates_train[\"parent_id\"] = candidates_train[\"parent_id\"].astype(\"int64\")"
   ]
  },
  {
   "cell_type": "code",
   "execution_count": 173,
   "metadata": {
    "pycharm": {
     "name": "#%%\n"
    }
   },
   "outputs": [],
   "source": [
    "candidates_train = candidates_train.merge(\n",
    "    availability_props[[\"item_id\", \"available\"]],\n",
    "    on=\"item_id\",\n",
    "    how=\"left\",\n",
    "    validate=\"many_to_one\",\n",
    ")"
   ]
  },
  {
   "cell_type": "code",
   "execution_count": 174,
   "metadata": {
    "pycharm": {
     "name": "#%%\n"
    }
   },
   "outputs": [
    {
     "data": {
      "text/html": [
       "<div>\n",
       "<style scoped>\n",
       "    .dataframe tbody tr th:only-of-type {\n",
       "        vertical-align: middle;\n",
       "    }\n",
       "\n",
       "    .dataframe tbody tr th {\n",
       "        vertical-align: top;\n",
       "    }\n",
       "\n",
       "    .dataframe thead th {\n",
       "        text-align: right;\n",
       "    }\n",
       "</style>\n",
       "<table border=\"1\" class=\"dataframe\">\n",
       "  <thead>\n",
       "    <tr style=\"text-align: right;\">\n",
       "      <th></th>\n",
       "      <th>id</th>\n",
       "      <th>rec_id</th>\n",
       "      <th>user_id</th>\n",
       "      <th>item_id</th>\n",
       "      <th>als_score</th>\n",
       "      <th>target</th>\n",
       "      <th>category_id</th>\n",
       "      <th>parent_id</th>\n",
       "      <th>available</th>\n",
       "    </tr>\n",
       "  </thead>\n",
       "  <tbody>\n",
       "    <tr>\n",
       "      <th>0</th>\n",
       "      <td>1</td>\n",
       "      <td>0</td>\n",
       "      <td>17676</td>\n",
       "      <td>63543</td>\n",
       "      <td>0.0</td>\n",
       "      <td>1</td>\n",
       "      <td>589</td>\n",
       "      <td>1308</td>\n",
       "      <td>1</td>\n",
       "    </tr>\n",
       "    <tr>\n",
       "      <th>1</th>\n",
       "      <td>2</td>\n",
       "      <td>1</td>\n",
       "      <td>17676</td>\n",
       "      <td>869</td>\n",
       "      <td>0.0</td>\n",
       "      <td>1</td>\n",
       "      <td>1650</td>\n",
       "      <td>1426</td>\n",
       "      <td>0</td>\n",
       "    </tr>\n",
       "    <tr>\n",
       "      <th>2</th>\n",
       "      <td>3</td>\n",
       "      <td>2</td>\n",
       "      <td>17676</td>\n",
       "      <td>546</td>\n",
       "      <td>0.0</td>\n",
       "      <td>1</td>\n",
       "      <td>1349</td>\n",
       "      <td>121</td>\n",
       "      <td>0</td>\n",
       "    </tr>\n",
       "    <tr>\n",
       "      <th>3</th>\n",
       "      <td>4</td>\n",
       "      <td>3</td>\n",
       "      <td>152963</td>\n",
       "      <td>43267</td>\n",
       "      <td>0.0</td>\n",
       "      <td>1</td>\n",
       "      <td>1623</td>\n",
       "      <td>1066</td>\n",
       "      <td>1</td>\n",
       "    </tr>\n",
       "    <tr>\n",
       "      <th>4</th>\n",
       "      <td>5</td>\n",
       "      <td>4</td>\n",
       "      <td>152963</td>\n",
       "      <td>37029</td>\n",
       "      <td>0.0</td>\n",
       "      <td>1</td>\n",
       "      <td>1483</td>\n",
       "      <td>561</td>\n",
       "      <td>0</td>\n",
       "    </tr>\n",
       "  </tbody>\n",
       "</table>\n",
       "</div>"
      ],
      "text/plain": [
       "   id  rec_id  user_id  item_id  als_score  target  category_id  parent_id  \\\n",
       "0   1       0    17676    63543        0.0       1          589       1308   \n",
       "1   2       1    17676      869        0.0       1         1650       1426   \n",
       "2   3       2    17676      546        0.0       1         1349        121   \n",
       "3   4       3   152963    43267        0.0       1         1623       1066   \n",
       "4   5       4   152963    37029        0.0       1         1483        561   \n",
       "\n",
       "   available  \n",
       "0          1  \n",
       "1          0  \n",
       "2          0  \n",
       "3          1  \n",
       "4          0  "
      ]
     },
     "execution_count": 174,
     "metadata": {},
     "output_type": "execute_result"
    }
   ],
   "source": [
    "candidates_train.head()"
   ]
  },
  {
   "cell_type": "code",
   "execution_count": 175,
   "metadata": {
    "pycharm": {
     "name": "#%%\n"
    }
   },
   "outputs": [
    {
     "data": {
      "text/html": [
       "<div>\n",
       "<style scoped>\n",
       "    .dataframe tbody tr th:only-of-type {\n",
       "        vertical-align: middle;\n",
       "    }\n",
       "\n",
       "    .dataframe tbody tr th {\n",
       "        vertical-align: top;\n",
       "    }\n",
       "\n",
       "    .dataframe thead th {\n",
       "        text-align: right;\n",
       "    }\n",
       "</style>\n",
       "<table border=\"1\" class=\"dataframe\">\n",
       "  <thead>\n",
       "    <tr style=\"text-align: right;\">\n",
       "      <th></th>\n",
       "      <th>id</th>\n",
       "      <th>rec_id</th>\n",
       "      <th>user_id</th>\n",
       "      <th>item_id</th>\n",
       "      <th>als_score</th>\n",
       "      <th>target</th>\n",
       "      <th>category_id</th>\n",
       "      <th>parent_id</th>\n",
       "      <th>available</th>\n",
       "    </tr>\n",
       "  </thead>\n",
       "  <tbody>\n",
       "    <tr>\n",
       "      <th>0</th>\n",
       "      <td>1</td>\n",
       "      <td>0</td>\n",
       "      <td>17676</td>\n",
       "      <td>63543</td>\n",
       "      <td>0.000000e+00</td>\n",
       "      <td>1</td>\n",
       "      <td>589</td>\n",
       "      <td>1308</td>\n",
       "      <td>1</td>\n",
       "    </tr>\n",
       "    <tr>\n",
       "      <th>1</th>\n",
       "      <td>2</td>\n",
       "      <td>1</td>\n",
       "      <td>17676</td>\n",
       "      <td>869</td>\n",
       "      <td>0.000000e+00</td>\n",
       "      <td>1</td>\n",
       "      <td>1650</td>\n",
       "      <td>1426</td>\n",
       "      <td>0</td>\n",
       "    </tr>\n",
       "    <tr>\n",
       "      <th>2</th>\n",
       "      <td>3</td>\n",
       "      <td>2</td>\n",
       "      <td>17676</td>\n",
       "      <td>546</td>\n",
       "      <td>0.000000e+00</td>\n",
       "      <td>1</td>\n",
       "      <td>1349</td>\n",
       "      <td>121</td>\n",
       "      <td>0</td>\n",
       "    </tr>\n",
       "    <tr>\n",
       "      <th>3</th>\n",
       "      <td>4</td>\n",
       "      <td>3</td>\n",
       "      <td>152963</td>\n",
       "      <td>43267</td>\n",
       "      <td>0.000000e+00</td>\n",
       "      <td>1</td>\n",
       "      <td>1623</td>\n",
       "      <td>1066</td>\n",
       "      <td>1</td>\n",
       "    </tr>\n",
       "    <tr>\n",
       "      <th>4</th>\n",
       "      <td>5</td>\n",
       "      <td>4</td>\n",
       "      <td>152963</td>\n",
       "      <td>37029</td>\n",
       "      <td>0.000000e+00</td>\n",
       "      <td>1</td>\n",
       "      <td>1483</td>\n",
       "      <td>561</td>\n",
       "      <td>0</td>\n",
       "    </tr>\n",
       "    <tr>\n",
       "      <th>...</th>\n",
       "      <td>...</td>\n",
       "      <td>...</td>\n",
       "      <td>...</td>\n",
       "      <td>...</td>\n",
       "      <td>...</td>\n",
       "      <td>...</td>\n",
       "      <td>...</td>\n",
       "      <td>...</td>\n",
       "      <td>...</td>\n",
       "    </tr>\n",
       "    <tr>\n",
       "      <th>3556</th>\n",
       "      <td>3557</td>\n",
       "      <td>3602</td>\n",
       "      <td>1403769</td>\n",
       "      <td>448220</td>\n",
       "      <td>2.710539e-19</td>\n",
       "      <td>0</td>\n",
       "      <td>175</td>\n",
       "      <td>1492</td>\n",
       "      <td>1</td>\n",
       "    </tr>\n",
       "    <tr>\n",
       "      <th>3557</th>\n",
       "      <td>3558</td>\n",
       "      <td>3603</td>\n",
       "      <td>1403769</td>\n",
       "      <td>463663</td>\n",
       "      <td>1.695048e-19</td>\n",
       "      <td>0</td>\n",
       "      <td>1263</td>\n",
       "      <td>1637</td>\n",
       "      <td>1</td>\n",
       "    </tr>\n",
       "    <tr>\n",
       "      <th>3558</th>\n",
       "      <td>3559</td>\n",
       "      <td>3604</td>\n",
       "      <td>1403769</td>\n",
       "      <td>23762</td>\n",
       "      <td>5.542643e-20</td>\n",
       "      <td>0</td>\n",
       "      <td>84</td>\n",
       "      <td>1308</td>\n",
       "      <td>0</td>\n",
       "    </tr>\n",
       "    <tr>\n",
       "      <th>3559</th>\n",
       "      <td>3560</td>\n",
       "      <td>3605</td>\n",
       "      <td>1403769</td>\n",
       "      <td>460188</td>\n",
       "      <td>2.828095e-20</td>\n",
       "      <td>0</td>\n",
       "      <td>1051</td>\n",
       "      <td>955</td>\n",
       "      <td>1</td>\n",
       "    </tr>\n",
       "    <tr>\n",
       "      <th>3560</th>\n",
       "      <td>3561</td>\n",
       "      <td>3606</td>\n",
       "      <td>1403769</td>\n",
       "      <td>130815</td>\n",
       "      <td>1.698481e-19</td>\n",
       "      <td>0</td>\n",
       "      <td>973</td>\n",
       "      <td>20</td>\n",
       "      <td>0</td>\n",
       "    </tr>\n",
       "  </tbody>\n",
       "</table>\n",
       "<p>3561 rows × 9 columns</p>\n",
       "</div>"
      ],
      "text/plain": [
       "        id  rec_id  user_id  item_id     als_score  target  category_id  \\\n",
       "0        1       0    17676    63543  0.000000e+00       1          589   \n",
       "1        2       1    17676      869  0.000000e+00       1         1650   \n",
       "2        3       2    17676      546  0.000000e+00       1         1349   \n",
       "3        4       3   152963    43267  0.000000e+00       1         1623   \n",
       "4        5       4   152963    37029  0.000000e+00       1         1483   \n",
       "...    ...     ...      ...      ...           ...     ...          ...   \n",
       "3556  3557    3602  1403769   448220  2.710539e-19       0          175   \n",
       "3557  3558    3603  1403769   463663  1.695048e-19       0         1263   \n",
       "3558  3559    3604  1403769    23762  5.542643e-20       0           84   \n",
       "3559  3560    3605  1403769   460188  2.828095e-20       0         1051   \n",
       "3560  3561    3606  1403769   130815  1.698481e-19       0          973   \n",
       "\n",
       "      parent_id  available  \n",
       "0          1308          1  \n",
       "1          1426          0  \n",
       "2           121          0  \n",
       "3          1066          1  \n",
       "4           561          0  \n",
       "...         ...        ...  \n",
       "3556       1492          1  \n",
       "3557       1637          1  \n",
       "3558       1308          0  \n",
       "3559        955          1  \n",
       "3560         20          0  \n",
       "\n",
       "[3561 rows x 9 columns]"
      ]
     },
     "execution_count": 175,
     "metadata": {},
     "output_type": "execute_result"
    }
   ],
   "source": [
    "candidates_train[\"id\"] = np.arange(1, candidates_train.shape[0] + 1)\n",
    "candidates_train"
   ]
  },
  {
   "cell_type": "code",
   "execution_count": 176,
   "metadata": {
    "pycharm": {
     "name": "#%%\n"
    }
   },
   "outputs": [
    {
     "data": {
      "text/plain": [
       "id             0\n",
       "rec_id         0\n",
       "user_id        0\n",
       "item_id        0\n",
       "als_score      0\n",
       "target         0\n",
       "category_id    0\n",
       "parent_id      0\n",
       "available      0\n",
       "dtype: int64"
      ]
     },
     "execution_count": 176,
     "metadata": {},
     "output_type": "execute_result"
    }
   ],
   "source": [
    "candidates_train.isna().sum()"
   ]
  },
  {
   "cell_type": "code",
   "execution_count": 178,
   "metadata": {
    "pycharm": {
     "name": "#%%\n"
    }
   },
   "outputs": [],
   "source": [
    "candidates_train.to_parquet(f\"{POSTGRES_DATA}/candidates_train.parquet\")"
   ]
  },
  {
   "cell_type": "markdown",
   "metadata": {
    "pycharm": {
     "name": "#%% md\n"
    }
   },
   "source": [
    "### 4.3 Создадим кандидатов для ражирования"
   ]
  },
  {
   "cell_type": "code",
   "execution_count": 180,
   "metadata": {
    "pycharm": {
     "name": "#%%\n"
    }
   },
   "outputs": [
    {
     "name": "stdout",
     "output_type": "stream",
     "text": [
      "<class 'pandas.core.frame.DataFrame'>\n",
      "Index: 17171 entries, 0 to 7615\n",
      "Data columns (total 9 columns):\n",
      " #   Column           Non-Null Count  Dtype         \n",
      "---  ------           --------------  -----         \n",
      " 0   timestamp        17171 non-null  int64         \n",
      " 1   user_id          17171 non-null  int64         \n",
      " 2   item_id          17171 non-null  int64         \n",
      " 3   event            17171 non-null  object        \n",
      " 4   date_event       17171 non-null  datetime64[ns]\n",
      " 5   user_id_encoded  17171 non-null  int64         \n",
      " 6   item_id_encoded  17171 non-null  int64         \n",
      " 7   rating           17171 non-null  float64       \n",
      " 8   target           1653 non-null   float64       \n",
      "dtypes: datetime64[ns](1), float64(2), int64(5), object(1)\n",
      "memory usage: 1.3+ MB\n"
     ]
    }
   ],
   "source": [
    "inference_data = pd.concat([events_train, events_test_1_wo_dubl])\n",
    "inference_data.info()"
   ]
  },
  {
   "cell_type": "code",
   "execution_count": 181,
   "metadata": {
    "pycharm": {
     "name": "#%%\n"
    }
   },
   "outputs": [],
   "source": [
    "# снова обучим ALS"
   ]
  },
  {
   "cell_type": "code",
   "execution_count": 182,
   "metadata": {
    "pycharm": {
     "name": "#%%\n"
    }
   },
   "outputs": [
    {
     "data": {
      "text/plain": [
       "<355x714 sparse matrix of type '<class 'numpy.int8'>'\n",
       "\twith 7595 stored elements in Compressed Sparse Row format>"
      ]
     },
     "execution_count": 182,
     "metadata": {},
     "output_type": "execute_result"
    }
   ],
   "source": [
    "user_item_matrix_inference = scipy.sparse.csr_matrix(\n",
    "    (\n",
    "    inference_data[\"rating\"],\n",
    "    (inference_data[\"user_id_encoded\"], inference_data[\"item_id_encoded\"])\n",
    "    ),\n",
    "    dtype=np.int8\n",
    ")\n",
    "user_item_matrix_inference"
   ]
  },
  {
   "cell_type": "code",
   "execution_count": 183,
   "metadata": {
    "pycharm": {
     "name": "#%%\n"
    }
   },
   "outputs": [
    {
     "data": {
      "application/vnd.jupyter.widget-view+json": {
       "model_id": "86a84b12920f4f05913cd7b49216f276",
       "version_major": 2,
       "version_minor": 0
      },
      "text/plain": [
       "  0%|          | 0/1000 [00:00<?, ?it/s]"
      ]
     },
     "metadata": {},
     "output_type": "display_data"
    }
   ],
   "source": [
    "als_model_inference = AlternatingLeastSquares(**als_params)\n",
    "als_model_inference.fit(user_item_matrix_inference)"
   ]
  },
  {
   "cell_type": "code",
   "execution_count": 184,
   "metadata": {
    "pycharm": {
     "name": "#%%\n"
    }
   },
   "outputs": [],
   "source": [
    "user_ids_encoded = range(len(user_encoder.classes_))\n",
    "\n",
    "als_recommendations_inference = als_model_inference.recommend(\n",
    "    user_ids_encoded, \n",
    "    user_item_matrix_inference[user_ids_encoded], \n",
    "    filter_already_liked_items=False, \n",
    "    N=100,\n",
    ")"
   ]
  },
  {
   "cell_type": "code",
   "execution_count": 185,
   "metadata": {
    "pycharm": {
     "name": "#%%\n"
    }
   },
   "outputs": [
    {
     "data": {
      "text/html": [
       "<div>\n",
       "<style scoped>\n",
       "    .dataframe tbody tr th:only-of-type {\n",
       "        vertical-align: middle;\n",
       "    }\n",
       "\n",
       "    .dataframe tbody tr th {\n",
       "        vertical-align: top;\n",
       "    }\n",
       "\n",
       "    .dataframe thead th {\n",
       "        text-align: right;\n",
       "    }\n",
       "</style>\n",
       "<table border=\"1\" class=\"dataframe\">\n",
       "  <thead>\n",
       "    <tr style=\"text-align: right;\">\n",
       "      <th></th>\n",
       "      <th>user_id</th>\n",
       "      <th>item_id</th>\n",
       "      <th>score</th>\n",
       "    </tr>\n",
       "  </thead>\n",
       "  <tbody>\n",
       "    <tr>\n",
       "      <th>0</th>\n",
       "      <td>1879</td>\n",
       "      <td>119736</td>\n",
       "      <td>9.872077e-13</td>\n",
       "    </tr>\n",
       "    <tr>\n",
       "      <th>1</th>\n",
       "      <td>1879</td>\n",
       "      <td>350399</td>\n",
       "      <td>1.993567e-20</td>\n",
       "    </tr>\n",
       "    <tr>\n",
       "      <th>2</th>\n",
       "      <td>1879</td>\n",
       "      <td>829</td>\n",
       "      <td>1.990749e-20</td>\n",
       "    </tr>\n",
       "    <tr>\n",
       "      <th>3</th>\n",
       "      <td>1879</td>\n",
       "      <td>323194</td>\n",
       "      <td>1.715107e-20</td>\n",
       "    </tr>\n",
       "    <tr>\n",
       "      <th>4</th>\n",
       "      <td>1879</td>\n",
       "      <td>289633</td>\n",
       "      <td>1.712453e-20</td>\n",
       "    </tr>\n",
       "    <tr>\n",
       "      <th>5</th>\n",
       "      <td>1879</td>\n",
       "      <td>425726</td>\n",
       "      <td>1.650482e-20</td>\n",
       "    </tr>\n",
       "    <tr>\n",
       "      <th>6</th>\n",
       "      <td>1879</td>\n",
       "      <td>444593</td>\n",
       "      <td>1.539325e-20</td>\n",
       "    </tr>\n",
       "    <tr>\n",
       "      <th>7</th>\n",
       "      <td>1879</td>\n",
       "      <td>234493</td>\n",
       "      <td>1.524505e-20</td>\n",
       "    </tr>\n",
       "    <tr>\n",
       "      <th>8</th>\n",
       "      <td>1879</td>\n",
       "      <td>453235</td>\n",
       "      <td>1.457608e-20</td>\n",
       "    </tr>\n",
       "    <tr>\n",
       "      <th>9</th>\n",
       "      <td>1879</td>\n",
       "      <td>436004</td>\n",
       "      <td>1.446925e-20</td>\n",
       "    </tr>\n",
       "  </tbody>\n",
       "</table>\n",
       "</div>"
      ],
      "text/plain": [
       "   user_id  item_id         score\n",
       "0     1879   119736  9.872077e-13\n",
       "1     1879   350399  1.993567e-20\n",
       "2     1879      829  1.990749e-20\n",
       "3     1879   323194  1.715107e-20\n",
       "4     1879   289633  1.712453e-20\n",
       "5     1879   425726  1.650482e-20\n",
       "6     1879   444593  1.539325e-20\n",
       "7     1879   234493  1.524505e-20\n",
       "8     1879   453235  1.457608e-20\n",
       "9     1879   436004  1.446925e-20"
      ]
     },
     "execution_count": 185,
     "metadata": {},
     "output_type": "execute_result"
    }
   ],
   "source": [
    "item_ids_encoded = als_recommendations_inference[0]\n",
    "als_scores = als_recommendations_inference[1]\n",
    "\n",
    "als_recommendations_inference = pd.DataFrame({\n",
    "    \"user_id_encoded\": user_ids_encoded,\n",
    "    \"item_id_encoded\": item_ids_encoded.tolist(), \n",
    "    \"score\": als_scores.tolist(),\n",
    "})\n",
    "als_recommendations_inference = als_recommendations_inference.explode(\n",
    "    [\"item_id_encoded\", \"score\"], ignore_index=True\n",
    ")\n",
    "\n",
    "als_recommendations_inference[\"item_id_encoded\"] = als_recommendations_inference[\"item_id_encoded\"].astype(\"int\")\n",
    "als_recommendations_inference[\"score\"] = als_recommendations_inference[\"score\"].astype(\"float\")\n",
    "\n",
    "als_recommendations_inference[\"user_id\"] = user_encoder.inverse_transform(\n",
    "    als_recommendations_inference[\"user_id_encoded\"]\n",
    ")\n",
    "als_recommendations_inference[\"item_id\"] = item_encoder.inverse_transform(\n",
    "    als_recommendations_inference[\"item_id_encoded\"]\n",
    ")\n",
    "als_recommendations_inference = als_recommendations_inference.drop(\n",
    "    columns=[\"user_id_encoded\", \"item_id_encoded\"]\n",
    ")\n",
    "\n",
    "als_recommendations_inference = als_recommendations_inference[[\"user_id\", \"item_id\", \"score\"]]\n",
    "als_recommendations_inference = als_recommendations_inference.query(\"score != 0\")\n",
    "als_recommendations_inference.head(10)"
   ]
  },
  {
   "cell_type": "code",
   "execution_count": 187,
   "metadata": {
    "pycharm": {
     "name": "#%%\n"
    }
   },
   "outputs": [],
   "source": [
    "als_recommendations_inference.to_parquet(f\"{ASSETS}/personal_als_inference.parquet\")"
   ]
  },
  {
   "cell_type": "code",
   "execution_count": 188,
   "metadata": {
    "pycharm": {
     "name": "#%%\n"
    }
   },
   "outputs": [],
   "source": [
    "# выберем только кандидатов из events_test_2"
   ]
  },
  {
   "cell_type": "code",
   "execution_count": 189,
   "metadata": {
    "pycharm": {
     "name": "#%%\n"
    }
   },
   "outputs": [
    {
     "data": {
      "text/html": [
       "<div>\n",
       "<style scoped>\n",
       "    .dataframe tbody tr th:only-of-type {\n",
       "        vertical-align: middle;\n",
       "    }\n",
       "\n",
       "    .dataframe tbody tr th {\n",
       "        vertical-align: top;\n",
       "    }\n",
       "\n",
       "    .dataframe thead th {\n",
       "        text-align: right;\n",
       "    }\n",
       "</style>\n",
       "<table border=\"1\" class=\"dataframe\">\n",
       "  <thead>\n",
       "    <tr style=\"text-align: right;\">\n",
       "      <th></th>\n",
       "      <th>user_id</th>\n",
       "      <th>item_id</th>\n",
       "      <th>score</th>\n",
       "    </tr>\n",
       "  </thead>\n",
       "  <tbody>\n",
       "    <tr>\n",
       "      <th>100</th>\n",
       "      <td>2194</td>\n",
       "      <td>456792</td>\n",
       "      <td>1.039188e-20</td>\n",
       "    </tr>\n",
       "    <tr>\n",
       "      <th>101</th>\n",
       "      <td>2194</td>\n",
       "      <td>829</td>\n",
       "      <td>9.458311e-21</td>\n",
       "    </tr>\n",
       "    <tr>\n",
       "      <th>102</th>\n",
       "      <td>2194</td>\n",
       "      <td>139770</td>\n",
       "      <td>9.181698e-21</td>\n",
       "    </tr>\n",
       "    <tr>\n",
       "      <th>103</th>\n",
       "      <td>2194</td>\n",
       "      <td>101094</td>\n",
       "      <td>8.551724e-21</td>\n",
       "    </tr>\n",
       "    <tr>\n",
       "      <th>104</th>\n",
       "      <td>2194</td>\n",
       "      <td>392074</td>\n",
       "      <td>8.386984e-21</td>\n",
       "    </tr>\n",
       "  </tbody>\n",
       "</table>\n",
       "</div>"
      ],
      "text/plain": [
       "     user_id  item_id         score\n",
       "100     2194   456792  1.039188e-20\n",
       "101     2194      829  9.458311e-21\n",
       "102     2194   139770  9.181698e-21\n",
       "103     2194   101094  8.551724e-21\n",
       "104     2194   392074  8.386984e-21"
      ]
     },
     "execution_count": 189,
     "metadata": {},
     "output_type": "execute_result"
    }
   ],
   "source": [
    "candidates_to_rank = als_recommendations_inference[\n",
    "    als_recommendations_inference.user_id.isin(events_test_2.user_id.drop_duplicates())\n",
    "]\n",
    "candidates_to_rank.head()"
   ]
  },
  {
   "cell_type": "code",
   "execution_count": 190,
   "metadata": {
    "pycharm": {
     "name": "#%%\n"
    }
   },
   "outputs": [
    {
     "data": {
      "text/html": [
       "<div>\n",
       "<style scoped>\n",
       "    .dataframe tbody tr th:only-of-type {\n",
       "        vertical-align: middle;\n",
       "    }\n",
       "\n",
       "    .dataframe tbody tr th {\n",
       "        vertical-align: top;\n",
       "    }\n",
       "\n",
       "    .dataframe thead th {\n",
       "        text-align: right;\n",
       "    }\n",
       "</style>\n",
       "<table border=\"1\" class=\"dataframe\">\n",
       "  <thead>\n",
       "    <tr style=\"text-align: right;\">\n",
       "      <th></th>\n",
       "      <th>id</th>\n",
       "      <th>rec_id</th>\n",
       "      <th>user_id</th>\n",
       "      <th>item_id</th>\n",
       "      <th>als_score</th>\n",
       "    </tr>\n",
       "  </thead>\n",
       "  <tbody>\n",
       "    <tr>\n",
       "      <th>0</th>\n",
       "      <td>1</td>\n",
       "      <td>100</td>\n",
       "      <td>2194</td>\n",
       "      <td>456792</td>\n",
       "      <td>1.039188e-20</td>\n",
       "    </tr>\n",
       "    <tr>\n",
       "      <th>1</th>\n",
       "      <td>2</td>\n",
       "      <td>101</td>\n",
       "      <td>2194</td>\n",
       "      <td>829</td>\n",
       "      <td>9.458311e-21</td>\n",
       "    </tr>\n",
       "    <tr>\n",
       "      <th>2</th>\n",
       "      <td>3</td>\n",
       "      <td>102</td>\n",
       "      <td>2194</td>\n",
       "      <td>139770</td>\n",
       "      <td>9.181698e-21</td>\n",
       "    </tr>\n",
       "    <tr>\n",
       "      <th>3</th>\n",
       "      <td>4</td>\n",
       "      <td>103</td>\n",
       "      <td>2194</td>\n",
       "      <td>101094</td>\n",
       "      <td>8.551724e-21</td>\n",
       "    </tr>\n",
       "    <tr>\n",
       "      <th>4</th>\n",
       "      <td>5</td>\n",
       "      <td>104</td>\n",
       "      <td>2194</td>\n",
       "      <td>392074</td>\n",
       "      <td>8.386984e-21</td>\n",
       "    </tr>\n",
       "    <tr>\n",
       "      <th>...</th>\n",
       "      <td>...</td>\n",
       "      <td>...</td>\n",
       "      <td>...</td>\n",
       "      <td>...</td>\n",
       "      <td>...</td>\n",
       "    </tr>\n",
       "    <tr>\n",
       "      <th>6795</th>\n",
       "      <td>6796</td>\n",
       "      <td>35495</td>\n",
       "      <td>1403769</td>\n",
       "      <td>298056</td>\n",
       "      <td>1.990580e-20</td>\n",
       "    </tr>\n",
       "    <tr>\n",
       "      <th>6796</th>\n",
       "      <td>6797</td>\n",
       "      <td>35496</td>\n",
       "      <td>1403769</td>\n",
       "      <td>456005</td>\n",
       "      <td>1.987911e-20</td>\n",
       "    </tr>\n",
       "    <tr>\n",
       "      <th>6797</th>\n",
       "      <td>6798</td>\n",
       "      <td>35497</td>\n",
       "      <td>1403769</td>\n",
       "      <td>368060</td>\n",
       "      <td>1.979903e-20</td>\n",
       "    </tr>\n",
       "    <tr>\n",
       "      <th>6798</th>\n",
       "      <td>6799</td>\n",
       "      <td>35498</td>\n",
       "      <td>1403769</td>\n",
       "      <td>48030</td>\n",
       "      <td>1.961440e-20</td>\n",
       "    </tr>\n",
       "    <tr>\n",
       "      <th>6799</th>\n",
       "      <td>6800</td>\n",
       "      <td>35499</td>\n",
       "      <td>1403769</td>\n",
       "      <td>371155</td>\n",
       "      <td>1.915342e-20</td>\n",
       "    </tr>\n",
       "  </tbody>\n",
       "</table>\n",
       "<p>6800 rows × 5 columns</p>\n",
       "</div>"
      ],
      "text/plain": [
       "        id  rec_id  user_id  item_id     als_score\n",
       "0        1     100     2194   456792  1.039188e-20\n",
       "1        2     101     2194      829  9.458311e-21\n",
       "2        3     102     2194   139770  9.181698e-21\n",
       "3        4     103     2194   101094  8.551724e-21\n",
       "4        5     104     2194   392074  8.386984e-21\n",
       "...    ...     ...      ...      ...           ...\n",
       "6795  6796   35495  1403769   298056  1.990580e-20\n",
       "6796  6797   35496  1403769   456005  1.987911e-20\n",
       "6797  6798   35497  1403769   368060  1.979903e-20\n",
       "6798  6799   35498  1403769    48030  1.961440e-20\n",
       "6799  6800   35499  1403769   371155  1.915342e-20\n",
       "\n",
       "[6800 rows x 5 columns]"
      ]
     },
     "execution_count": 190,
     "metadata": {},
     "output_type": "execute_result"
    }
   ],
   "source": [
    "candidates_inference = candidates_to_rank.reset_index()\n",
    "candidates_inference = candidates_inference.rename(columns={\n",
    "    \"index\": \"rec_id\",\n",
    "    \"score\": \"als_score\",\n",
    "})\n",
    "candidates_inference[\"id\"] = candidates_inference.reset_index()[\"index\"] + 1\n",
    "candidates_inference = candidates_inference[[\"id\", \"rec_id\", \"user_id\", \"item_id\", \"als_score\"]]\n",
    "candidates_inference"
   ]
  },
  {
   "cell_type": "markdown",
   "metadata": {
    "pycharm": {
     "name": "#%% md\n"
    }
   },
   "source": [
    "### 4.4 Добавим фичи к кандидатам для ранжирования"
   ]
  },
  {
   "cell_type": "code",
   "execution_count": 192,
   "metadata": {
    "pycharm": {
     "name": "#%%\n"
    }
   },
   "outputs": [
    {
     "data": {
      "text/html": [
       "<div>\n",
       "<style scoped>\n",
       "    .dataframe tbody tr th:only-of-type {\n",
       "        vertical-align: middle;\n",
       "    }\n",
       "\n",
       "    .dataframe tbody tr th {\n",
       "        vertical-align: top;\n",
       "    }\n",
       "\n",
       "    .dataframe thead th {\n",
       "        text-align: right;\n",
       "    }\n",
       "</style>\n",
       "<table border=\"1\" class=\"dataframe\">\n",
       "  <thead>\n",
       "    <tr style=\"text-align: right;\">\n",
       "      <th></th>\n",
       "      <th>id</th>\n",
       "      <th>rec_id</th>\n",
       "      <th>user_id</th>\n",
       "      <th>item_id</th>\n",
       "      <th>als_score</th>\n",
       "      <th>category_id</th>\n",
       "      <th>parent_id</th>\n",
       "    </tr>\n",
       "  </thead>\n",
       "  <tbody>\n",
       "    <tr>\n",
       "      <th>0</th>\n",
       "      <td>1</td>\n",
       "      <td>100</td>\n",
       "      <td>2194</td>\n",
       "      <td>456792</td>\n",
       "      <td>1.039188e-20</td>\n",
       "      <td>819.0</td>\n",
       "      <td>798.0</td>\n",
       "    </tr>\n",
       "    <tr>\n",
       "      <th>1</th>\n",
       "      <td>2</td>\n",
       "      <td>101</td>\n",
       "      <td>2194</td>\n",
       "      <td>829</td>\n",
       "      <td>9.458311e-21</td>\n",
       "      <td>707.0</td>\n",
       "      <td>561.0</td>\n",
       "    </tr>\n",
       "    <tr>\n",
       "      <th>2</th>\n",
       "      <td>3</td>\n",
       "      <td>102</td>\n",
       "      <td>2194</td>\n",
       "      <td>139770</td>\n",
       "      <td>9.181698e-21</td>\n",
       "      <td>1325.0</td>\n",
       "      <td>1684.0</td>\n",
       "    </tr>\n",
       "    <tr>\n",
       "      <th>3</th>\n",
       "      <td>4</td>\n",
       "      <td>103</td>\n",
       "      <td>2194</td>\n",
       "      <td>101094</td>\n",
       "      <td>8.551724e-21</td>\n",
       "      <td>1341.0</td>\n",
       "      <td>480.0</td>\n",
       "    </tr>\n",
       "    <tr>\n",
       "      <th>4</th>\n",
       "      <td>5</td>\n",
       "      <td>104</td>\n",
       "      <td>2194</td>\n",
       "      <td>392074</td>\n",
       "      <td>8.386984e-21</td>\n",
       "      <td>959.0</td>\n",
       "      <td>1095.0</td>\n",
       "    </tr>\n",
       "    <tr>\n",
       "      <th>...</th>\n",
       "      <td>...</td>\n",
       "      <td>...</td>\n",
       "      <td>...</td>\n",
       "      <td>...</td>\n",
       "      <td>...</td>\n",
       "      <td>...</td>\n",
       "      <td>...</td>\n",
       "    </tr>\n",
       "    <tr>\n",
       "      <th>6795</th>\n",
       "      <td>6796</td>\n",
       "      <td>35495</td>\n",
       "      <td>1403769</td>\n",
       "      <td>298056</td>\n",
       "      <td>1.990580e-20</td>\n",
       "      <td>1051.0</td>\n",
       "      <td>955.0</td>\n",
       "    </tr>\n",
       "    <tr>\n",
       "      <th>6796</th>\n",
       "      <td>6797</td>\n",
       "      <td>35496</td>\n",
       "      <td>1403769</td>\n",
       "      <td>456005</td>\n",
       "      <td>1.987911e-20</td>\n",
       "      <td>1051.0</td>\n",
       "      <td>955.0</td>\n",
       "    </tr>\n",
       "    <tr>\n",
       "      <th>6797</th>\n",
       "      <td>6798</td>\n",
       "      <td>35497</td>\n",
       "      <td>1403769</td>\n",
       "      <td>368060</td>\n",
       "      <td>1.979903e-20</td>\n",
       "      <td>491.0</td>\n",
       "      <td>679.0</td>\n",
       "    </tr>\n",
       "    <tr>\n",
       "      <th>6798</th>\n",
       "      <td>6799</td>\n",
       "      <td>35498</td>\n",
       "      <td>1403769</td>\n",
       "      <td>48030</td>\n",
       "      <td>1.961440e-20</td>\n",
       "      <td>1219.0</td>\n",
       "      <td>121.0</td>\n",
       "    </tr>\n",
       "    <tr>\n",
       "      <th>6799</th>\n",
       "      <td>6800</td>\n",
       "      <td>35499</td>\n",
       "      <td>1403769</td>\n",
       "      <td>371155</td>\n",
       "      <td>1.915342e-20</td>\n",
       "      <td>65.0</td>\n",
       "      <td>293.0</td>\n",
       "    </tr>\n",
       "  </tbody>\n",
       "</table>\n",
       "<p>6728 rows × 7 columns</p>\n",
       "</div>"
      ],
      "text/plain": [
       "        id  rec_id  user_id  item_id     als_score  category_id  parent_id\n",
       "0        1     100     2194   456792  1.039188e-20        819.0      798.0\n",
       "1        2     101     2194      829  9.458311e-21        707.0      561.0\n",
       "2        3     102     2194   139770  9.181698e-21       1325.0     1684.0\n",
       "3        4     103     2194   101094  8.551724e-21       1341.0      480.0\n",
       "4        5     104     2194   392074  8.386984e-21        959.0     1095.0\n",
       "...    ...     ...      ...      ...           ...          ...        ...\n",
       "6795  6796   35495  1403769   298056  1.990580e-20       1051.0      955.0\n",
       "6796  6797   35496  1403769   456005  1.987911e-20       1051.0      955.0\n",
       "6797  6798   35497  1403769   368060  1.979903e-20        491.0      679.0\n",
       "6798  6799   35498  1403769    48030  1.961440e-20       1219.0      121.0\n",
       "6799  6800   35499  1403769   371155  1.915342e-20         65.0      293.0\n",
       "\n",
       "[6728 rows x 7 columns]"
      ]
     },
     "execution_count": 192,
     "metadata": {},
     "output_type": "execute_result"
    }
   ],
   "source": [
    "candidates_inference = candidates_inference.merge(\n",
    "    category_props[[\"item_id\", \"category_id\", \"parent_id\"]],\n",
    "    on=\"item_id\",\n",
    "    how=\"left\",\n",
    "    validate=\"many_to_one\"\n",
    ")\n",
    "\n",
    "candidates_inference = candidates_inference.dropna()\n",
    "candidates_inference"
   ]
  },
  {
   "cell_type": "code",
   "execution_count": 193,
   "metadata": {
    "pycharm": {
     "name": "#%%\n"
    }
   },
   "outputs": [],
   "source": [
    "candidates_inference[\"category_id\"] = candidates_inference[\"category_id\"].astype(\"int64\")\n",
    "candidates_inference[\"parent_id\"] = candidates_inference[\"parent_id\"].astype(\"int64\")\n",
    "candidates_inference = candidates_inference.merge(\n",
    "    availability_props[[\"item_id\", \"available\"]],\n",
    "    on=\"item_id\",\n",
    "    how=\"left\",\n",
    ")"
   ]
  },
  {
   "cell_type": "code",
   "execution_count": 194,
   "metadata": {
    "pycharm": {
     "name": "#%%\n"
    }
   },
   "outputs": [
    {
     "data": {
      "text/html": [
       "<div>\n",
       "<style scoped>\n",
       "    .dataframe tbody tr th:only-of-type {\n",
       "        vertical-align: middle;\n",
       "    }\n",
       "\n",
       "    .dataframe tbody tr th {\n",
       "        vertical-align: top;\n",
       "    }\n",
       "\n",
       "    .dataframe thead th {\n",
       "        text-align: right;\n",
       "    }\n",
       "</style>\n",
       "<table border=\"1\" class=\"dataframe\">\n",
       "  <thead>\n",
       "    <tr style=\"text-align: right;\">\n",
       "      <th></th>\n",
       "      <th>id</th>\n",
       "      <th>rec_id</th>\n",
       "      <th>user_id</th>\n",
       "      <th>item_id</th>\n",
       "      <th>als_score</th>\n",
       "      <th>category_id</th>\n",
       "      <th>parent_id</th>\n",
       "      <th>available</th>\n",
       "    </tr>\n",
       "  </thead>\n",
       "  <tbody>\n",
       "    <tr>\n",
       "      <th>0</th>\n",
       "      <td>1</td>\n",
       "      <td>100</td>\n",
       "      <td>2194</td>\n",
       "      <td>456792</td>\n",
       "      <td>1.039188e-20</td>\n",
       "      <td>819</td>\n",
       "      <td>798</td>\n",
       "      <td>0</td>\n",
       "    </tr>\n",
       "    <tr>\n",
       "      <th>1</th>\n",
       "      <td>2</td>\n",
       "      <td>101</td>\n",
       "      <td>2194</td>\n",
       "      <td>829</td>\n",
       "      <td>9.458311e-21</td>\n",
       "      <td>707</td>\n",
       "      <td>561</td>\n",
       "      <td>0</td>\n",
       "    </tr>\n",
       "    <tr>\n",
       "      <th>2</th>\n",
       "      <td>3</td>\n",
       "      <td>102</td>\n",
       "      <td>2194</td>\n",
       "      <td>139770</td>\n",
       "      <td>9.181698e-21</td>\n",
       "      <td>1325</td>\n",
       "      <td>1684</td>\n",
       "      <td>1</td>\n",
       "    </tr>\n",
       "    <tr>\n",
       "      <th>3</th>\n",
       "      <td>4</td>\n",
       "      <td>103</td>\n",
       "      <td>2194</td>\n",
       "      <td>101094</td>\n",
       "      <td>8.551724e-21</td>\n",
       "      <td>1341</td>\n",
       "      <td>480</td>\n",
       "      <td>0</td>\n",
       "    </tr>\n",
       "    <tr>\n",
       "      <th>4</th>\n",
       "      <td>5</td>\n",
       "      <td>104</td>\n",
       "      <td>2194</td>\n",
       "      <td>392074</td>\n",
       "      <td>8.386984e-21</td>\n",
       "      <td>959</td>\n",
       "      <td>1095</td>\n",
       "      <td>0</td>\n",
       "    </tr>\n",
       "    <tr>\n",
       "      <th>...</th>\n",
       "      <td>...</td>\n",
       "      <td>...</td>\n",
       "      <td>...</td>\n",
       "      <td>...</td>\n",
       "      <td>...</td>\n",
       "      <td>...</td>\n",
       "      <td>...</td>\n",
       "      <td>...</td>\n",
       "    </tr>\n",
       "    <tr>\n",
       "      <th>6723</th>\n",
       "      <td>6724</td>\n",
       "      <td>35495</td>\n",
       "      <td>1403769</td>\n",
       "      <td>298056</td>\n",
       "      <td>1.990580e-20</td>\n",
       "      <td>1051</td>\n",
       "      <td>955</td>\n",
       "      <td>1</td>\n",
       "    </tr>\n",
       "    <tr>\n",
       "      <th>6724</th>\n",
       "      <td>6725</td>\n",
       "      <td>35496</td>\n",
       "      <td>1403769</td>\n",
       "      <td>456005</td>\n",
       "      <td>1.987911e-20</td>\n",
       "      <td>1051</td>\n",
       "      <td>955</td>\n",
       "      <td>1</td>\n",
       "    </tr>\n",
       "    <tr>\n",
       "      <th>6725</th>\n",
       "      <td>6726</td>\n",
       "      <td>35497</td>\n",
       "      <td>1403769</td>\n",
       "      <td>368060</td>\n",
       "      <td>1.979903e-20</td>\n",
       "      <td>491</td>\n",
       "      <td>679</td>\n",
       "      <td>1</td>\n",
       "    </tr>\n",
       "    <tr>\n",
       "      <th>6726</th>\n",
       "      <td>6727</td>\n",
       "      <td>35498</td>\n",
       "      <td>1403769</td>\n",
       "      <td>48030</td>\n",
       "      <td>1.961440e-20</td>\n",
       "      <td>1219</td>\n",
       "      <td>121</td>\n",
       "      <td>0</td>\n",
       "    </tr>\n",
       "    <tr>\n",
       "      <th>6727</th>\n",
       "      <td>6728</td>\n",
       "      <td>35499</td>\n",
       "      <td>1403769</td>\n",
       "      <td>371155</td>\n",
       "      <td>1.915342e-20</td>\n",
       "      <td>65</td>\n",
       "      <td>293</td>\n",
       "      <td>1</td>\n",
       "    </tr>\n",
       "  </tbody>\n",
       "</table>\n",
       "<p>6728 rows × 8 columns</p>\n",
       "</div>"
      ],
      "text/plain": [
       "        id  rec_id  user_id  item_id     als_score  category_id  parent_id  \\\n",
       "0        1     100     2194   456792  1.039188e-20          819        798   \n",
       "1        2     101     2194      829  9.458311e-21          707        561   \n",
       "2        3     102     2194   139770  9.181698e-21         1325       1684   \n",
       "3        4     103     2194   101094  8.551724e-21         1341        480   \n",
       "4        5     104     2194   392074  8.386984e-21          959       1095   \n",
       "...    ...     ...      ...      ...           ...          ...        ...   \n",
       "6723  6724   35495  1403769   298056  1.990580e-20         1051        955   \n",
       "6724  6725   35496  1403769   456005  1.987911e-20         1051        955   \n",
       "6725  6726   35497  1403769   368060  1.979903e-20          491        679   \n",
       "6726  6727   35498  1403769    48030  1.961440e-20         1219        121   \n",
       "6727  6728   35499  1403769   371155  1.915342e-20           65        293   \n",
       "\n",
       "      available  \n",
       "0             0  \n",
       "1             0  \n",
       "2             1  \n",
       "3             0  \n",
       "4             0  \n",
       "...         ...  \n",
       "6723          1  \n",
       "6724          1  \n",
       "6725          1  \n",
       "6726          0  \n",
       "6727          1  \n",
       "\n",
       "[6728 rows x 8 columns]"
      ]
     },
     "execution_count": 194,
     "metadata": {},
     "output_type": "execute_result"
    }
   ],
   "source": [
    "candidates_inference[\"id\"] = np.arange(1, candidates_inference.shape[0] + 1)\n",
    "candidates_inference"
   ]
  },
  {
   "cell_type": "code",
   "execution_count": 195,
   "metadata": {
    "pycharm": {
     "name": "#%%\n"
    }
   },
   "outputs": [],
   "source": [
    "candidates_inference.to_parquet(f\"{POSTGRES_DATA}/candidates_inference.parquet\")"
   ]
  },
  {
   "cell_type": "markdown",
   "metadata": {
    "pycharm": {
     "name": "#%% md\n"
    }
   },
   "source": [
    "### 4.4 Логгируем артефакты в MLFLOW"
   ]
  },
  {
   "cell_type": "code",
   "execution_count": 196,
   "metadata": {
    "pycharm": {
     "name": "#%%\n"
    }
   },
   "outputs": [],
   "source": [
    "als_model_mlflow_inference = ALSModel(\n",
    "    model=als_model_inference,\n",
    "    user_ids_encoded=user_ids_encoded,\n",
    "    filter_already_liked_items=False,\n",
    "    N=5,\n",
    ")"
   ]
  },
  {
   "cell_type": "code",
   "execution_count": 198,
   "metadata": {
    "pycharm": {
     "name": "#%%\n"
    }
   },
   "outputs": [
    {
     "name": "stderr",
     "output_type": "stream",
     "text": [
      "\u001B[31m2025/07/19 20:54:53 WARNING mlflow.models.model: Model logged without a signature and input example. Please set `input_example` parameter when logging the model to auto infer the model signature.\u001B[0m\n",
      "Registered model 'als_model_inference' already exists. Creating a new version of this model...\n",
      "2025/07/19 20:54:59 INFO mlflow.store.model_registry.abstract_store: Waiting up to 300 seconds for model version to finish creation. Model name: als_model_inference, version 2\n",
      "Created version '2' of model 'als_model_inference'.\n"
     ]
    },
    {
     "name": "stdout",
     "output_type": "stream",
     "text": [
      "🏃 View run candidates_generation at: http://127.0.0.1:5000/#/experiments/1/runs/812712ee3bc04f1e8d41db216b530c09\n",
      "🧪 View experiment at: http://127.0.0.1:5000/#/experiments/1\n"
     ]
    }
   ],
   "source": [
    "RUN_NAME = \"candidates_generation\"\n",
    "REGISTERED_MODEL_NAME = \"als_model_inference\"\n",
    "with mlflow.start_run(run_name=RUN_NAME, experiment_id=experiment_id) as run:\n",
    "    \n",
    "    run_id = run.info.run_id\n",
    "    \n",
    "    mlflow.log_artifact(f\"{ASSETS}/personal_als_inference.parquet\", \"recommendations\")\n",
    "\n",
    "    mlflow.log_artifact(f\"{POSTGRES_DATA}/candidates_train.parquet\", \"candidates\")\n",
    "    mlflow.log_artifact(f\"{POSTGRES_DATA}/candidates_inference.parquet\", \"candidates\")\n",
    "    \n",
    "    # Logging ALS model and its params\n",
    "    mlflow.log_params(als_params)\n",
    "    model_info = mlflow.pyfunc.log_model(\n",
    "        registered_model_name=REGISTERED_MODEL_NAME,\n",
    "        python_model=als_model_mlflow_inference,\n",
    "        pip_requirements = '../requirements.txt', \n",
    "        name='models',\n",
    "    )"
   ]
  },
  {
   "cell_type": "code",
   "execution_count": 199,
   "metadata": {
    "pycharm": {
     "name": "#%%\n"
    }
   },
   "outputs": [],
   "source": [
    "# проверка"
   ]
  },
  {
   "cell_type": "code",
   "execution_count": 200,
   "metadata": {
    "pycharm": {
     "name": "#%%\n"
    }
   },
   "outputs": [
    {
     "data": {
      "application/vnd.jupyter.widget-view+json": {
       "model_id": "38342e321c964dd78fe13d5e45991d0b",
       "version_major": 2,
       "version_minor": 0
      },
      "text/plain": [
       "Downloading artifacts:   0%|          | 0/5 [00:00<?, ?it/s]"
      ]
     },
     "metadata": {},
     "output_type": "display_data"
    }
   ],
   "source": [
    "als_model_loaded = mlflow.pyfunc.load_model(\n",
    "    model_uri=model_info.model_uri,\n",
    ")"
   ]
  },
  {
   "cell_type": "code",
   "execution_count": 201,
   "metadata": {
    "pycharm": {
     "name": "#%%\n"
    }
   },
   "outputs": [
    {
     "data": {
      "text/plain": [
       "(array([[179, 513,   1, 471, 419],\n",
       "        [690,   1, 209, 150, 593],\n",
       "        [179, 298, 235, 641, 514],\n",
       "        ...,\n",
       "        [561, 690, 598, 607, 209],\n",
       "        [179, 209,  99, 561, 619],\n",
       "        [161, 357, 494,  53, 514]], dtype=int32),\n",
       " array([[9.87207711e-13, 1.99356667e-20, 1.99074892e-20, 1.71510714e-20,\n",
       "         1.71245273e-20],\n",
       "        [1.03918773e-20, 9.45831109e-21, 9.18169834e-21, 8.55172437e-21,\n",
       "         8.38698376e-21],\n",
       "        [7.74076170e-14, 1.29980181e-20, 9.79815065e-21, 9.70913422e-21,\n",
       "         9.38398277e-21],\n",
       "        ...,\n",
       "        [9.95999855e-21, 9.71454240e-21, 9.64627011e-21, 8.98815504e-21,\n",
       "         8.85188996e-21],\n",
       "        [9.02940916e-12, 1.26414701e-20, 1.21637087e-20, 1.12911495e-20,\n",
       "         1.03328066e-20],\n",
       "        [8.21575236e-20, 7.06518807e-20, 6.98517063e-20, 6.88558907e-20,\n",
       "         6.67956552e-20]], dtype=float32))"
      ]
     },
     "execution_count": 201,
     "metadata": {},
     "output_type": "execute_result"
    }
   ],
   "source": [
    "als_model_loaded.predict(user_item_matrix_inference)"
   ]
  },
  {
   "cell_type": "markdown",
   "metadata": {
    "pycharm": {
     "name": "#%% md\n"
    }
   },
   "source": [
    "# 5. Обучение ранжирующей модели"
   ]
  },
  {
   "cell_type": "code",
   "execution_count": 202,
   "metadata": {
    "pycharm": {
     "name": "#%%\n"
    }
   },
   "outputs": [],
   "source": [
    "# Обучим модель Catboost c 4 фичами als_score, available, category_id, parent_id"
   ]
  },
  {
   "cell_type": "code",
   "execution_count": 203,
   "metadata": {
    "pycharm": {
     "name": "#%%\n"
    }
   },
   "outputs": [],
   "source": [
    "features = [\"als_score\", \"category_id\", \"parent_id\", \"available\"]\n",
    "cat_features = [\"category_id\", \"parent_id\"]\n",
    "target = [\"target\"]"
   ]
  },
  {
   "cell_type": "code",
   "execution_count": 207,
   "metadata": {
    "pycharm": {
     "name": "#%%\n"
    }
   },
   "outputs": [],
   "source": [
    "catboost_params = {\n",
    "    \"iterations\": 6000,\n",
    "    \"verbose\": 200,\n",
    "    \"loss_function\": \"Logloss\",\n",
    "    \"auto_class_weights\": \"Balanced\",\n",
    "    \"random_seed\": RANDOM_STATE,\n",
    "}"
   ]
  },
  {
   "cell_type": "code",
   "execution_count": 208,
   "metadata": {
    "pycharm": {
     "name": "#%%\n"
    }
   },
   "outputs": [
    {
     "name": "stdout",
     "output_type": "stream",
     "text": [
      "Learning rate set to 0.003427\n",
      "0:\tlearn: 0.6902230\ttotal: 6.6ms\tremaining: 39.6s\n",
      "200:\tlearn: 0.5197959\ttotal: 326ms\tremaining: 9.42s\n",
      "400:\tlearn: 0.4500572\ttotal: 625ms\tremaining: 8.73s\n",
      "600:\tlearn: 0.4082602\ttotal: 938ms\tremaining: 8.43s\n",
      "800:\tlearn: 0.3797966\ttotal: 1.51s\tremaining: 9.78s\n",
      "1000:\tlearn: 0.3575837\ttotal: 2.09s\tremaining: 10.4s\n",
      "1200:\tlearn: 0.3387186\ttotal: 2.44s\tremaining: 9.73s\n",
      "1400:\tlearn: 0.3222245\ttotal: 2.72s\tremaining: 8.92s\n",
      "1600:\tlearn: 0.3080479\ttotal: 3.01s\tremaining: 8.28s\n",
      "1800:\tlearn: 0.2933708\ttotal: 3.3s\tremaining: 7.7s\n",
      "2000:\tlearn: 0.2820346\ttotal: 3.59s\tremaining: 7.17s\n",
      "2200:\tlearn: 0.2693864\ttotal: 3.87s\tremaining: 6.68s\n",
      "2400:\tlearn: 0.2554894\ttotal: 4.17s\tremaining: 6.25s\n",
      "2600:\tlearn: 0.2363007\ttotal: 4.49s\tremaining: 5.86s\n",
      "2800:\tlearn: 0.2128010\ttotal: 4.83s\tremaining: 5.51s\n",
      "3000:\tlearn: 0.1888611\ttotal: 5.2s\tremaining: 5.2s\n",
      "3200:\tlearn: 0.1665668\ttotal: 5.57s\tremaining: 4.87s\n",
      "3400:\tlearn: 0.1490380\ttotal: 5.93s\tremaining: 4.53s\n",
      "3600:\tlearn: 0.1345317\ttotal: 6.28s\tremaining: 4.18s\n",
      "3800:\tlearn: 0.1226874\ttotal: 6.63s\tremaining: 3.83s\n",
      "4000:\tlearn: 0.1130318\ttotal: 6.97s\tremaining: 3.48s\n",
      "4200:\tlearn: 0.1047782\ttotal: 7.33s\tremaining: 3.14s\n",
      "4400:\tlearn: 0.0987350\ttotal: 7.66s\tremaining: 2.78s\n",
      "4600:\tlearn: 0.0921252\ttotal: 7.99s\tremaining: 2.43s\n",
      "4800:\tlearn: 0.0867899\ttotal: 8.32s\tremaining: 2.08s\n",
      "5000:\tlearn: 0.0826030\ttotal: 8.67s\tremaining: 1.73s\n",
      "5200:\tlearn: 0.0793602\ttotal: 9.01s\tremaining: 1.38s\n",
      "5400:\tlearn: 0.0760894\ttotal: 9.38s\tremaining: 1.04s\n",
      "5600:\tlearn: 0.0732568\ttotal: 9.73s\tremaining: 693ms\n",
      "5800:\tlearn: 0.0706884\ttotal: 10.1s\tremaining: 346ms\n",
      "5999:\tlearn: 0.0684318\ttotal: 10.4s\tremaining: 0us\n"
     ]
    },
    {
     "data": {
      "text/plain": [
       "<catboost.core.CatBoostClassifier at 0x315e73fa0>"
      ]
     },
     "execution_count": 208,
     "metadata": {},
     "output_type": "execute_result"
    }
   ],
   "source": [
    "train_data = Pool(\n",
    "    data=candidates_train[features],\n",
    "    label=candidates_train[target],\n",
    "    cat_features=cat_features\n",
    ")\n",
    "\n",
    "model = CatBoostClassifier(**catboost_params)\n",
    "\n",
    "model.fit(train_data)"
   ]
  },
  {
   "cell_type": "code",
   "execution_count": 209,
   "metadata": {
    "pycharm": {
     "name": "#%%\n"
    }
   },
   "outputs": [
    {
     "data": {
      "text/html": [
       "<div>\n",
       "<style scoped>\n",
       "    .dataframe tbody tr th:only-of-type {\n",
       "        vertical-align: middle;\n",
       "    }\n",
       "\n",
       "    .dataframe tbody tr th {\n",
       "        vertical-align: top;\n",
       "    }\n",
       "\n",
       "    .dataframe thead th {\n",
       "        text-align: right;\n",
       "    }\n",
       "</style>\n",
       "<table border=\"1\" class=\"dataframe\">\n",
       "  <thead>\n",
       "    <tr style=\"text-align: right;\">\n",
       "      <th></th>\n",
       "      <th>id</th>\n",
       "      <th>rec_id</th>\n",
       "      <th>user_id</th>\n",
       "      <th>item_id</th>\n",
       "      <th>als_score</th>\n",
       "      <th>category_id</th>\n",
       "      <th>parent_id</th>\n",
       "      <th>available</th>\n",
       "      <th>cb_score</th>\n",
       "      <th>rank</th>\n",
       "    </tr>\n",
       "  </thead>\n",
       "  <tbody>\n",
       "    <tr>\n",
       "      <th>0</th>\n",
       "      <td>1</td>\n",
       "      <td>112</td>\n",
       "      <td>2194</td>\n",
       "      <td>395435</td>\n",
       "      <td>6.797959e-21</td>\n",
       "      <td>707</td>\n",
       "      <td>561</td>\n",
       "      <td>1</td>\n",
       "      <td>0.697945</td>\n",
       "      <td>1</td>\n",
       "    </tr>\n",
       "    <tr>\n",
       "      <th>1</th>\n",
       "      <td>2</td>\n",
       "      <td>111</td>\n",
       "      <td>2194</td>\n",
       "      <td>234493</td>\n",
       "      <td>6.835821e-21</td>\n",
       "      <td>342</td>\n",
       "      <td>500</td>\n",
       "      <td>0</td>\n",
       "      <td>0.383374</td>\n",
       "      <td>2</td>\n",
       "    </tr>\n",
       "    <tr>\n",
       "      <th>2</th>\n",
       "      <td>3</td>\n",
       "      <td>108</td>\n",
       "      <td>2194</td>\n",
       "      <td>328696</td>\n",
       "      <td>8.044012e-21</td>\n",
       "      <td>1051</td>\n",
       "      <td>955</td>\n",
       "      <td>1</td>\n",
       "      <td>0.303567</td>\n",
       "      <td>3</td>\n",
       "    </tr>\n",
       "    <tr>\n",
       "      <th>3</th>\n",
       "      <td>4</td>\n",
       "      <td>122</td>\n",
       "      <td>2194</td>\n",
       "      <td>78163</td>\n",
       "      <td>6.287348e-21</td>\n",
       "      <td>342</td>\n",
       "      <td>500</td>\n",
       "      <td>1</td>\n",
       "      <td>0.276831</td>\n",
       "      <td>4</td>\n",
       "    </tr>\n",
       "    <tr>\n",
       "      <th>4</th>\n",
       "      <td>5</td>\n",
       "      <td>113</td>\n",
       "      <td>2194</td>\n",
       "      <td>181202</td>\n",
       "      <td>6.708043e-21</td>\n",
       "      <td>1051</td>\n",
       "      <td>955</td>\n",
       "      <td>1</td>\n",
       "      <td>0.252655</td>\n",
       "      <td>5</td>\n",
       "    </tr>\n",
       "    <tr>\n",
       "      <th>...</th>\n",
       "      <td>...</td>\n",
       "      <td>...</td>\n",
       "      <td>...</td>\n",
       "      <td>...</td>\n",
       "      <td>...</td>\n",
       "      <td>...</td>\n",
       "      <td>...</td>\n",
       "      <td>...</td>\n",
       "      <td>...</td>\n",
       "      <td>...</td>\n",
       "    </tr>\n",
       "    <tr>\n",
       "      <th>6723</th>\n",
       "      <td>6724</td>\n",
       "      <td>35448</td>\n",
       "      <td>1403769</td>\n",
       "      <td>144704</td>\n",
       "      <td>3.130475e-20</td>\n",
       "      <td>242</td>\n",
       "      <td>1531</td>\n",
       "      <td>0</td>\n",
       "      <td>0.000316</td>\n",
       "      <td>96</td>\n",
       "    </tr>\n",
       "    <tr>\n",
       "      <th>6724</th>\n",
       "      <td>6725</td>\n",
       "      <td>35402</td>\n",
       "      <td>1403769</td>\n",
       "      <td>339808</td>\n",
       "      <td>6.985171e-20</td>\n",
       "      <td>1322</td>\n",
       "      <td>252</td>\n",
       "      <td>0</td>\n",
       "      <td>0.000158</td>\n",
       "      <td>97</td>\n",
       "    </tr>\n",
       "    <tr>\n",
       "      <th>6725</th>\n",
       "      <td>6726</td>\n",
       "      <td>35428</td>\n",
       "      <td>1403769</td>\n",
       "      <td>446522</td>\n",
       "      <td>3.924149e-20</td>\n",
       "      <td>471</td>\n",
       "      <td>1368</td>\n",
       "      <td>0</td>\n",
       "      <td>0.000037</td>\n",
       "      <td>98</td>\n",
       "    </tr>\n",
       "    <tr>\n",
       "      <th>6726</th>\n",
       "      <td>6727</td>\n",
       "      <td>35426</td>\n",
       "      <td>1403769</td>\n",
       "      <td>185535</td>\n",
       "      <td>4.033300e-20</td>\n",
       "      <td>486</td>\n",
       "      <td>25</td>\n",
       "      <td>0</td>\n",
       "      <td>0.000020</td>\n",
       "      <td>99</td>\n",
       "    </tr>\n",
       "    <tr>\n",
       "      <th>6727</th>\n",
       "      <td>6728</td>\n",
       "      <td>35452</td>\n",
       "      <td>1403769</td>\n",
       "      <td>165337</td>\n",
       "      <td>3.052693e-20</td>\n",
       "      <td>828</td>\n",
       "      <td>293</td>\n",
       "      <td>0</td>\n",
       "      <td>0.000018</td>\n",
       "      <td>100</td>\n",
       "    </tr>\n",
       "  </tbody>\n",
       "</table>\n",
       "<p>6728 rows × 10 columns</p>\n",
       "</div>"
      ],
      "text/plain": [
       "        id  rec_id  user_id  item_id     als_score  category_id  parent_id  \\\n",
       "0        1     112     2194   395435  6.797959e-21          707        561   \n",
       "1        2     111     2194   234493  6.835821e-21          342        500   \n",
       "2        3     108     2194   328696  8.044012e-21         1051        955   \n",
       "3        4     122     2194    78163  6.287348e-21          342        500   \n",
       "4        5     113     2194   181202  6.708043e-21         1051        955   \n",
       "...    ...     ...      ...      ...           ...          ...        ...   \n",
       "6723  6724   35448  1403769   144704  3.130475e-20          242       1531   \n",
       "6724  6725   35402  1403769   339808  6.985171e-20         1322        252   \n",
       "6725  6726   35428  1403769   446522  3.924149e-20          471       1368   \n",
       "6726  6727   35426  1403769   185535  4.033300e-20          486         25   \n",
       "6727  6728   35452  1403769   165337  3.052693e-20          828        293   \n",
       "\n",
       "      available  cb_score  rank  \n",
       "0             1  0.697945     1  \n",
       "1             0  0.383374     2  \n",
       "2             1  0.303567     3  \n",
       "3             1  0.276831     4  \n",
       "4             1  0.252655     5  \n",
       "...         ...       ...   ...  \n",
       "6723          0  0.000316    96  \n",
       "6724          0  0.000158    97  \n",
       "6725          0  0.000037    98  \n",
       "6726          0  0.000020    99  \n",
       "6727          0  0.000018   100  \n",
       "\n",
       "[6728 rows x 10 columns]"
      ]
     },
     "execution_count": 209,
     "metadata": {},
     "output_type": "execute_result"
    }
   ],
   "source": [
    "inf_data = Pool(data=candidates_inference[features], cat_features=cat_features)\n",
    "predictions = model.predict_proba(inf_data)\n",
    "candidates_inference[\"cb_score\"] = predictions[:, 1]\n",
    "\n",
    "# Сортировка\n",
    "candidates_inference_ranked = candidates_inference.sort_values(\n",
    "    by=[\"user_id\", \"cb_score\"], ascending=[True, False]\n",
    ")\n",
    "\n",
    "# Ранжирование\n",
    "candidates_inference_ranked[\"rank\"] = candidates_inference_ranked.groupby(\"user_id\").cumcount() + 1\n",
    "\n",
    "candidates_inference_ranked[\"id\"] = np.arange(1, candidates_inference_ranked.shape[0] + 1)\n",
    "candidates_inference_ranked = candidates_inference_ranked.reset_index(drop=True)\n",
    "candidates_inference_ranked"
   ]
  },
  {
   "cell_type": "code",
   "execution_count": 210,
   "metadata": {
    "pycharm": {
     "name": "#%%\n"
    }
   },
   "outputs": [],
   "source": [
    "# посмотрим на фичи"
   ]
  },
  {
   "cell_type": "code",
   "execution_count": 211,
   "metadata": {
    "pycharm": {
     "name": "#%%\n"
    }
   },
   "outputs": [
    {
     "data": {
      "image/png": "[encoded data removed]",
      "text/plain": [
       "<Figure size 640x480 with 1 Axes>"
      ]
     },
     "metadata": {},
     "output_type": "display_data"
    }
   ],
   "source": [
    "fi = pd.Series(\n",
    "    model.feature_importances_,\n",
    "    index=features,\n",
    "    name=\"fi_final_recs\",\n",
    ").sort_values()\n",
    "\n",
    "fi.plot(kind=\"barh\")\n",
    "plt.title(\"Feature importances (Catboost)\")\n",
    "plt.ylabel(\"Feature\")\n",
    "plt.xlabel(\"Importance score\")\n",
    "plt.tight_layout()\n",
    "plt.savefig(f\"{ASSETS}/feature_importances.png\")\n",
    "plt.show()"
   ]
  },
  {
   "cell_type": "markdown",
   "metadata": {
    "pycharm": {
     "name": "#%% md\n"
    }
   },
   "source": [
    "### 5.1 Оценивание метрик"
   ]
  },
  {
   "cell_type": "code",
   "execution_count": 212,
   "metadata": {
    "pycharm": {
     "name": "#%%\n"
    }
   },
   "outputs": [],
   "source": [
    "def process_events_recs_for_binary_metrics(events_train, events_test, recs, top_k=None):\n",
    "    \"\"\"Labels <user_id, item_id> pairs for common users with features:\n",
    "    - gt => ground truth\n",
    "    - pr => prediction\n",
    "    top_k => using top-k recommendations for computation\n",
    "    \"\"\"\n",
    "    \n",
    "    events_test[\"gt\"] = True\n",
    "    common_users = set(events_test[\"user_id\"]) & set(recs[\"user_id\"])\n",
    "    \n",
    "    events_for_common_users = events_test[events_test[\"user_id\"].isin(common_users)].copy()\n",
    "    recs_for_common_users = recs[recs[\"user_id\"].isin(common_users)].copy()\n",
    "\n",
    "    recs_for_common_users = recs_for_common_users.sort_values([\"user_id\", \"score\"], ascending=[True, False])\n",
    "\n",
    "    events_for_common_users = events_for_common_users[events_for_common_users[\"item_id\"].isin(\n",
    "        events_train[\"item_id\"].unique()\n",
    "    )\n",
    "    ]\n",
    "\n",
    "    if top_k is not None:\n",
    "        recs_for_common_users = recs_for_common_users.groupby(\"user_id\").head(top_k)\n",
    "    \n",
    "    events_recs_common = events_for_common_users[[\"user_id\", \"item_id\", \"gt\"]].merge(\n",
    "        recs_for_common_users[[\"user_id\", \"item_id\", \"score\"]], \n",
    "        on=[\"user_id\", \"item_id\"], \n",
    "        how=\"outer\",\n",
    "    )\n",
    "\n",
    "    events_recs_common[\"gt\"] = events_recs_common[\"gt\"].fillna(False)\n",
    "    events_recs_common[\"pr\"] = ~events_recs_common[\"score\"].isnull()\n",
    "    \n",
    "    events_recs_common[\"tp\"] = events_recs_common[\"gt\"] & events_recs_common[\"pr\"]\n",
    "    events_recs_common[\"fp\"] = ~events_recs_common[\"gt\"] & events_recs_common[\"pr\"]\n",
    "    events_recs_common[\"fn\"] = events_recs_common[\"gt\"] & ~events_recs_common[\"pr\"]\n",
    "\n",
    "    return events_recs_common"
   ]
  },
  {
   "cell_type": "code",
   "execution_count": 213,
   "metadata": {
    "pycharm": {
     "name": "#%%\n"
    }
   },
   "outputs": [],
   "source": [
    "def compute_cls_metrics(events_recs_for_binary_metric):\n",
    "    \"\"\"Computes precision and recall.\"\"\"\n",
    "    \n",
    "    groupper = events_recs_for_binary_metric.groupby(\"user_id\")\n",
    "\n",
    "    # Computing precision\n",
    "    precision = groupper[\"tp\"].sum()/(groupper[\"tp\"].sum()+groupper[\"fp\"].sum())\n",
    "    precision = precision.fillna(0).mean()\n",
    "    \n",
    "    # Computing recall\n",
    "    recall = groupper[\"tp\"].sum()/(groupper[\"tp\"].sum()+groupper[\"fn\"].sum())\n",
    "    recall = recall.fillna(0).mean()\n",
    "\n",
    "    return precision, recall"
   ]
  },
  {
   "cell_type": "code",
   "execution_count": 214,
   "metadata": {
    "pycharm": {
     "name": "#%%\n"
    }
   },
   "outputs": [
    {
     "name": "stdout",
     "output_type": "stream",
     "text": [
      "Precision@10 = 0.04492 (4.492%)\n",
      "Recall@10 = 0.01499 (1.499%)\n"
     ]
    },
    {
     "name": "stderr",
     "output_type": "stream",
     "text": [
      "/var/folders/26/jzfnfwpd7zgcvfy170ph67w40000gn/T/ipykernel_82662/2116620511.py:30: FutureWarning: Downcasting object dtype arrays on .fillna, .ffill, .bfill is deprecated and will change in a future version. Call result.infer_objects(copy=False) instead. To opt-in to the future behavior, set `pd.set_option('future.no_silent_downcasting', True)`\n",
      "  events_recs_common[\"gt\"] = events_recs_common[\"gt\"].fillna(False)\n"
     ]
    }
   ],
   "source": [
    "events_recs_for_binary_metric = process_events_recs_for_binary_metrics(\n",
    "    inference_data,\n",
    "    events_test_2,\n",
    "    candidates_inference_ranked.rename(columns={\"cb_score\": \"score\"}),\n",
    "    top_k=10,\n",
    ")\n",
    "\n",
    "precision_at_10_personal, recall_at_10_personal = compute_cls_metrics(events_recs_for_binary_metric)\n",
    "\n",
    "print(f\"Precision@10 = {precision_at_10_personal:.5f} ({precision_at_10_personal:.3%})\")\n",
    "print(f\"Recall@10 = {recall_at_10_personal:.5f} ({recall_at_10_personal:.3%})\")"
   ]
  },
  {
   "cell_type": "code",
   "execution_count": 215,
   "metadata": {
    "pycharm": {
     "name": "#%%\n"
    }
   },
   "outputs": [
    {
     "data": {
      "text/plain": [
       "{'precision_at_10': np.float64(0.044919786096256686),\n",
       " 'recall_at_10': np.float64(0.014992025257993494)}"
      ]
     },
     "execution_count": 215,
     "metadata": {},
     "output_type": "execute_result"
    }
   ],
   "source": [
    "recommendation_metrics = {\n",
    "    \"precision_at_10\": precision_at_10_personal,\n",
    "    \"recall_at_10\": recall_at_10_personal\n",
    "}\n",
    "recommendation_metrics"
   ]
  },
  {
   "cell_type": "code",
   "execution_count": 216,
   "metadata": {
    "pycharm": {
     "name": "#%%\n"
    }
   },
   "outputs": [],
   "source": [
    "candidates_inference_ranked.to_parquet(f\"{ASSETS}/personal_recommendations.parquet\")"
   ]
  },
  {
   "cell_type": "code",
   "execution_count": 217,
   "metadata": {
    "pycharm": {
     "name": "#%%\n"
    }
   },
   "outputs": [],
   "source": [
    "model.save_model(f\"{POSTGRES_DATA}/catboost_model.cbm\")"
   ]
  },
  {
   "cell_type": "markdown",
   "metadata": {
    "pycharm": {
     "name": "#%% md\n"
    }
   },
   "source": [
    "### 5.2 Логгирование в MLFLOW"
   ]
  },
  {
   "cell_type": "code",
   "execution_count": 218,
   "metadata": {
    "pycharm": {
     "name": "#%%\n"
    }
   },
   "outputs": [
    {
     "name": "stderr",
     "output_type": "stream",
     "text": [
      "2025/07/19 21:03:00 WARNING mlflow.models.model: `artifact_path` is deprecated. Please use `name` instead.\n",
      "\u001B[31m2025/07/19 21:03:07 WARNING mlflow.models.model: Model logged without a signature and input example. Please set `input_example` parameter when logging the model to auto infer the model signature.\u001B[0m\n",
      "Successfully registered model 'cb_ranking_model'.\n",
      "2025/07/19 21:03:23 INFO mlflow.store.model_registry.abstract_store: Waiting up to 60 seconds for model version to finish creation. Model name: cb_ranking_model, version 1\n",
      "Created version '1' of model 'cb_ranking_model'.\n"
     ]
    },
    {
     "name": "stdout",
     "output_type": "stream",
     "text": [
      "🏃 View run recommendations_ranking at: http://127.0.0.1:5000/#/experiments/1/runs/ed3b7ef64df444b69e43d219c67f8f2b\n",
      "🧪 View experiment at: http://127.0.0.1:5000/#/experiments/1\n"
     ]
    }
   ],
   "source": [
    "RUN_NAME = \"recommendations_ranking\"\n",
    "REGISTERED_MODEL_NAME = \"cb_ranking_model\"\n",
    "with mlflow.start_run(run_name=RUN_NAME, experiment_id=experiment_id) as run:\n",
    "    \n",
    "    run_id = run.info.run_id\n",
    "    mlflow.log_params(catboost_params)\n",
    "    mlflow.log_metrics(recommendation_metrics)\n",
    "\n",
    "    mlflow.log_artifact(f\"{ASSETS}/personal_recommendations.parquet\", \"recommendations\")\n",
    "    mlflow.log_artifact(f\"{ASSETS}/feature_importances.png\", \"cb_model\")\n",
    "\n",
    "    model_info = mlflow.catboost.log_model( \n",
    "            registered_model_name=REGISTERED_MODEL_NAME,\n",
    "            cb_model=model,\n",
    "            await_registration_for=60,\n",
    "            artifact_path='models',\n",
    "            pip_requirements=\"../requirements.txt\",\n",
    "    )"
   ]
  },
  {
   "cell_type": "markdown",
   "metadata": {
    "pycharm": {
     "name": "#%% md\n"
    }
   },
   "source": [
    "### 5.3 Попробуем потюнить гиперпараметры"
   ]
  },
  {
   "cell_type": "code",
   "execution_count": 219,
   "metadata": {
    "pycharm": {
     "name": "#%%\n"
    }
   },
   "outputs": [],
   "source": [
    "catboost_params = {\n",
    "    \"iterations\": 1000,\n",
    "    \"learning_rate\": 0.01,\n",
    "    \"depth\": 4,\n",
    "    \"verbose\": 200,\n",
    "    \"loss_function\": \"Logloss\",\n",
    "    \"auto_class_weights\": \"Balanced\",\n",
    "    \"random_seed\": RANDOM_STATE,\n",
    "}"
   ]
  },
  {
   "cell_type": "code",
   "execution_count": 220,
   "metadata": {
    "pycharm": {
     "name": "#%%\n"
    }
   },
   "outputs": [
    {
     "name": "stdout",
     "output_type": "stream",
     "text": [
      "0:\tlearn: 0.6843952\ttotal: 4.6ms\tremaining: 4.59s\n",
      "200:\tlearn: 0.4671933\ttotal: 295ms\tremaining: 1.17s\n",
      "400:\tlearn: 0.4092358\ttotal: 556ms\tremaining: 830ms\n",
      "600:\tlearn: 0.3712252\ttotal: 825ms\tremaining: 548ms\n",
      "800:\tlearn: 0.3280356\ttotal: 1.1s\tremaining: 273ms\n",
      "999:\tlearn: 0.2684231\ttotal: 1.39s\tremaining: 0us\n"
     ]
    },
    {
     "data": {
      "text/plain": [
       "<catboost.core.CatBoostClassifier at 0x315589850>"
      ]
     },
     "execution_count": 220,
     "metadata": {},
     "output_type": "execute_result"
    }
   ],
   "source": [
    "train_data = Pool(\n",
    "    data=candidates_train[features],\n",
    "    label=candidates_train[target],\n",
    "    cat_features=cat_features\n",
    ")\n",
    "\n",
    "model = CatBoostClassifier(**catboost_params)\n",
    "\n",
    "model.fit(train_data)"
   ]
  },
  {
   "cell_type": "code",
   "execution_count": 221,
   "metadata": {
    "pycharm": {
     "name": "#%%\n"
    }
   },
   "outputs": [
    {
     "data": {
      "text/html": [
       "<div>\n",
       "<style scoped>\n",
       "    .dataframe tbody tr th:only-of-type {\n",
       "        vertical-align: middle;\n",
       "    }\n",
       "\n",
       "    .dataframe tbody tr th {\n",
       "        vertical-align: top;\n",
       "    }\n",
       "\n",
       "    .dataframe thead th {\n",
       "        text-align: right;\n",
       "    }\n",
       "</style>\n",
       "<table border=\"1\" class=\"dataframe\">\n",
       "  <thead>\n",
       "    <tr style=\"text-align: right;\">\n",
       "      <th></th>\n",
       "      <th>id</th>\n",
       "      <th>rec_id</th>\n",
       "      <th>user_id</th>\n",
       "      <th>item_id</th>\n",
       "      <th>als_score</th>\n",
       "      <th>category_id</th>\n",
       "      <th>parent_id</th>\n",
       "      <th>available</th>\n",
       "      <th>cb_score</th>\n",
       "      <th>rank</th>\n",
       "    </tr>\n",
       "  </thead>\n",
       "  <tbody>\n",
       "    <tr>\n",
       "      <th>0</th>\n",
       "      <td>1</td>\n",
       "      <td>133</td>\n",
       "      <td>2194</td>\n",
       "      <td>446934</td>\n",
       "      <td>5.213431e-21</td>\n",
       "      <td>35</td>\n",
       "      <td>20</td>\n",
       "      <td>1</td>\n",
       "      <td>0.710461</td>\n",
       "      <td>1</td>\n",
       "    </tr>\n",
       "    <tr>\n",
       "      <th>1</th>\n",
       "      <td>2</td>\n",
       "      <td>111</td>\n",
       "      <td>2194</td>\n",
       "      <td>234493</td>\n",
       "      <td>6.835821e-21</td>\n",
       "      <td>342</td>\n",
       "      <td>500</td>\n",
       "      <td>0</td>\n",
       "      <td>0.671544</td>\n",
       "      <td>2</td>\n",
       "    </tr>\n",
       "    <tr>\n",
       "      <th>2</th>\n",
       "      <td>3</td>\n",
       "      <td>122</td>\n",
       "      <td>2194</td>\n",
       "      <td>78163</td>\n",
       "      <td>6.287348e-21</td>\n",
       "      <td>342</td>\n",
       "      <td>500</td>\n",
       "      <td>1</td>\n",
       "      <td>0.664732</td>\n",
       "      <td>3</td>\n",
       "    </tr>\n",
       "    <tr>\n",
       "      <th>3</th>\n",
       "      <td>4</td>\n",
       "      <td>197</td>\n",
       "      <td>2194</td>\n",
       "      <td>400946</td>\n",
       "      <td>3.357855e-21</td>\n",
       "      <td>1273</td>\n",
       "      <td>125</td>\n",
       "      <td>1</td>\n",
       "      <td>0.649883</td>\n",
       "      <td>4</td>\n",
       "    </tr>\n",
       "    <tr>\n",
       "      <th>4</th>\n",
       "      <td>5</td>\n",
       "      <td>165</td>\n",
       "      <td>2194</td>\n",
       "      <td>132683</td>\n",
       "      <td>4.136347e-21</td>\n",
       "      <td>421</td>\n",
       "      <td>1424</td>\n",
       "      <td>1</td>\n",
       "      <td>0.647578</td>\n",
       "      <td>5</td>\n",
       "    </tr>\n",
       "    <tr>\n",
       "      <th>...</th>\n",
       "      <td>...</td>\n",
       "      <td>...</td>\n",
       "      <td>...</td>\n",
       "      <td>...</td>\n",
       "      <td>...</td>\n",
       "      <td>...</td>\n",
       "      <td>...</td>\n",
       "      <td>...</td>\n",
       "      <td>...</td>\n",
       "      <td>...</td>\n",
       "    </tr>\n",
       "    <tr>\n",
       "      <th>6723</th>\n",
       "      <td>6724</td>\n",
       "      <td>35448</td>\n",
       "      <td>1403769</td>\n",
       "      <td>144704</td>\n",
       "      <td>3.130475e-20</td>\n",
       "      <td>242</td>\n",
       "      <td>1531</td>\n",
       "      <td>0</td>\n",
       "      <td>0.015851</td>\n",
       "      <td>96</td>\n",
       "    </tr>\n",
       "    <tr>\n",
       "      <th>6724</th>\n",
       "      <td>6725</td>\n",
       "      <td>35402</td>\n",
       "      <td>1403769</td>\n",
       "      <td>339808</td>\n",
       "      <td>6.985171e-20</td>\n",
       "      <td>1322</td>\n",
       "      <td>252</td>\n",
       "      <td>0</td>\n",
       "      <td>0.009938</td>\n",
       "      <td>97</td>\n",
       "    </tr>\n",
       "    <tr>\n",
       "      <th>6725</th>\n",
       "      <td>6726</td>\n",
       "      <td>35428</td>\n",
       "      <td>1403769</td>\n",
       "      <td>446522</td>\n",
       "      <td>3.924149e-20</td>\n",
       "      <td>471</td>\n",
       "      <td>1368</td>\n",
       "      <td>0</td>\n",
       "      <td>0.002669</td>\n",
       "      <td>98</td>\n",
       "    </tr>\n",
       "    <tr>\n",
       "      <th>6726</th>\n",
       "      <td>6727</td>\n",
       "      <td>35426</td>\n",
       "      <td>1403769</td>\n",
       "      <td>185535</td>\n",
       "      <td>4.033300e-20</td>\n",
       "      <td>486</td>\n",
       "      <td>25</td>\n",
       "      <td>0</td>\n",
       "      <td>0.002494</td>\n",
       "      <td>99</td>\n",
       "    </tr>\n",
       "    <tr>\n",
       "      <th>6727</th>\n",
       "      <td>6728</td>\n",
       "      <td>35452</td>\n",
       "      <td>1403769</td>\n",
       "      <td>165337</td>\n",
       "      <td>3.052693e-20</td>\n",
       "      <td>828</td>\n",
       "      <td>293</td>\n",
       "      <td>0</td>\n",
       "      <td>0.002264</td>\n",
       "      <td>100</td>\n",
       "    </tr>\n",
       "  </tbody>\n",
       "</table>\n",
       "<p>6728 rows × 10 columns</p>\n",
       "</div>"
      ],
      "text/plain": [
       "        id  rec_id  user_id  item_id     als_score  category_id  parent_id  \\\n",
       "0        1     133     2194   446934  5.213431e-21           35         20   \n",
       "1        2     111     2194   234493  6.835821e-21          342        500   \n",
       "2        3     122     2194    78163  6.287348e-21          342        500   \n",
       "3        4     197     2194   400946  3.357855e-21         1273        125   \n",
       "4        5     165     2194   132683  4.136347e-21          421       1424   \n",
       "...    ...     ...      ...      ...           ...          ...        ...   \n",
       "6723  6724   35448  1403769   144704  3.130475e-20          242       1531   \n",
       "6724  6725   35402  1403769   339808  6.985171e-20         1322        252   \n",
       "6725  6726   35428  1403769   446522  3.924149e-20          471       1368   \n",
       "6726  6727   35426  1403769   185535  4.033300e-20          486         25   \n",
       "6727  6728   35452  1403769   165337  3.052693e-20          828        293   \n",
       "\n",
       "      available  cb_score  rank  \n",
       "0             1  0.710461     1  \n",
       "1             0  0.671544     2  \n",
       "2             1  0.664732     3  \n",
       "3             1  0.649883     4  \n",
       "4             1  0.647578     5  \n",
       "...         ...       ...   ...  \n",
       "6723          0  0.015851    96  \n",
       "6724          0  0.009938    97  \n",
       "6725          0  0.002669    98  \n",
       "6726          0  0.002494    99  \n",
       "6727          0  0.002264   100  \n",
       "\n",
       "[6728 rows x 10 columns]"
      ]
     },
     "execution_count": 221,
     "metadata": {},
     "output_type": "execute_result"
    }
   ],
   "source": [
    "inf_data = Pool(data=candidates_inference[features], cat_features=cat_features)\n",
    "predictions = model.predict_proba(inf_data)\n",
    "candidates_inference[\"cb_score\"] = predictions[:, 1]\n",
    "\n",
    "# Сортировка\n",
    "candidates_inference_ranked = candidates_inference.sort_values(\n",
    "    by=[\"user_id\", \"cb_score\"], ascending=[True, False]\n",
    ")\n",
    "\n",
    "# Ранжирование\n",
    "candidates_inference_ranked[\"rank\"] = candidates_inference_ranked.groupby(\"user_id\").cumcount() + 1\n",
    "\n",
    "candidates_inference_ranked[\"id\"] = np.arange(1, candidates_inference_ranked.shape[0] + 1)\n",
    "candidates_inference_ranked = candidates_inference_ranked.reset_index(drop=True)\n",
    "candidates_inference_ranked"
   ]
  },
  {
   "cell_type": "code",
   "execution_count": 223,
   "metadata": {
    "pycharm": {
     "name": "#%%\n"
    }
   },
   "outputs": [
    {
     "data": {
      "image/png": "[encoded data removed]",
      "text/plain": [
       "<Figure size 640x480 with 1 Axes>"
      ]
     },
     "metadata": {},
     "output_type": "display_data"
    }
   ],
   "source": [
    "fi = pd.Series(\n",
    "    model.feature_importances_,\n",
    "    index=features,\n",
    "    name=\"fi_final_recs\",\n",
    ").sort_values()\n",
    "\n",
    "fi.plot(kind=\"barh\")\n",
    "plt.title(\"Feature importances (Catboost) -  v1\")\n",
    "plt.ylabel(\"Feature\")\n",
    "plt.xlabel(\"Importance score\")\n",
    "plt.tight_layout()\n",
    "plt.savefig(f\"{ASSETS}/feature_importances_2.png\")\n",
    "plt.show()"
   ]
  },
  {
   "cell_type": "code",
   "execution_count": 224,
   "metadata": {
    "pycharm": {
     "name": "#%%\n"
    }
   },
   "outputs": [
    {
     "name": "stdout",
     "output_type": "stream",
     "text": [
      "Precision@10 = 0.05053 (5.053%)\n",
      "Recall@10 = 0.01656 (1.656%)\n"
     ]
    },
    {
     "name": "stderr",
     "output_type": "stream",
     "text": [
      "/var/folders/26/jzfnfwpd7zgcvfy170ph67w40000gn/T/ipykernel_82662/2116620511.py:30: FutureWarning: Downcasting object dtype arrays on .fillna, .ffill, .bfill is deprecated and will change in a future version. Call result.infer_objects(copy=False) instead. To opt-in to the future behavior, set `pd.set_option('future.no_silent_downcasting', True)`\n",
      "  events_recs_common[\"gt\"] = events_recs_common[\"gt\"].fillna(False)\n"
     ]
    }
   ],
   "source": [
    "events_recs_for_binary_metric = process_events_recs_for_binary_metrics(\n",
    "    inference_data,\n",
    "    events_test_2,\n",
    "    candidates_inference_ranked.rename(columns={\"cb_score\": \"score\"}),\n",
    "    top_k=10,\n",
    ")\n",
    "\n",
    "precision_at_10_personal, recall_at_10_personal = compute_cls_metrics(events_recs_for_binary_metric)\n",
    "\n",
    "print(f\"Precision@10 = {precision_at_10_personal:.5f} ({precision_at_10_personal:.3%})\")\n",
    "print(f\"Recall@10 = {recall_at_10_personal:.5f} ({recall_at_10_personal:.3%})\")"
   ]
  },
  {
   "cell_type": "code",
   "execution_count": 225,
   "metadata": {
    "pycharm": {
     "name": "#%%\n"
    }
   },
   "outputs": [
    {
     "data": {
      "text/plain": [
       "{'precision_at_10': np.float64(0.05052814832226597),\n",
       " 'recall_at_10': np.float64(0.016555165729678835)}"
      ]
     },
     "execution_count": 225,
     "metadata": {},
     "output_type": "execute_result"
    }
   ],
   "source": [
    "recommendation_metrics = {\n",
    "    \"precision_at_10\": precision_at_10_personal,\n",
    "    \"recall_at_10\": recall_at_10_personal\n",
    "}\n",
    "recommendation_metrics"
   ]
  },
  {
   "cell_type": "code",
   "execution_count": 227,
   "metadata": {
    "pycharm": {
     "name": "#%%\n"
    }
   },
   "outputs": [],
   "source": [
    "candidates_inference_ranked.to_parquet(f\"{ASSETS}/personal_recommendations_2.parquet\")"
   ]
  },
  {
   "cell_type": "code",
   "execution_count": 228,
   "metadata": {
    "pycharm": {
     "name": "#%%\n"
    }
   },
   "outputs": [
    {
     "name": "stderr",
     "output_type": "stream",
     "text": [
      "2025/07/19 21:06:32 WARNING mlflow.models.model: `artifact_path` is deprecated. Please use `name` instead.\n",
      "\u001B[31m2025/07/19 21:06:38 WARNING mlflow.models.model: Model logged without a signature and input example. Please set `input_example` parameter when logging the model to auto infer the model signature.\u001B[0m\n",
      "Registered model 'cb_ranking_model' already exists. Creating a new version of this model...\n",
      "2025/07/19 21:06:45 INFO mlflow.store.model_registry.abstract_store: Waiting up to 60 seconds for model version to finish creation. Model name: cb_ranking_model, version 2\n",
      "Created version '2' of model 'cb_ranking_model'.\n"
     ]
    },
    {
     "name": "stdout",
     "output_type": "stream",
     "text": [
      "🏃 View run recommendations_ranking_v1 at: http://127.0.0.1:5000/#/experiments/1/runs/ea2c9f7803374ae59a7901046889044a\n",
      "🧪 View experiment at: http://127.0.0.1:5000/#/experiments/1\n"
     ]
    }
   ],
   "source": [
    "RUN_NAME = \"recommendations_ranking_v1\"\n",
    "REGISTERED_MODEL_NAME = \"cb_ranking_model\"\n",
    "with mlflow.start_run(run_name=RUN_NAME, experiment_id=experiment_id) as run:\n",
    "    \n",
    "    run_id = run.info.run_id\n",
    "    mlflow.log_params(catboost_params)\n",
    "    mlflow.log_metrics(recommendation_metrics)\n",
    "\n",
    "    mlflow.log_artifact(f\"{ASSETS}/personal_recommendations_2.parquet\", \"recommendations\")\n",
    "    mlflow.log_artifact(f\"{ASSETS}/feature_importances_2.png\", \"cb_model\")\n",
    "\n",
    "    model_info = mlflow.catboost.log_model( \n",
    "            registered_model_name=REGISTERED_MODEL_NAME,\n",
    "            cb_model=model,\n",
    "            await_registration_for=60,\n",
    "            artifact_path='models',\n",
    "            pip_requirements=\"../requirements.txt\",\n",
    "    )"
   ]
  },
  {
   "cell_type": "markdown",
   "metadata": {
    "pycharm": {
     "name": "#%% md\n"
    }
   },
   "source": [
    "### 5.4 Попробуем потюнить гиперпараметры 2"
   ]
  },
  {
   "cell_type": "code",
   "execution_count": 330,
   "metadata": {
    "pycharm": {
     "name": "#%%\n"
    }
   },
   "outputs": [],
   "source": [
    "catboost_params = {\n",
    "    \"iterations\": 900,\n",
    "    \"learning_rate\": 0.01,\n",
    "    \"depth\": 4,\n",
    "    \"verbose\": 200,\n",
    "    \"loss_function\": \"Logloss\",\n",
    "    \"auto_class_weights\": \"Balanced\",\n",
    "    \"random_seed\": RANDOM_STATE,\n",
    "}"
   ]
  },
  {
   "cell_type": "code",
   "execution_count": 331,
   "metadata": {
    "pycharm": {
     "name": "#%%\n"
    }
   },
   "outputs": [
    {
     "name": "stdout",
     "output_type": "stream",
     "text": [
      "0:\tlearn: 0.6843952\ttotal: 8.93ms\tremaining: 8.03s\n",
      "200:\tlearn: 0.4671933\ttotal: 307ms\tremaining: 1.07s\n",
      "400:\tlearn: 0.4092358\ttotal: 568ms\tremaining: 706ms\n",
      "600:\tlearn: 0.3712252\ttotal: 829ms\tremaining: 412ms\n",
      "800:\tlearn: 0.3280356\ttotal: 1.09s\tremaining: 135ms\n",
      "899:\tlearn: 0.3002297\ttotal: 1.23s\tremaining: 0us\n"
     ]
    },
    {
     "data": {
      "text/plain": [
       "<catboost.core.CatBoostClassifier at 0x3205f7880>"
      ]
     },
     "execution_count": 331,
     "metadata": {},
     "output_type": "execute_result"
    }
   ],
   "source": [
    "train_data = Pool(\n",
    "    data=candidates_train[features],\n",
    "    label=candidates_train[target],\n",
    "    cat_features=cat_features\n",
    ")\n",
    "\n",
    "model = CatBoostClassifier(**catboost_params)\n",
    "\n",
    "model.fit(train_data)"
   ]
  },
  {
   "cell_type": "code",
   "execution_count": 332,
   "metadata": {
    "pycharm": {
     "name": "#%%\n"
    }
   },
   "outputs": [
    {
     "data": {
      "text/html": [
       "<div>\n",
       "<style scoped>\n",
       "    .dataframe tbody tr th:only-of-type {\n",
       "        vertical-align: middle;\n",
       "    }\n",
       "\n",
       "    .dataframe tbody tr th {\n",
       "        vertical-align: top;\n",
       "    }\n",
       "\n",
       "    .dataframe thead th {\n",
       "        text-align: right;\n",
       "    }\n",
       "</style>\n",
       "<table border=\"1\" class=\"dataframe\">\n",
       "  <thead>\n",
       "    <tr style=\"text-align: right;\">\n",
       "      <th></th>\n",
       "      <th>id</th>\n",
       "      <th>rec_id</th>\n",
       "      <th>user_id</th>\n",
       "      <th>item_id</th>\n",
       "      <th>als_score</th>\n",
       "      <th>category_id</th>\n",
       "      <th>parent_id</th>\n",
       "      <th>available</th>\n",
       "      <th>cb_score</th>\n",
       "      <th>rank</th>\n",
       "    </tr>\n",
       "  </thead>\n",
       "  <tbody>\n",
       "    <tr>\n",
       "      <th>0</th>\n",
       "      <td>1</td>\n",
       "      <td>133</td>\n",
       "      <td>2194</td>\n",
       "      <td>446934</td>\n",
       "      <td>5.213431e-21</td>\n",
       "      <td>35</td>\n",
       "      <td>20</td>\n",
       "      <td>1</td>\n",
       "      <td>0.784774</td>\n",
       "      <td>1</td>\n",
       "    </tr>\n",
       "    <tr>\n",
       "      <th>1</th>\n",
       "      <td>2</td>\n",
       "      <td>165</td>\n",
       "      <td>2194</td>\n",
       "      <td>132683</td>\n",
       "      <td>4.136347e-21</td>\n",
       "      <td>421</td>\n",
       "      <td>1424</td>\n",
       "      <td>1</td>\n",
       "      <td>0.739531</td>\n",
       "      <td>2</td>\n",
       "    </tr>\n",
       "    <tr>\n",
       "      <th>2</th>\n",
       "      <td>3</td>\n",
       "      <td>146</td>\n",
       "      <td>2194</td>\n",
       "      <td>188698</td>\n",
       "      <td>4.609898e-21</td>\n",
       "      <td>1679</td>\n",
       "      <td>893</td>\n",
       "      <td>1</td>\n",
       "      <td>0.731675</td>\n",
       "      <td>3</td>\n",
       "    </tr>\n",
       "    <tr>\n",
       "      <th>3</th>\n",
       "      <td>4</td>\n",
       "      <td>197</td>\n",
       "      <td>2194</td>\n",
       "      <td>400946</td>\n",
       "      <td>3.357855e-21</td>\n",
       "      <td>1273</td>\n",
       "      <td>125</td>\n",
       "      <td>1</td>\n",
       "      <td>0.728852</td>\n",
       "      <td>4</td>\n",
       "    </tr>\n",
       "    <tr>\n",
       "      <th>4</th>\n",
       "      <td>5</td>\n",
       "      <td>143</td>\n",
       "      <td>2194</td>\n",
       "      <td>330647</td>\n",
       "      <td>4.728920e-21</td>\n",
       "      <td>1148</td>\n",
       "      <td>1696</td>\n",
       "      <td>1</td>\n",
       "      <td>0.716085</td>\n",
       "      <td>5</td>\n",
       "    </tr>\n",
       "    <tr>\n",
       "      <th>...</th>\n",
       "      <td>...</td>\n",
       "      <td>...</td>\n",
       "      <td>...</td>\n",
       "      <td>...</td>\n",
       "      <td>...</td>\n",
       "      <td>...</td>\n",
       "      <td>...</td>\n",
       "      <td>...</td>\n",
       "      <td>...</td>\n",
       "      <td>...</td>\n",
       "    </tr>\n",
       "    <tr>\n",
       "      <th>6723</th>\n",
       "      <td>6724</td>\n",
       "      <td>35448</td>\n",
       "      <td>1403769</td>\n",
       "      <td>144704</td>\n",
       "      <td>3.130475e-20</td>\n",
       "      <td>242</td>\n",
       "      <td>1531</td>\n",
       "      <td>0</td>\n",
       "      <td>0.020579</td>\n",
       "      <td>96</td>\n",
       "    </tr>\n",
       "    <tr>\n",
       "      <th>6724</th>\n",
       "      <td>6725</td>\n",
       "      <td>35402</td>\n",
       "      <td>1403769</td>\n",
       "      <td>339808</td>\n",
       "      <td>6.985171e-20</td>\n",
       "      <td>1322</td>\n",
       "      <td>252</td>\n",
       "      <td>0</td>\n",
       "      <td>0.015386</td>\n",
       "      <td>97</td>\n",
       "    </tr>\n",
       "    <tr>\n",
       "      <th>6725</th>\n",
       "      <td>6726</td>\n",
       "      <td>35428</td>\n",
       "      <td>1403769</td>\n",
       "      <td>446522</td>\n",
       "      <td>3.924149e-20</td>\n",
       "      <td>471</td>\n",
       "      <td>1368</td>\n",
       "      <td>0</td>\n",
       "      <td>0.004868</td>\n",
       "      <td>98</td>\n",
       "    </tr>\n",
       "    <tr>\n",
       "      <th>6726</th>\n",
       "      <td>6727</td>\n",
       "      <td>35426</td>\n",
       "      <td>1403769</td>\n",
       "      <td>185535</td>\n",
       "      <td>4.033300e-20</td>\n",
       "      <td>486</td>\n",
       "      <td>25</td>\n",
       "      <td>0</td>\n",
       "      <td>0.004447</td>\n",
       "      <td>99</td>\n",
       "    </tr>\n",
       "    <tr>\n",
       "      <th>6727</th>\n",
       "      <td>6728</td>\n",
       "      <td>35452</td>\n",
       "      <td>1403769</td>\n",
       "      <td>165337</td>\n",
       "      <td>3.052693e-20</td>\n",
       "      <td>828</td>\n",
       "      <td>293</td>\n",
       "      <td>0</td>\n",
       "      <td>0.003858</td>\n",
       "      <td>100</td>\n",
       "    </tr>\n",
       "  </tbody>\n",
       "</table>\n",
       "<p>6728 rows × 10 columns</p>\n",
       "</div>"
      ],
      "text/plain": [
       "        id  rec_id  user_id  item_id     als_score  category_id  parent_id  \\\n",
       "0        1     133     2194   446934  5.213431e-21           35         20   \n",
       "1        2     165     2194   132683  4.136347e-21          421       1424   \n",
       "2        3     146     2194   188698  4.609898e-21         1679        893   \n",
       "3        4     197     2194   400946  3.357855e-21         1273        125   \n",
       "4        5     143     2194   330647  4.728920e-21         1148       1696   \n",
       "...    ...     ...      ...      ...           ...          ...        ...   \n",
       "6723  6724   35448  1403769   144704  3.130475e-20          242       1531   \n",
       "6724  6725   35402  1403769   339808  6.985171e-20         1322        252   \n",
       "6725  6726   35428  1403769   446522  3.924149e-20          471       1368   \n",
       "6726  6727   35426  1403769   185535  4.033300e-20          486         25   \n",
       "6727  6728   35452  1403769   165337  3.052693e-20          828        293   \n",
       "\n",
       "      available  cb_score  rank  \n",
       "0             1  0.784774     1  \n",
       "1             1  0.739531     2  \n",
       "2             1  0.731675     3  \n",
       "3             1  0.728852     4  \n",
       "4             1  0.716085     5  \n",
       "...         ...       ...   ...  \n",
       "6723          0  0.020579    96  \n",
       "6724          0  0.015386    97  \n",
       "6725          0  0.004868    98  \n",
       "6726          0  0.004447    99  \n",
       "6727          0  0.003858   100  \n",
       "\n",
       "[6728 rows x 10 columns]"
      ]
     },
     "execution_count": 332,
     "metadata": {},
     "output_type": "execute_result"
    }
   ],
   "source": [
    "inf_data = Pool(data=candidates_inference[features], cat_features=cat_features)\n",
    "predictions = model.predict_proba(inf_data)\n",
    "candidates_inference[\"cb_score\"] = predictions[:, 1]\n",
    "\n",
    "candidates_inference_ranked = candidates_inference.sort_values(\n",
    "    by=[\"user_id\", \"cb_score\"], ascending=[True, False]\n",
    ")\n",
    "\n",
    "candidates_inference_ranked[\"rank\"] = candidates_inference_ranked.groupby(\"user_id\").cumcount() + 1\n",
    "\n",
    "candidates_inference_ranked[\"id\"] = np.arange(1, candidates_inference_ranked.shape[0] + 1)\n",
    "candidates_inference_ranked = candidates_inference_ranked.reset_index(drop=True)\n",
    "candidates_inference_ranked"
   ]
  },
  {
   "cell_type": "code",
   "execution_count": 333,
   "metadata": {
    "pycharm": {
     "name": "#%%\n"
    }
   },
   "outputs": [
    {
     "data": {
      "image/png": "[encoded data removed]",
      "text/plain": [
       "<Figure size 640x480 with 1 Axes>"
      ]
     },
     "metadata": {},
     "output_type": "display_data"
    }
   ],
   "source": [
    "fi = pd.Series(\n",
    "    model.feature_importances_,\n",
    "    index=features,\n",
    "    name=\"fi_final_recs\",\n",
    ").sort_values()\n",
    "\n",
    "fi.plot(kind=\"barh\")\n",
    "plt.title(\"Feature importances (Catboost) - Test 2\")\n",
    "plt.ylabel(\"Feature\")\n",
    "plt.xlabel(\"Importance score\")\n",
    "plt.tight_layout()\n",
    "plt.savefig(f\"{ASSETS}/feature_importances_3.png\")\n",
    "plt.show()"
   ]
  },
  {
   "cell_type": "code",
   "execution_count": 334,
   "metadata": {
    "pycharm": {
     "name": "#%%\n"
    }
   },
   "outputs": [
    {
     "name": "stdout",
     "output_type": "stream",
     "text": [
      "Precision@10 = 0.05200 (5.200%)\n",
      "Recall@10 = 0.01667 (1.667%)\n"
     ]
    },
    {
     "name": "stderr",
     "output_type": "stream",
     "text": [
      "/var/folders/26/jzfnfwpd7zgcvfy170ph67w40000gn/T/ipykernel_82662/2116620511.py:30: FutureWarning: Downcasting object dtype arrays on .fillna, .ffill, .bfill is deprecated and will change in a future version. Call result.infer_objects(copy=False) instead. To opt-in to the future behavior, set `pd.set_option('future.no_silent_downcasting', True)`\n",
      "  events_recs_common[\"gt\"] = events_recs_common[\"gt\"].fillna(False)\n"
     ]
    }
   ],
   "source": [
    "events_recs_for_binary_metric = process_events_recs_for_binary_metrics(\n",
    "    inference_data,\n",
    "    events_test_2,\n",
    "    candidates_inference_ranked.rename(columns={\"cb_score\": \"score\"}),\n",
    "    top_k=10,\n",
    ")\n",
    "\n",
    "precision_at_10_personal, recall_at_10_personal = compute_cls_metrics(events_recs_for_binary_metric)\n",
    "\n",
    "print(f\"Precision@10 = {precision_at_10_personal:.5f} ({precision_at_10_personal:.3%})\")\n",
    "print(f\"Recall@10 = {recall_at_10_personal:.5f} ({recall_at_10_personal:.3%})\")"
   ]
  },
  {
   "cell_type": "code",
   "execution_count": 335,
   "metadata": {
    "pycharm": {
     "name": "#%%\n"
    }
   },
   "outputs": [
    {
     "data": {
      "text/plain": [
       "{'precision_at_10': np.float64(0.051998736557560085),\n",
       " 'recall_at_10': np.float64(0.016670960078914592)}"
      ]
     },
     "execution_count": 335,
     "metadata": {},
     "output_type": "execute_result"
    }
   ],
   "source": [
    "recommendation_metrics = {\n",
    "    \"precision_at_10\": precision_at_10_personal,\n",
    "    \"recall_at_10\": recall_at_10_personal\n",
    "}\n",
    "recommendation_metrics"
   ]
  },
  {
   "cell_type": "code",
   "execution_count": 337,
   "metadata": {
    "pycharm": {
     "name": "#%%\n"
    }
   },
   "outputs": [],
   "source": [
    "candidates_inference_ranked.to_parquet(f\"{ASSETS}/personal_recommendations_3.parquet\")"
   ]
  },
  {
   "cell_type": "code",
   "execution_count": 338,
   "metadata": {
    "pycharm": {
     "name": "#%%\n"
    }
   },
   "outputs": [
    {
     "name": "stderr",
     "output_type": "stream",
     "text": [
      "2025/07/19 21:18:22 WARNING mlflow.models.model: `artifact_path` is deprecated. Please use `name` instead.\n",
      "\u001B[31m2025/07/19 21:18:28 WARNING mlflow.models.model: Model logged without a signature and input example. Please set `input_example` parameter when logging the model to auto infer the model signature.\u001B[0m\n",
      "Registered model 'cb_ranking_model' already exists. Creating a new version of this model...\n",
      "2025/07/19 21:18:34 INFO mlflow.store.model_registry.abstract_store: Waiting up to 60 seconds for model version to finish creation. Model name: cb_ranking_model, version 3\n",
      "Created version '3' of model 'cb_ranking_model'.\n"
     ]
    },
    {
     "name": "stdout",
     "output_type": "stream",
     "text": [
      "🏃 View run recommendations_ranking_v1 at: http://127.0.0.1:5000/#/experiments/1/runs/d292d9e48a5842f8916cbc8047ae0afd\n",
      "🧪 View experiment at: http://127.0.0.1:5000/#/experiments/1\n"
     ]
    }
   ],
   "source": [
    "UN_NAME = \"recommendations_ranking_v2\"\n",
    "REGISTERED_MODEL_NAME = \"cb_ranking_model\"\n",
    "with mlflow.start_run(run_name=RUN_NAME, experiment_id=experiment_id) as run:\n",
    "    \n",
    "    run_id = run.info.run_id\n",
    "    mlflow.log_params(catboost_params)\n",
    "    mlflow.log_metrics(recommendation_metrics)\n",
    "\n",
    "    mlflow.log_artifact(f\"{ASSETS}/personal_recommendations_3.parquet\", \"recommendations\")\n",
    "    mlflow.log_artifact(f\"{ASSETS}/feature_importances_3.png\", \"cb_model\")\n",
    "\n",
    "    model_info = mlflow.catboost.log_model( \n",
    "            registered_model_name=REGISTERED_MODEL_NAME,\n",
    "            cb_model=model,\n",
    "            await_registration_for=60,\n",
    "            artifact_path='models',\n",
    "            pip_requirements=\"../requirements.txt\",\n",
    "    )"
   ]
  },
  {
   "cell_type": "markdown",
   "metadata": {
    "pycharm": {
     "name": "#%% md\n"
    }
   },
   "source": [
    "### 5.4 Выбор лучшей модели"
   ]
  },
  {
   "cell_type": "code",
   "execution_count": 339,
   "metadata": {
    "pycharm": {
     "name": "#%%\n"
    }
   },
   "outputs": [
    {
     "data": {
      "application/vnd.jupyter.widget-view+json": {
       "model_id": "91cf03261ad34e39b620cd4ce9006987",
       "version_major": 2,
       "version_minor": 0
      },
      "text/plain": [
       "Downloading artifacts:   0%|          | 0/5 [00:00<?, ?it/s]"
      ]
     },
     "metadata": {},
     "output_type": "display_data"
    }
   ],
   "source": [
    "best_cb_model = mlflow.catboost.load_model(\n",
    "    model_uri=model_info.model_uri\n",
    ")"
   ]
  },
  {
   "cell_type": "code",
   "execution_count": 341,
   "metadata": {
    "pycharm": {
     "name": "#%%\n"
    }
   },
   "outputs": [
    {
     "data": {
      "text/plain": [
       "{'depth': 4,\n",
       " 'random_seed': 123,\n",
       " 'auto_class_weights': 'Balanced',\n",
       " 'loss_function': 'Logloss',\n",
       " 'learning_rate': 0.01,\n",
       " 'iterations': 900,\n",
       " 'verbose': 200}"
      ]
     },
     "execution_count": 341,
     "metadata": {},
     "output_type": "execute_result"
    }
   ],
   "source": [
    "best_cb_model.get_params()"
   ]
  },
  {
   "cell_type": "code",
   "execution_count": 342,
   "metadata": {
    "pycharm": {
     "name": "#%%\n"
    }
   },
   "outputs": [
    {
     "data": {
      "text/plain": [
       "True"
      ]
     },
     "execution_count": 342,
     "metadata": {},
     "output_type": "execute_result"
    }
   ],
   "source": [
    "best_cb_model.is_fitted()"
   ]
  },
  {
   "cell_type": "code",
   "execution_count": 343,
   "metadata": {
    "pycharm": {
     "name": "#%%\n"
    }
   },
   "outputs": [
    {
     "data": {
      "text/plain": [
       "array([0, 0, 1, ..., 0, 0, 0])"
      ]
     },
     "execution_count": 343,
     "metadata": {},
     "output_type": "execute_result"
    }
   ],
   "source": [
    "best_cb_model.predict(inf_data)"
   ]
  },
  {
   "cell_type": "code",
   "execution_count": 344,
   "metadata": {
    "pycharm": {
     "name": "#%%\n"
    }
   },
   "outputs": [],
   "source": [
    "best_cb_model.save_model(f\"{POSTGRES_DATA}/catboost_model.cbm\")"
   ]
  },
  {
   "cell_type": "code",
   "execution_count": null,
   "metadata": {
    "pycharm": {
     "name": "#%%\n"
    }
   },
   "outputs": [],
   "source": []
  }
 ],
 "metadata": {
  "kernelspec": {
   "display_name": "Python 3 (ipykernel)",
   "language": "python",
   "name": "python3"
  },
  "language_info": {
   "codemirror_mode": {
    "name": "ipython",
    "version": 3
   },
   "file_extension": ".py",
   "mimetype": "text/x-python",
   "name": "python",
   "nbconvert_exporter": "python",
   "pygments_lexer": "ipython3",
   "version": "3.9.10"
  }
 },
 "nbformat": 4,
 "nbformat_minor": 4
}